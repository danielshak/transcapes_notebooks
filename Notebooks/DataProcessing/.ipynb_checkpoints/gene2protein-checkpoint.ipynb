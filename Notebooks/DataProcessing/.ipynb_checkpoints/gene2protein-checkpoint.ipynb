{
 "cells": [
  {
   "cell_type": "markdown",
   "metadata": {},
   "source": [
    "# BEFORE RUNNING TAKE A LOOK AT THE README, import information regarding protein sequence mappings"
   ]
  },
  {
   "cell_type": "markdown",
   "metadata": {},
   "source": [
    "## Use the gene names to parse protein groups tables for the protein identifier. Take the matching gene and corresponding protein name to search for protein sequence"
   ]
  },
  {
   "cell_type": "markdown",
   "metadata": {},
   "source": [
    "Number of isoforms detected in AM protein groups 2 <br>\n",
    "Tmpo <br>\n",
    "Tor1aip2 <br>\n",
    "\n",
    "Number of isoforms detected in AM protein groups 1<br>\n",
    "Tmpo <br>\n",
    "\n"
   ]
  },
  {
   "cell_type": "code",
   "execution_count": 1,
   "metadata": {},
   "outputs": [],
   "source": [
    "import pandas as pd\n",
    "import numpy as np\n",
    "import matplotlib.pyplot as plt\n",
    "import scipy.stats\n",
    "from collections import Counter"
   ]
  },
  {
   "cell_type": "code",
   "execution_count": 2,
   "metadata": {},
   "outputs": [],
   "source": [
    "proteomics_AM_GeneNames = pd.read_csv('../../Data/RawData/PPG_AM_proteomics_covariance_input_0419.tsv',sep='\\t',usecols=[0])\n",
    "proteomics_AM_GeneNames.set_index('Gene.names',inplace=True)\n",
    "proteomics_AT_GeneNames = pd.read_csv('../../Data/RawData/PPG_AT2_proteomics_covariance_input_0419.tsv',sep='\\t',usecols=[0])\n",
    "proteomics_AT_GeneNames.set_index('Gene.names',inplace=True)"
   ]
  },
  {
   "cell_type": "code",
   "execution_count": 3,
   "metadata": {},
   "outputs": [
    {
     "data": {
      "text/plain": [
       "(4017, 0)"
      ]
     },
     "execution_count": 3,
     "metadata": {},
     "output_type": "execute_result"
    }
   ],
   "source": [
    "proteomics_AM_GeneNames.shape"
   ]
  },
  {
   "cell_type": "markdown",
   "metadata": {},
   "source": [
    "### Does not create a unique way in terms of order of generating gene names"
   ]
  },
  {
   "cell_type": "code",
   "execution_count": 6,
   "metadata": {},
   "outputs": [],
   "source": [
    "GeneNames = list(proteomics_AM_GeneNames.index) + list(proteomics_AT_GeneNames.index)\n",
    "GeneNames = set(GeneNames) #list of all unique gene names found in both AM and AT2 proteomics tables"
   ]
  },
  {
   "cell_type": "code",
   "execution_count": 7,
   "metadata": {},
   "outputs": [],
   "source": [
    "AM_imputed = pd.read_csv('../../Data/RawData/PPG_AM_main_imputed.tsv',sep='\\t',usecols=[0,1,2])\n",
    "AM_imputed.set_index('Gene.names',inplace=True)\n",
    "AT2_imputed = pd.read_csv('../../Data/RawData/PPG_AT2_main_imputed.tsv',sep='\\t',usecols=[0,1,2])\n",
    "AT2_imputed.set_index('Gene.names',inplace=True)"
   ]
  },
  {
   "cell_type": "markdown",
   "metadata": {},
   "source": [
    "### For the gene names found in the proteomics table extract protein names from imputed, check for differences in majority protein"
   ]
  },
  {
   "cell_type": "code",
   "execution_count": 8,
   "metadata": {},
   "outputs": [],
   "source": [
    "am_genes = list(set(list(AM_imputed.index))&GeneNames) #overlapping gene names from inputed and protein covariance\n",
    "at2_genes = list(set(list(AT2_imputed.index))&GeneNames) #overlapping gene names from inputed and protein covariance"
   ]
  },
  {
   "cell_type": "code",
   "execution_count": 9,
   "metadata": {},
   "outputs": [],
   "source": [
    "am_mappings = AM_imputed.loc[am_genes,:].copy()\n",
    "am_mappings['Majority.protein.IDs'] = am_mappings['Majority.protein.IDs'].str.split(';').str[0]\n",
    "\n",
    "at2_mappings = AT2_imputed.loc[at2_genes,:].copy()\n",
    "at2_mappings['Majority.protein.IDs'] = at2_mappings['Majority.protein.IDs'].str.split(';').str[0]"
   ]
  },
  {
   "cell_type": "markdown",
   "metadata": {},
   "source": [
    "### shows if there is a different majority protein in the first position between am and at2 cells"
   ]
  },
  {
   "cell_type": "code",
   "execution_count": 10,
   "metadata": {},
   "outputs": [
    {
     "name": "stdout",
     "output_type": "stream",
     "text": [
      "Igkv3-2\n",
      "P01654\n",
      "P03977\n",
      "\n",
      "\n"
     ]
    }
   ],
   "source": [
    "for gene in set(am_mappings.index)&set(at2_mappings.index):\n",
    "    if am_mappings.loc[gene,'Majority.protein.IDs'] != at2_mappings.loc[gene,'Majority.protein.IDs']:\n",
    "        print(gene)\n",
    "        print(am_mappings.loc[gene,'Majority.protein.IDs'])\n",
    "        print(at2_mappings.loc[gene,'Majority.protein.IDs'])\n",
    "        print('\\n')"
   ]
  },
  {
   "cell_type": "markdown",
   "metadata": {},
   "source": [
    "## List below to grab fasta files from uniprot, check that the new list that is generated matches the old one (most likely not)."
   ]
  },
  {
   "cell_type": "code",
   "execution_count": 11,
   "metadata": {},
   "outputs": [],
   "source": [
    "uniprot_names = list(set(am_mappings['Majority.protein.IDs']) | set(at2_mappings['Majority.protein.IDs']))"
   ]
  },
  {
   "cell_type": "code",
   "execution_count": 12,
   "metadata": {},
   "outputs": [],
   "source": [
    "# with open(\"../../Data/ProcessedData/uniprot.txt\",\"w+\")  as fp:\n",
    "#     for name in uniprot_names:\n",
    "#         fp.write(name+'\\n')"
   ]
  },
  {
   "cell_type": "markdown",
   "metadata": {},
   "source": [
    "#### Just use existing file to avoid confusion from noted above"
   ]
  },
  {
   "cell_type": "code",
   "execution_count": 13,
   "metadata": {},
   "outputs": [],
   "source": [
    "with open(\"../../Data/ProcessedData/uniprot.txt\",\"r\")  as fp:\n",
    "    uniprot_names = fp.read().splitlines()"
   ]
  },
  {
   "cell_type": "markdown",
   "metadata": {},
   "source": [
    "### combine fasta file to corresponding protein names"
   ]
  },
  {
   "cell_type": "code",
   "execution_count": 14,
   "metadata": {},
   "outputs": [],
   "source": [
    "with open(\"../../Data/RawData/protein_seq.fasta\",\"r+\") as fp:\n",
    "    sequences = fp.read().splitlines()"
   ]
  },
  {
   "cell_type": "code",
   "execution_count": 15,
   "metadata": {},
   "outputs": [],
   "source": [
    "counter = 0\n",
    "sequence_mappings = {protein: [] for protein in uniprot_names} #initialize dict, protein names as keys and value is a list\n",
    "\n",
    "for line in sequences[1::]: #skip first line\n",
    "    if '>' in line:\n",
    "        counter += 1\n",
    "        continue #immediately goes to next iteration\n",
    "    else:\n",
    "        sequence_mappings[uniprot_names[counter]].append(line)\n",
    "        \n",
    "#concatenate all lists into strings\n",
    "for keys in sequence_mappings.keys():\n",
    "    sequence_mappings[keys] = ''.join(sequence_mappings[keys])"
   ]
  },
  {
   "cell_type": "code",
   "execution_count": 16,
   "metadata": {},
   "outputs": [],
   "source": [
    "#Use sequence mappings to match corresponding sequence to protein\n",
    "at2_mappings['ProteinSequence'] = at2_mappings['Majority.protein.IDs'].map(sequence_mappings)\n",
    "am_mappings['ProteinSequence'] = am_mappings['Majority.protein.IDs'].map(sequence_mappings)"
   ]
  },
  {
   "cell_type": "code",
   "execution_count": 17,
   "metadata": {},
   "outputs": [],
   "source": [
    "#Adding protein length\n",
    "at2_mappings['ProteinLength'] = at2_mappings['ProteinSequence'].str.len()\n",
    "am_mappings['ProteinLength'] = am_mappings['ProteinSequence'].str.len()"
   ]
  },
  {
   "cell_type": "code",
   "execution_count": 18,
   "metadata": {},
   "outputs": [
    {
     "data": {
      "text/html": [
       "<div>\n",
       "<style scoped>\n",
       "    .dataframe tbody tr th:only-of-type {\n",
       "        vertical-align: middle;\n",
       "    }\n",
       "\n",
       "    .dataframe tbody tr th {\n",
       "        vertical-align: top;\n",
       "    }\n",
       "\n",
       "    .dataframe thead th {\n",
       "        text-align: right;\n",
       "    }\n",
       "</style>\n",
       "<table border=\"1\" class=\"dataframe\">\n",
       "  <thead>\n",
       "    <tr style=\"text-align: right;\">\n",
       "      <th></th>\n",
       "      <th>Protein</th>\n",
       "      <th>Majority.protein.IDs</th>\n",
       "      <th>ProteinSequence</th>\n",
       "      <th>ProteinLength</th>\n",
       "    </tr>\n",
       "    <tr>\n",
       "      <th>Gene.names</th>\n",
       "      <th></th>\n",
       "      <th></th>\n",
       "      <th></th>\n",
       "      <th></th>\n",
       "    </tr>\n",
       "  </thead>\n",
       "  <tbody>\n",
       "    <tr>\n",
       "      <td>Agpat3</td>\n",
       "      <td>Q9D517</td>\n",
       "      <td>Q9D517</td>\n",
       "      <td>MGLLAYLKTQFVVHLLIGFVFVVSGLIINFTQLCTLALWPISKHLY...</td>\n",
       "      <td>376</td>\n",
       "    </tr>\n",
       "    <tr>\n",
       "      <td>Rbms1</td>\n",
       "      <td>Q91W59</td>\n",
       "      <td>Q91W59</td>\n",
       "      <td>MGKVWKQQMYPQYATYYYPQYLQAKQSLVPAHPMAPPSPSTTSSNN...</td>\n",
       "      <td>403</td>\n",
       "    </tr>\n",
       "    <tr>\n",
       "      <td>Alkbh5</td>\n",
       "      <td>Q3TSG4</td>\n",
       "      <td>Q3TSG4</td>\n",
       "      <td>MAAASGYTDLREKLKSMTSRDNYKAGSREAAAAAAAAVAAAAAAAA...</td>\n",
       "      <td>395</td>\n",
       "    </tr>\n",
       "    <tr>\n",
       "      <td>H2-D1</td>\n",
       "      <td>P01899;P01897;P01900;P01896;P01895;P14427</td>\n",
       "      <td>P01899</td>\n",
       "      <td>MGAMAPRTLLLLLAAALAPTQTRAGPHSMRYFETAVSRPGLEEPRY...</td>\n",
       "      <td>362</td>\n",
       "    </tr>\n",
       "    <tr>\n",
       "      <td>Prpf4</td>\n",
       "      <td>Q9DAW6</td>\n",
       "      <td>Q9DAW6</td>\n",
       "      <td>MASSRASSTTTKTKAPDDLVAPVVKKPHIYYGSLEEKERERLAKGE...</td>\n",
       "      <td>521</td>\n",
       "    </tr>\n",
       "  </tbody>\n",
       "</table>\n",
       "</div>"
      ],
      "text/plain": [
       "                                              Protein Majority.protein.IDs  \\\n",
       "Gene.names                                                                   \n",
       "Agpat3                                         Q9D517               Q9D517   \n",
       "Rbms1                                          Q91W59               Q91W59   \n",
       "Alkbh5                                         Q3TSG4               Q3TSG4   \n",
       "H2-D1       P01899;P01897;P01900;P01896;P01895;P14427               P01899   \n",
       "Prpf4                                          Q9DAW6               Q9DAW6   \n",
       "\n",
       "                                              ProteinSequence  ProteinLength  \n",
       "Gene.names                                                                    \n",
       "Agpat3      MGLLAYLKTQFVVHLLIGFVFVVSGLIINFTQLCTLALWPISKHLY...            376  \n",
       "Rbms1       MGKVWKQQMYPQYATYYYPQYLQAKQSLVPAHPMAPPSPSTTSSNN...            403  \n",
       "Alkbh5      MAAASGYTDLREKLKSMTSRDNYKAGSREAAAAAAAAVAAAAAAAA...            395  \n",
       "H2-D1       MGAMAPRTLLLLLAAALAPTQTRAGPHSMRYFETAVSRPGLEEPRY...            362  \n",
       "Prpf4       MASSRASSTTTKTKAPDDLVAPVVKKPHIYYGSLEEKERERLAKGE...            521  "
      ]
     },
     "execution_count": 18,
     "metadata": {},
     "output_type": "execute_result"
    }
   ],
   "source": [
    "at2_mappings.head()"
   ]
  },
  {
   "cell_type": "code",
   "execution_count": 19,
   "metadata": {},
   "outputs": [
    {
     "data": {
      "text/plain": [
       "Protein                                                            Q8R3N6\n",
       "Majority.protein.IDs                                               Q8R3N6\n",
       "ProteinSequence         MSPTPALFSLPEARTRFTKSTREALNNKNIKPLLTAFSQLPGSENE...\n",
       "ProteinLength                                                         657\n",
       "Name: Thoc1, dtype: object"
      ]
     },
     "execution_count": 19,
     "metadata": {},
     "output_type": "execute_result"
    }
   ],
   "source": [
    "at2_mappings.loc['Thoc1']"
   ]
  },
  {
   "cell_type": "code",
   "execution_count": 16,
   "metadata": {},
   "outputs": [],
   "source": [
    "# at2_mappings.to_csv('../../Data/ProcessedData/AT2_SeqMappings.tsv',sep='\\t')\n",
    "# am_mappings.to_csv('../../Data/ProcessedData/AM_SeqMappings.tsv',sep='\\t')"
   ]
  }
 ],
 "metadata": {
  "kernelspec": {
   "display_name": "Python 3",
   "language": "python",
   "name": "python3"
  },
  "language_info": {
   "codemirror_mode": {
    "name": "ipython",
    "version": 3
   },
   "file_extension": ".py",
   "mimetype": "text/x-python",
   "name": "python",
   "nbconvert_exporter": "python",
   "pygments_lexer": "ipython3",
   "version": "3.7.3"
  }
 },
 "nbformat": 4,
 "nbformat_minor": 2
}
