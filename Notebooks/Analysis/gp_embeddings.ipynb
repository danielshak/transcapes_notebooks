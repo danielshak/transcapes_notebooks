{
 "cells": [
  {
   "cell_type": "code",
   "execution_count": 1,
   "metadata": {},
   "outputs": [],
   "source": [
    "import pandas as pd\n",
    "import numpy as np\n",
    "import scipy.stats\n",
    "import matplotlib.pyplot as plt\n",
    "import GPy\n",
    "from sklearn.metrics import mean_squared_error\n",
    "from sklearn.model_selection import train_test_split\n",
    "import pickle\n",
    "import time\n",
    "\n",
    "SEED = 0\n",
    "\n",
    "AT2 = ['AT2_04M_F0','AT2_04M_F10','AT2_18M_F0','AT2_18M_F10']\n",
    "AM = ['AM_04M_F0','AM_04M_F10','AM_18M_F0','AM_18M_F10']\n",
    "cell_lines = AT2+AM"
   ]
  },
  {
   "cell_type": "code",
   "execution_count": 2,
   "metadata": {},
   "outputs": [
    {
     "ename": "FileNotFoundError",
     "evalue": "[Errno 2] No such file or directory: 'rna_protein_embeddings.pkl'",
     "output_type": "error",
     "traceback": [
      "\u001b[0;31m---------------------------------------------------------------------------\u001b[0m",
      "\u001b[0;31mFileNotFoundError\u001b[0m                         Traceback (most recent call last)",
      "\u001b[0;32m<ipython-input-2-42ba9bfe75bb>\u001b[0m in \u001b[0;36m<module>\u001b[0;34m\u001b[0m\n\u001b[0;32m----> 1\u001b[0;31m \u001b[0;32mwith\u001b[0m \u001b[0mopen\u001b[0m\u001b[0;34m(\u001b[0m\u001b[0;34m'rna_protein_embeddings.pkl'\u001b[0m\u001b[0;34m,\u001b[0m\u001b[0;34m'rb'\u001b[0m\u001b[0;34m)\u001b[0m \u001b[0;32mas\u001b[0m \u001b[0mfile\u001b[0m\u001b[0;34m:\u001b[0m\u001b[0;34m\u001b[0m\u001b[0;34m\u001b[0m\u001b[0m\n\u001b[0m\u001b[1;32m      2\u001b[0m     \u001b[0mrna_prot_embed\u001b[0m \u001b[0;34m=\u001b[0m \u001b[0mpickle\u001b[0m\u001b[0;34m.\u001b[0m\u001b[0mload\u001b[0m\u001b[0;34m(\u001b[0m\u001b[0mfile\u001b[0m\u001b[0;34m)\u001b[0m\u001b[0;34m\u001b[0m\u001b[0;34m\u001b[0m\u001b[0m\n",
      "\u001b[0;31mFileNotFoundError\u001b[0m: [Errno 2] No such file or directory: 'rna_protein_embeddings.pkl'"
     ]
    }
   ],
   "source": [
    "with open('rna_protein_embeddings.pkl','rb') as file:\n",
    "    rna_prot_embed = pickle.load(file)"
   ]
  },
  {
   "cell_type": "code",
   "execution_count": 1,
   "metadata": {},
   "outputs": [
    {
     "ename": "NameError",
     "evalue": "name 'rna_prot_embed' is not defined",
     "output_type": "error",
     "traceback": [
      "\u001b[0;31m---------------------------------------------------------------------------\u001b[0m",
      "\u001b[0;31mNameError\u001b[0m                                 Traceback (most recent call last)",
      "\u001b[0;32m<ipython-input-1-d21a2c1ab9c1>\u001b[0m in \u001b[0;36m<module>\u001b[0;34m\u001b[0m\n\u001b[0;32m----> 1\u001b[0;31m \u001b[0mrna_prot_embed\u001b[0m\u001b[0;34m[\u001b[0m\u001b[0mcell_lines\u001b[0m\u001b[0;34m[\u001b[0m\u001b[0;36m0\u001b[0m\u001b[0;34m]\u001b[0m\u001b[0;34m]\u001b[0m\u001b[0;34m\u001b[0m\u001b[0;34m\u001b[0m\u001b[0m\n\u001b[0m",
      "\u001b[0;31mNameError\u001b[0m: name 'rna_prot_embed' is not defined"
     ]
    }
   ],
   "source": [
    "rna_prot_embed[cell_lines[0]]"
   ]
  },
  {
   "cell_type": "code",
   "execution_count": 5,
   "metadata": {},
   "outputs": [
    {
     "data": {
      "text/html": [
       "<div>\n",
       "<style scoped>\n",
       "    .dataframe tbody tr th:only-of-type {\n",
       "        vertical-align: middle;\n",
       "    }\n",
       "\n",
       "    .dataframe tbody tr th {\n",
       "        vertical-align: top;\n",
       "    }\n",
       "\n",
       "    .dataframe thead th {\n",
       "        text-align: right;\n",
       "    }\n",
       "</style>\n",
       "<table border=\"1\" class=\"dataframe\">\n",
       "  <thead>\n",
       "    <tr style=\"text-align: right;\">\n",
       "      <th></th>\n",
       "      <th></th>\n",
       "      <th></th>\n",
       "      <th>mRNA_TMM</th>\n",
       "      <th>ProteinAUC</th>\n",
       "      <th>ProteinLength</th>\n",
       "      <th>0</th>\n",
       "      <th>1</th>\n",
       "      <th>2</th>\n",
       "      <th>3</th>\n",
       "      <th>4</th>\n",
       "      <th>5</th>\n",
       "      <th>6</th>\n",
       "      <th>...</th>\n",
       "      <th>54</th>\n",
       "      <th>55</th>\n",
       "      <th>56</th>\n",
       "      <th>57</th>\n",
       "      <th>58</th>\n",
       "      <th>59</th>\n",
       "      <th>60</th>\n",
       "      <th>61</th>\n",
       "      <th>62</th>\n",
       "      <th>63</th>\n",
       "    </tr>\n",
       "    <tr>\n",
       "      <th>Gene.names</th>\n",
       "      <th>Majority.protein.IDs</th>\n",
       "      <th>cell</th>\n",
       "      <th></th>\n",
       "      <th></th>\n",
       "      <th></th>\n",
       "      <th></th>\n",
       "      <th></th>\n",
       "      <th></th>\n",
       "      <th></th>\n",
       "      <th></th>\n",
       "      <th></th>\n",
       "      <th></th>\n",
       "      <th></th>\n",
       "      <th></th>\n",
       "      <th></th>\n",
       "      <th></th>\n",
       "      <th></th>\n",
       "      <th></th>\n",
       "      <th></th>\n",
       "      <th></th>\n",
       "      <th></th>\n",
       "      <th></th>\n",
       "      <th></th>\n",
       "    </tr>\n",
       "  </thead>\n",
       "  <tbody>\n",
       "    <tr>\n",
       "      <td>Gnai3</td>\n",
       "      <td>Q9DC51</td>\n",
       "      <td>AT2_04M_F10</td>\n",
       "      <td>156.783470</td>\n",
       "      <td>4.696775e+07</td>\n",
       "      <td>354</td>\n",
       "      <td>-0.123134</td>\n",
       "      <td>0.126303</td>\n",
       "      <td>-0.092475</td>\n",
       "      <td>-0.969833</td>\n",
       "      <td>-0.005820</td>\n",
       "      <td>-0.057672</td>\n",
       "      <td>0.107903</td>\n",
       "      <td>...</td>\n",
       "      <td>0.137047</td>\n",
       "      <td>0.008167</td>\n",
       "      <td>-0.088351</td>\n",
       "      <td>-0.018563</td>\n",
       "      <td>-0.036717</td>\n",
       "      <td>0.443771</td>\n",
       "      <td>-0.123508</td>\n",
       "      <td>-0.036990</td>\n",
       "      <td>0.424119</td>\n",
       "      <td>0.014253</td>\n",
       "    </tr>\n",
       "    <tr>\n",
       "      <td>Cox5a</td>\n",
       "      <td>P12787</td>\n",
       "      <td>AT2_04M_F10</td>\n",
       "      <td>51.178770</td>\n",
       "      <td>8.007420e+08</td>\n",
       "      <td>146</td>\n",
       "      <td>0.014350</td>\n",
       "      <td>0.121865</td>\n",
       "      <td>-0.062778</td>\n",
       "      <td>-0.984908</td>\n",
       "      <td>-0.017123</td>\n",
       "      <td>-0.065598</td>\n",
       "      <td>0.056624</td>\n",
       "      <td>...</td>\n",
       "      <td>0.118580</td>\n",
       "      <td>0.009217</td>\n",
       "      <td>0.136575</td>\n",
       "      <td>-0.059452</td>\n",
       "      <td>0.019777</td>\n",
       "      <td>0.423250</td>\n",
       "      <td>-0.063350</td>\n",
       "      <td>-0.025512</td>\n",
       "      <td>0.384949</td>\n",
       "      <td>0.015145</td>\n",
       "    </tr>\n",
       "    <tr>\n",
       "      <td>Dlat</td>\n",
       "      <td>Q8BMF4</td>\n",
       "      <td>AT2_04M_F10</td>\n",
       "      <td>54.109481</td>\n",
       "      <td>1.148470e+08</td>\n",
       "      <td>642</td>\n",
       "      <td>-0.026584</td>\n",
       "      <td>0.109657</td>\n",
       "      <td>-0.081645</td>\n",
       "      <td>-0.963428</td>\n",
       "      <td>-0.030461</td>\n",
       "      <td>-0.162972</td>\n",
       "      <td>0.066631</td>\n",
       "      <td>...</td>\n",
       "      <td>0.138321</td>\n",
       "      <td>0.016578</td>\n",
       "      <td>0.122076</td>\n",
       "      <td>-0.143501</td>\n",
       "      <td>0.013228</td>\n",
       "      <td>0.302376</td>\n",
       "      <td>-0.168613</td>\n",
       "      <td>-0.036329</td>\n",
       "      <td>0.351341</td>\n",
       "      <td>-0.014426</td>\n",
       "    </tr>\n",
       "    <tr>\n",
       "      <td>Trim25</td>\n",
       "      <td>Q61510</td>\n",
       "      <td>AT2_04M_F10</td>\n",
       "      <td>187.350859</td>\n",
       "      <td>2.650903e+07</td>\n",
       "      <td>634</td>\n",
       "      <td>-0.071294</td>\n",
       "      <td>0.072918</td>\n",
       "      <td>-0.114657</td>\n",
       "      <td>-0.975195</td>\n",
       "      <td>-0.041038</td>\n",
       "      <td>-0.088154</td>\n",
       "      <td>0.031005</td>\n",
       "      <td>...</td>\n",
       "      <td>0.156678</td>\n",
       "      <td>0.041194</td>\n",
       "      <td>0.020387</td>\n",
       "      <td>-0.059393</td>\n",
       "      <td>-0.025968</td>\n",
       "      <td>0.263505</td>\n",
       "      <td>-0.113366</td>\n",
       "      <td>-0.038602</td>\n",
       "      <td>0.264744</td>\n",
       "      <td>0.012638</td>\n",
       "    </tr>\n",
       "    <tr>\n",
       "      <td>Hddc2</td>\n",
       "      <td>Q3SXD3</td>\n",
       "      <td>AT2_04M_F10</td>\n",
       "      <td>2.989516</td>\n",
       "      <td>1.007933e+07</td>\n",
       "      <td>199</td>\n",
       "      <td>-0.060917</td>\n",
       "      <td>0.106940</td>\n",
       "      <td>-0.081759</td>\n",
       "      <td>-0.987541</td>\n",
       "      <td>-0.041938</td>\n",
       "      <td>-0.047574</td>\n",
       "      <td>0.066603</td>\n",
       "      <td>...</td>\n",
       "      <td>0.117265</td>\n",
       "      <td>0.017000</td>\n",
       "      <td>0.048996</td>\n",
       "      <td>-0.060047</td>\n",
       "      <td>0.028098</td>\n",
       "      <td>0.415346</td>\n",
       "      <td>-0.117043</td>\n",
       "      <td>-0.002944</td>\n",
       "      <td>0.332298</td>\n",
       "      <td>0.043638</td>\n",
       "    </tr>\n",
       "    <tr>\n",
       "      <td>...</td>\n",
       "      <td>...</td>\n",
       "      <td>...</td>\n",
       "      <td>...</td>\n",
       "      <td>...</td>\n",
       "      <td>...</td>\n",
       "      <td>...</td>\n",
       "      <td>...</td>\n",
       "      <td>...</td>\n",
       "      <td>...</td>\n",
       "      <td>...</td>\n",
       "      <td>...</td>\n",
       "      <td>...</td>\n",
       "      <td>...</td>\n",
       "      <td>...</td>\n",
       "      <td>...</td>\n",
       "      <td>...</td>\n",
       "      <td>...</td>\n",
       "      <td>...</td>\n",
       "      <td>...</td>\n",
       "      <td>...</td>\n",
       "      <td>...</td>\n",
       "      <td>...</td>\n",
       "      <td>...</td>\n",
       "    </tr>\n",
       "    <tr>\n",
       "      <td>H1f0</td>\n",
       "      <td>P10922</td>\n",
       "      <td>AT2_04M_F10</td>\n",
       "      <td>212.321470</td>\n",
       "      <td>5.482941e+08</td>\n",
       "      <td>194</td>\n",
       "      <td>-0.225748</td>\n",
       "      <td>0.043310</td>\n",
       "      <td>-0.087645</td>\n",
       "      <td>-0.958192</td>\n",
       "      <td>-0.016585</td>\n",
       "      <td>-0.014059</td>\n",
       "      <td>0.020144</td>\n",
       "      <td>...</td>\n",
       "      <td>0.172665</td>\n",
       "      <td>-0.047817</td>\n",
       "      <td>0.058236</td>\n",
       "      <td>-0.358728</td>\n",
       "      <td>0.072748</td>\n",
       "      <td>0.262859</td>\n",
       "      <td>-0.376427</td>\n",
       "      <td>-0.060751</td>\n",
       "      <td>0.199526</td>\n",
       "      <td>0.070703</td>\n",
       "    </tr>\n",
       "    <tr>\n",
       "      <td>Psmb9</td>\n",
       "      <td>P28076</td>\n",
       "      <td>AT2_04M_F10</td>\n",
       "      <td>37.632818</td>\n",
       "      <td>5.021474e+07</td>\n",
       "      <td>219</td>\n",
       "      <td>0.008655</td>\n",
       "      <td>0.161174</td>\n",
       "      <td>-0.095418</td>\n",
       "      <td>-0.960228</td>\n",
       "      <td>-0.001615</td>\n",
       "      <td>-0.221773</td>\n",
       "      <td>0.072014</td>\n",
       "      <td>...</td>\n",
       "      <td>0.086866</td>\n",
       "      <td>0.005392</td>\n",
       "      <td>0.017854</td>\n",
       "      <td>-0.061520</td>\n",
       "      <td>-0.005442</td>\n",
       "      <td>0.363715</td>\n",
       "      <td>-0.135031</td>\n",
       "      <td>-0.037465</td>\n",
       "      <td>0.440352</td>\n",
       "      <td>-0.036961</td>\n",
       "    </tr>\n",
       "    <tr>\n",
       "      <td>Sowahc</td>\n",
       "      <td>Q8C0J6</td>\n",
       "      <td>AT2_04M_F10</td>\n",
       "      <td>3.325907</td>\n",
       "      <td>1.794102e+07</td>\n",
       "      <td>512</td>\n",
       "      <td>-0.048821</td>\n",
       "      <td>0.106069</td>\n",
       "      <td>-0.109359</td>\n",
       "      <td>-0.970515</td>\n",
       "      <td>-0.047805</td>\n",
       "      <td>-0.196038</td>\n",
       "      <td>0.059995</td>\n",
       "      <td>...</td>\n",
       "      <td>0.202381</td>\n",
       "      <td>0.039076</td>\n",
       "      <td>0.152250</td>\n",
       "      <td>-0.110805</td>\n",
       "      <td>0.024184</td>\n",
       "      <td>0.343852</td>\n",
       "      <td>-0.138716</td>\n",
       "      <td>-0.007629</td>\n",
       "      <td>0.205146</td>\n",
       "      <td>0.000572</td>\n",
       "    </tr>\n",
       "    <tr>\n",
       "      <td>Rpl24</td>\n",
       "      <td>Q8BP67</td>\n",
       "      <td>AT2_04M_F10</td>\n",
       "      <td>49.216276</td>\n",
       "      <td>1.476442e+08</td>\n",
       "      <td>157</td>\n",
       "      <td>-0.164027</td>\n",
       "      <td>0.091068</td>\n",
       "      <td>-0.073394</td>\n",
       "      <td>-0.979837</td>\n",
       "      <td>-0.027851</td>\n",
       "      <td>0.010967</td>\n",
       "      <td>0.033350</td>\n",
       "      <td>...</td>\n",
       "      <td>0.139396</td>\n",
       "      <td>-0.004037</td>\n",
       "      <td>-0.012521</td>\n",
       "      <td>-0.150437</td>\n",
       "      <td>0.030019</td>\n",
       "      <td>0.362807</td>\n",
       "      <td>-0.173108</td>\n",
       "      <td>0.020901</td>\n",
       "      <td>0.328294</td>\n",
       "      <td>0.055279</td>\n",
       "    </tr>\n",
       "    <tr>\n",
       "      <td>Zc3h11a</td>\n",
       "      <td>Q6NZF1</td>\n",
       "      <td>AT2_04M_F10</td>\n",
       "      <td>12.163360</td>\n",
       "      <td>8.438244e+06</td>\n",
       "      <td>792</td>\n",
       "      <td>-0.097147</td>\n",
       "      <td>0.051695</td>\n",
       "      <td>-0.100971</td>\n",
       "      <td>-0.981562</td>\n",
       "      <td>-0.062780</td>\n",
       "      <td>-0.201319</td>\n",
       "      <td>-0.015043</td>\n",
       "      <td>...</td>\n",
       "      <td>0.225235</td>\n",
       "      <td>0.033122</td>\n",
       "      <td>0.167255</td>\n",
       "      <td>-0.241468</td>\n",
       "      <td>0.025199</td>\n",
       "      <td>0.262255</td>\n",
       "      <td>-0.118482</td>\n",
       "      <td>-0.026480</td>\n",
       "      <td>0.205547</td>\n",
       "      <td>0.030391</td>\n",
       "    </tr>\n",
       "  </tbody>\n",
       "</table>\n",
       "<p>3573 rows × 67 columns</p>\n",
       "</div>"
      ],
      "text/plain": [
       "                                               mRNA_TMM    ProteinAUC  \\\n",
       "Gene.names Majority.protein.IDs cell                                    \n",
       "Gnai3      Q9DC51               AT2_04M_F10  156.783470  4.696775e+07   \n",
       "Cox5a      P12787               AT2_04M_F10   51.178770  8.007420e+08   \n",
       "Dlat       Q8BMF4               AT2_04M_F10   54.109481  1.148470e+08   \n",
       "Trim25     Q61510               AT2_04M_F10  187.350859  2.650903e+07   \n",
       "Hddc2      Q3SXD3               AT2_04M_F10    2.989516  1.007933e+07   \n",
       "...                                                 ...           ...   \n",
       "H1f0       P10922               AT2_04M_F10  212.321470  5.482941e+08   \n",
       "Psmb9      P28076               AT2_04M_F10   37.632818  5.021474e+07   \n",
       "Sowahc     Q8C0J6               AT2_04M_F10    3.325907  1.794102e+07   \n",
       "Rpl24      Q8BP67               AT2_04M_F10   49.216276  1.476442e+08   \n",
       "Zc3h11a    Q6NZF1               AT2_04M_F10   12.163360  8.438244e+06   \n",
       "\n",
       "                                             ProteinLength         0  \\\n",
       "Gene.names Majority.protein.IDs cell                                   \n",
       "Gnai3      Q9DC51               AT2_04M_F10            354 -0.123134   \n",
       "Cox5a      P12787               AT2_04M_F10            146  0.014350   \n",
       "Dlat       Q8BMF4               AT2_04M_F10            642 -0.026584   \n",
       "Trim25     Q61510               AT2_04M_F10            634 -0.071294   \n",
       "Hddc2      Q3SXD3               AT2_04M_F10            199 -0.060917   \n",
       "...                                                    ...       ...   \n",
       "H1f0       P10922               AT2_04M_F10            194 -0.225748   \n",
       "Psmb9      P28076               AT2_04M_F10            219  0.008655   \n",
       "Sowahc     Q8C0J6               AT2_04M_F10            512 -0.048821   \n",
       "Rpl24      Q8BP67               AT2_04M_F10            157 -0.164027   \n",
       "Zc3h11a    Q6NZF1               AT2_04M_F10            792 -0.097147   \n",
       "\n",
       "                                                    1         2         3  \\\n",
       "Gene.names Majority.protein.IDs cell                                        \n",
       "Gnai3      Q9DC51               AT2_04M_F10  0.126303 -0.092475 -0.969833   \n",
       "Cox5a      P12787               AT2_04M_F10  0.121865 -0.062778 -0.984908   \n",
       "Dlat       Q8BMF4               AT2_04M_F10  0.109657 -0.081645 -0.963428   \n",
       "Trim25     Q61510               AT2_04M_F10  0.072918 -0.114657 -0.975195   \n",
       "Hddc2      Q3SXD3               AT2_04M_F10  0.106940 -0.081759 -0.987541   \n",
       "...                                               ...       ...       ...   \n",
       "H1f0       P10922               AT2_04M_F10  0.043310 -0.087645 -0.958192   \n",
       "Psmb9      P28076               AT2_04M_F10  0.161174 -0.095418 -0.960228   \n",
       "Sowahc     Q8C0J6               AT2_04M_F10  0.106069 -0.109359 -0.970515   \n",
       "Rpl24      Q8BP67               AT2_04M_F10  0.091068 -0.073394 -0.979837   \n",
       "Zc3h11a    Q6NZF1               AT2_04M_F10  0.051695 -0.100971 -0.981562   \n",
       "\n",
       "                                                    4         5         6  \\\n",
       "Gene.names Majority.protein.IDs cell                                        \n",
       "Gnai3      Q9DC51               AT2_04M_F10 -0.005820 -0.057672  0.107903   \n",
       "Cox5a      P12787               AT2_04M_F10 -0.017123 -0.065598  0.056624   \n",
       "Dlat       Q8BMF4               AT2_04M_F10 -0.030461 -0.162972  0.066631   \n",
       "Trim25     Q61510               AT2_04M_F10 -0.041038 -0.088154  0.031005   \n",
       "Hddc2      Q3SXD3               AT2_04M_F10 -0.041938 -0.047574  0.066603   \n",
       "...                                               ...       ...       ...   \n",
       "H1f0       P10922               AT2_04M_F10 -0.016585 -0.014059  0.020144   \n",
       "Psmb9      P28076               AT2_04M_F10 -0.001615 -0.221773  0.072014   \n",
       "Sowahc     Q8C0J6               AT2_04M_F10 -0.047805 -0.196038  0.059995   \n",
       "Rpl24      Q8BP67               AT2_04M_F10 -0.027851  0.010967  0.033350   \n",
       "Zc3h11a    Q6NZF1               AT2_04M_F10 -0.062780 -0.201319 -0.015043   \n",
       "\n",
       "                                             ...        54        55  \\\n",
       "Gene.names Majority.protein.IDs cell         ...                       \n",
       "Gnai3      Q9DC51               AT2_04M_F10  ...  0.137047  0.008167   \n",
       "Cox5a      P12787               AT2_04M_F10  ...  0.118580  0.009217   \n",
       "Dlat       Q8BMF4               AT2_04M_F10  ...  0.138321  0.016578   \n",
       "Trim25     Q61510               AT2_04M_F10  ...  0.156678  0.041194   \n",
       "Hddc2      Q3SXD3               AT2_04M_F10  ...  0.117265  0.017000   \n",
       "...                                          ...       ...       ...   \n",
       "H1f0       P10922               AT2_04M_F10  ...  0.172665 -0.047817   \n",
       "Psmb9      P28076               AT2_04M_F10  ...  0.086866  0.005392   \n",
       "Sowahc     Q8C0J6               AT2_04M_F10  ...  0.202381  0.039076   \n",
       "Rpl24      Q8BP67               AT2_04M_F10  ...  0.139396 -0.004037   \n",
       "Zc3h11a    Q6NZF1               AT2_04M_F10  ...  0.225235  0.033122   \n",
       "\n",
       "                                                   56        57        58  \\\n",
       "Gene.names Majority.protein.IDs cell                                        \n",
       "Gnai3      Q9DC51               AT2_04M_F10 -0.088351 -0.018563 -0.036717   \n",
       "Cox5a      P12787               AT2_04M_F10  0.136575 -0.059452  0.019777   \n",
       "Dlat       Q8BMF4               AT2_04M_F10  0.122076 -0.143501  0.013228   \n",
       "Trim25     Q61510               AT2_04M_F10  0.020387 -0.059393 -0.025968   \n",
       "Hddc2      Q3SXD3               AT2_04M_F10  0.048996 -0.060047  0.028098   \n",
       "...                                               ...       ...       ...   \n",
       "H1f0       P10922               AT2_04M_F10  0.058236 -0.358728  0.072748   \n",
       "Psmb9      P28076               AT2_04M_F10  0.017854 -0.061520 -0.005442   \n",
       "Sowahc     Q8C0J6               AT2_04M_F10  0.152250 -0.110805  0.024184   \n",
       "Rpl24      Q8BP67               AT2_04M_F10 -0.012521 -0.150437  0.030019   \n",
       "Zc3h11a    Q6NZF1               AT2_04M_F10  0.167255 -0.241468  0.025199   \n",
       "\n",
       "                                                   59        60        61  \\\n",
       "Gene.names Majority.protein.IDs cell                                        \n",
       "Gnai3      Q9DC51               AT2_04M_F10  0.443771 -0.123508 -0.036990   \n",
       "Cox5a      P12787               AT2_04M_F10  0.423250 -0.063350 -0.025512   \n",
       "Dlat       Q8BMF4               AT2_04M_F10  0.302376 -0.168613 -0.036329   \n",
       "Trim25     Q61510               AT2_04M_F10  0.263505 -0.113366 -0.038602   \n",
       "Hddc2      Q3SXD3               AT2_04M_F10  0.415346 -0.117043 -0.002944   \n",
       "...                                               ...       ...       ...   \n",
       "H1f0       P10922               AT2_04M_F10  0.262859 -0.376427 -0.060751   \n",
       "Psmb9      P28076               AT2_04M_F10  0.363715 -0.135031 -0.037465   \n",
       "Sowahc     Q8C0J6               AT2_04M_F10  0.343852 -0.138716 -0.007629   \n",
       "Rpl24      Q8BP67               AT2_04M_F10  0.362807 -0.173108  0.020901   \n",
       "Zc3h11a    Q6NZF1               AT2_04M_F10  0.262255 -0.118482 -0.026480   \n",
       "\n",
       "                                                   62        63  \n",
       "Gene.names Majority.protein.IDs cell                             \n",
       "Gnai3      Q9DC51               AT2_04M_F10  0.424119  0.014253  \n",
       "Cox5a      P12787               AT2_04M_F10  0.384949  0.015145  \n",
       "Dlat       Q8BMF4               AT2_04M_F10  0.351341 -0.014426  \n",
       "Trim25     Q61510               AT2_04M_F10  0.264744  0.012638  \n",
       "Hddc2      Q3SXD3               AT2_04M_F10  0.332298  0.043638  \n",
       "...                                               ...       ...  \n",
       "H1f0       P10922               AT2_04M_F10  0.199526  0.070703  \n",
       "Psmb9      P28076               AT2_04M_F10  0.440352 -0.036961  \n",
       "Sowahc     Q8C0J6               AT2_04M_F10  0.205146  0.000572  \n",
       "Rpl24      Q8BP67               AT2_04M_F10  0.328294  0.055279  \n",
       "Zc3h11a    Q6NZF1               AT2_04M_F10  0.205547  0.030391  \n",
       "\n",
       "[3573 rows x 67 columns]"
      ]
     },
     "execution_count": 5,
     "metadata": {},
     "output_type": "execute_result"
    }
   ],
   "source": [
    "rna_prot_embed[cell_lines[1]]"
   ]
  },
  {
   "cell_type": "markdown",
   "metadata": {},
   "source": [
    "###  GPy setup for proteins with their embeddings\n",
    "* train/test for predictive testing?\n",
    "* log transform of data? if log transfrom what is the correct way to evaulate performance and back-transformation?\n",
    "* mean center and divide by std"
   ]
  },
  {
   "cell_type": "code",
   "execution_count": 3,
   "metadata": {},
   "outputs": [],
   "source": [
    "def zscore(train_df):\n",
    "    assert isinstance(train_df,pd.DataFrame)\n",
    "    means = train_df.mean(axis=0)\n",
    "    stds = train_df.std(axis=0)\n",
    "    zscored = (train_df-means)/stds\n",
    "    return zscored, means, stds"
   ]
  },
  {
   "cell_type": "markdown",
   "metadata": {},
   "source": [
    "#### Train/test split and log2(x+1) transform on mRNA, protein and protein length"
   ]
  },
  {
   "cell_type": "code",
   "execution_count": 122,
   "metadata": {},
   "outputs": [
    {
     "data": {
      "text/html": [
       "<div>\n",
       "<style scoped>\n",
       "    .dataframe tbody tr th:only-of-type {\n",
       "        vertical-align: middle;\n",
       "    }\n",
       "\n",
       "    .dataframe tbody tr th {\n",
       "        vertical-align: top;\n",
       "    }\n",
       "\n",
       "    .dataframe thead th {\n",
       "        text-align: right;\n",
       "    }\n",
       "</style>\n",
       "<table border=\"1\" class=\"dataframe\">\n",
       "  <thead>\n",
       "    <tr style=\"text-align: right;\">\n",
       "      <th></th>\n",
       "      <th></th>\n",
       "      <th></th>\n",
       "      <th>mRNA_TMM</th>\n",
       "      <th>ProteinAUC</th>\n",
       "      <th>ProteinLength</th>\n",
       "      <th>0</th>\n",
       "      <th>1</th>\n",
       "      <th>2</th>\n",
       "      <th>3</th>\n",
       "      <th>4</th>\n",
       "      <th>5</th>\n",
       "      <th>6</th>\n",
       "      <th>...</th>\n",
       "      <th>54</th>\n",
       "      <th>55</th>\n",
       "      <th>56</th>\n",
       "      <th>57</th>\n",
       "      <th>58</th>\n",
       "      <th>59</th>\n",
       "      <th>60</th>\n",
       "      <th>61</th>\n",
       "      <th>62</th>\n",
       "      <th>63</th>\n",
       "    </tr>\n",
       "    <tr>\n",
       "      <th>Gene.names</th>\n",
       "      <th>Majority.protein.IDs</th>\n",
       "      <th>cell</th>\n",
       "      <th></th>\n",
       "      <th></th>\n",
       "      <th></th>\n",
       "      <th></th>\n",
       "      <th></th>\n",
       "      <th></th>\n",
       "      <th></th>\n",
       "      <th></th>\n",
       "      <th></th>\n",
       "      <th></th>\n",
       "      <th></th>\n",
       "      <th></th>\n",
       "      <th></th>\n",
       "      <th></th>\n",
       "      <th></th>\n",
       "      <th></th>\n",
       "      <th></th>\n",
       "      <th></th>\n",
       "      <th></th>\n",
       "      <th></th>\n",
       "      <th></th>\n",
       "    </tr>\n",
       "  </thead>\n",
       "  <tbody>\n",
       "    <tr>\n",
       "      <td>Gnai3</td>\n",
       "      <td>Q9DC51</td>\n",
       "      <td>AT2_04M_F0</td>\n",
       "      <td>7.151432</td>\n",
       "      <td>25.389750</td>\n",
       "      <td>8.471675</td>\n",
       "      <td>-0.123134</td>\n",
       "      <td>0.126303</td>\n",
       "      <td>-0.092475</td>\n",
       "      <td>-0.969833</td>\n",
       "      <td>-0.005820</td>\n",
       "      <td>-0.057672</td>\n",
       "      <td>0.107903</td>\n",
       "      <td>...</td>\n",
       "      <td>0.137047</td>\n",
       "      <td>0.008167</td>\n",
       "      <td>-0.088351</td>\n",
       "      <td>-0.018563</td>\n",
       "      <td>-0.036717</td>\n",
       "      <td>0.443771</td>\n",
       "      <td>-0.123508</td>\n",
       "      <td>-0.036990</td>\n",
       "      <td>0.424119</td>\n",
       "      <td>0.014253</td>\n",
       "    </tr>\n",
       "    <tr>\n",
       "      <td>Cox5a</td>\n",
       "      <td>P12787</td>\n",
       "      <td>AT2_04M_F0</td>\n",
       "      <td>5.426985</td>\n",
       "      <td>29.676180</td>\n",
       "      <td>7.199672</td>\n",
       "      <td>0.014350</td>\n",
       "      <td>0.121865</td>\n",
       "      <td>-0.062778</td>\n",
       "      <td>-0.984908</td>\n",
       "      <td>-0.017123</td>\n",
       "      <td>-0.065598</td>\n",
       "      <td>0.056624</td>\n",
       "      <td>...</td>\n",
       "      <td>0.118580</td>\n",
       "      <td>0.009217</td>\n",
       "      <td>0.136575</td>\n",
       "      <td>-0.059452</td>\n",
       "      <td>0.019777</td>\n",
       "      <td>0.423250</td>\n",
       "      <td>-0.063350</td>\n",
       "      <td>-0.025512</td>\n",
       "      <td>0.384949</td>\n",
       "      <td>0.015145</td>\n",
       "    </tr>\n",
       "    <tr>\n",
       "      <td>Dlat</td>\n",
       "      <td>Q8BMF4</td>\n",
       "      <td>AT2_04M_F0</td>\n",
       "      <td>5.496820</td>\n",
       "      <td>26.982080</td>\n",
       "      <td>9.328675</td>\n",
       "      <td>-0.026584</td>\n",
       "      <td>0.109657</td>\n",
       "      <td>-0.081645</td>\n",
       "      <td>-0.963428</td>\n",
       "      <td>-0.030461</td>\n",
       "      <td>-0.162972</td>\n",
       "      <td>0.066631</td>\n",
       "      <td>...</td>\n",
       "      <td>0.138321</td>\n",
       "      <td>0.016578</td>\n",
       "      <td>0.122076</td>\n",
       "      <td>-0.143501</td>\n",
       "      <td>0.013228</td>\n",
       "      <td>0.302376</td>\n",
       "      <td>-0.168613</td>\n",
       "      <td>-0.036329</td>\n",
       "      <td>0.351341</td>\n",
       "      <td>-0.014426</td>\n",
       "    </tr>\n",
       "    <tr>\n",
       "      <td>Gpr107</td>\n",
       "      <td>Q8BUV8</td>\n",
       "      <td>AT2_04M_F0</td>\n",
       "      <td>6.244449</td>\n",
       "      <td>22.902280</td>\n",
       "      <td>9.108524</td>\n",
       "      <td>-0.027330</td>\n",
       "      <td>0.104179</td>\n",
       "      <td>0.021283</td>\n",
       "      <td>-0.953025</td>\n",
       "      <td>-0.020908</td>\n",
       "      <td>-0.239551</td>\n",
       "      <td>0.096819</td>\n",
       "      <td>...</td>\n",
       "      <td>0.127384</td>\n",
       "      <td>0.011998</td>\n",
       "      <td>0.039601</td>\n",
       "      <td>-0.030980</td>\n",
       "      <td>-0.080105</td>\n",
       "      <td>0.244611</td>\n",
       "      <td>-0.092342</td>\n",
       "      <td>-0.039188</td>\n",
       "      <td>0.482943</td>\n",
       "      <td>-0.018493</td>\n",
       "    </tr>\n",
       "    <tr>\n",
       "      <td>Trim25</td>\n",
       "      <td>Q61510</td>\n",
       "      <td>AT2_04M_F0</td>\n",
       "      <td>6.358683</td>\n",
       "      <td>24.415022</td>\n",
       "      <td>9.310613</td>\n",
       "      <td>-0.071294</td>\n",
       "      <td>0.072918</td>\n",
       "      <td>-0.114657</td>\n",
       "      <td>-0.975195</td>\n",
       "      <td>-0.041038</td>\n",
       "      <td>-0.088154</td>\n",
       "      <td>0.031005</td>\n",
       "      <td>...</td>\n",
       "      <td>0.156678</td>\n",
       "      <td>0.041194</td>\n",
       "      <td>0.020387</td>\n",
       "      <td>-0.059393</td>\n",
       "      <td>-0.025968</td>\n",
       "      <td>0.263505</td>\n",
       "      <td>-0.113366</td>\n",
       "      <td>-0.038602</td>\n",
       "      <td>0.264744</td>\n",
       "      <td>0.012638</td>\n",
       "    </tr>\n",
       "    <tr>\n",
       "      <td>...</td>\n",
       "      <td>...</td>\n",
       "      <td>...</td>\n",
       "      <td>...</td>\n",
       "      <td>...</td>\n",
       "      <td>...</td>\n",
       "      <td>...</td>\n",
       "      <td>...</td>\n",
       "      <td>...</td>\n",
       "      <td>...</td>\n",
       "      <td>...</td>\n",
       "      <td>...</td>\n",
       "      <td>...</td>\n",
       "      <td>...</td>\n",
       "      <td>...</td>\n",
       "      <td>...</td>\n",
       "      <td>...</td>\n",
       "      <td>...</td>\n",
       "      <td>...</td>\n",
       "      <td>...</td>\n",
       "      <td>...</td>\n",
       "      <td>...</td>\n",
       "      <td>...</td>\n",
       "      <td>...</td>\n",
       "    </tr>\n",
       "    <tr>\n",
       "      <td>H1f0</td>\n",
       "      <td>P10922</td>\n",
       "      <td>AT2_04M_F0</td>\n",
       "      <td>7.419878</td>\n",
       "      <td>28.773797</td>\n",
       "      <td>7.607330</td>\n",
       "      <td>-0.225748</td>\n",
       "      <td>0.043310</td>\n",
       "      <td>-0.087645</td>\n",
       "      <td>-0.958192</td>\n",
       "      <td>-0.016585</td>\n",
       "      <td>-0.014059</td>\n",
       "      <td>0.020144</td>\n",
       "      <td>...</td>\n",
       "      <td>0.172665</td>\n",
       "      <td>-0.047817</td>\n",
       "      <td>0.058236</td>\n",
       "      <td>-0.358728</td>\n",
       "      <td>0.072748</td>\n",
       "      <td>0.262859</td>\n",
       "      <td>-0.376427</td>\n",
       "      <td>-0.060751</td>\n",
       "      <td>0.199526</td>\n",
       "      <td>0.070703</td>\n",
       "    </tr>\n",
       "    <tr>\n",
       "      <td>Psmb9</td>\n",
       "      <td>P28076</td>\n",
       "      <td>AT2_04M_F0</td>\n",
       "      <td>3.389854</td>\n",
       "      <td>24.962038</td>\n",
       "      <td>7.781360</td>\n",
       "      <td>0.008655</td>\n",
       "      <td>0.161174</td>\n",
       "      <td>-0.095418</td>\n",
       "      <td>-0.960228</td>\n",
       "      <td>-0.001615</td>\n",
       "      <td>-0.221773</td>\n",
       "      <td>0.072014</td>\n",
       "      <td>...</td>\n",
       "      <td>0.086866</td>\n",
       "      <td>0.005392</td>\n",
       "      <td>0.017854</td>\n",
       "      <td>-0.061520</td>\n",
       "      <td>-0.005442</td>\n",
       "      <td>0.363715</td>\n",
       "      <td>-0.135031</td>\n",
       "      <td>-0.037465</td>\n",
       "      <td>0.440352</td>\n",
       "      <td>-0.036961</td>\n",
       "    </tr>\n",
       "    <tr>\n",
       "      <td>Sowahc</td>\n",
       "      <td>Q8C0J6</td>\n",
       "      <td>AT2_04M_F0</td>\n",
       "      <td>0.555332</td>\n",
       "      <td>23.859992</td>\n",
       "      <td>9.002815</td>\n",
       "      <td>-0.048821</td>\n",
       "      <td>0.106069</td>\n",
       "      <td>-0.109359</td>\n",
       "      <td>-0.970515</td>\n",
       "      <td>-0.047805</td>\n",
       "      <td>-0.196038</td>\n",
       "      <td>0.059995</td>\n",
       "      <td>...</td>\n",
       "      <td>0.202381</td>\n",
       "      <td>0.039076</td>\n",
       "      <td>0.152250</td>\n",
       "      <td>-0.110805</td>\n",
       "      <td>0.024184</td>\n",
       "      <td>0.343852</td>\n",
       "      <td>-0.138716</td>\n",
       "      <td>-0.007629</td>\n",
       "      <td>0.205146</td>\n",
       "      <td>0.000572</td>\n",
       "    </tr>\n",
       "    <tr>\n",
       "      <td>Rpl24</td>\n",
       "      <td>Q8BP67</td>\n",
       "      <td>AT2_04M_F0</td>\n",
       "      <td>5.663801</td>\n",
       "      <td>26.991023</td>\n",
       "      <td>7.303781</td>\n",
       "      <td>-0.164027</td>\n",
       "      <td>0.091068</td>\n",
       "      <td>-0.073394</td>\n",
       "      <td>-0.979837</td>\n",
       "      <td>-0.027851</td>\n",
       "      <td>0.010967</td>\n",
       "      <td>0.033350</td>\n",
       "      <td>...</td>\n",
       "      <td>0.139396</td>\n",
       "      <td>-0.004037</td>\n",
       "      <td>-0.012521</td>\n",
       "      <td>-0.150437</td>\n",
       "      <td>0.030019</td>\n",
       "      <td>0.362807</td>\n",
       "      <td>-0.173108</td>\n",
       "      <td>0.020901</td>\n",
       "      <td>0.328294</td>\n",
       "      <td>0.055279</td>\n",
       "    </tr>\n",
       "    <tr>\n",
       "      <td>Zc3h11a</td>\n",
       "      <td>Q6NZF1</td>\n",
       "      <td>AT2_04M_F0</td>\n",
       "      <td>3.784564</td>\n",
       "      <td>22.901192</td>\n",
       "      <td>9.631177</td>\n",
       "      <td>-0.097147</td>\n",
       "      <td>0.051695</td>\n",
       "      <td>-0.100971</td>\n",
       "      <td>-0.981562</td>\n",
       "      <td>-0.062780</td>\n",
       "      <td>-0.201319</td>\n",
       "      <td>-0.015043</td>\n",
       "      <td>...</td>\n",
       "      <td>0.225235</td>\n",
       "      <td>0.033122</td>\n",
       "      <td>0.167255</td>\n",
       "      <td>-0.241468</td>\n",
       "      <td>0.025199</td>\n",
       "      <td>0.262255</td>\n",
       "      <td>-0.118482</td>\n",
       "      <td>-0.026480</td>\n",
       "      <td>0.205547</td>\n",
       "      <td>0.030391</td>\n",
       "    </tr>\n",
       "  </tbody>\n",
       "</table>\n",
       "<p>3541 rows × 67 columns</p>\n",
       "</div>"
      ],
      "text/plain": [
       "                                            mRNA_TMM  ProteinAUC  \\\n",
       "Gene.names Majority.protein.IDs cell                               \n",
       "Gnai3      Q9DC51               AT2_04M_F0  7.151432   25.389750   \n",
       "Cox5a      P12787               AT2_04M_F0  5.426985   29.676180   \n",
       "Dlat       Q8BMF4               AT2_04M_F0  5.496820   26.982080   \n",
       "Gpr107     Q8BUV8               AT2_04M_F0  6.244449   22.902280   \n",
       "Trim25     Q61510               AT2_04M_F0  6.358683   24.415022   \n",
       "...                                              ...         ...   \n",
       "H1f0       P10922               AT2_04M_F0  7.419878   28.773797   \n",
       "Psmb9      P28076               AT2_04M_F0  3.389854   24.962038   \n",
       "Sowahc     Q8C0J6               AT2_04M_F0  0.555332   23.859992   \n",
       "Rpl24      Q8BP67               AT2_04M_F0  5.663801   26.991023   \n",
       "Zc3h11a    Q6NZF1               AT2_04M_F0  3.784564   22.901192   \n",
       "\n",
       "                                            ProteinLength         0         1  \\\n",
       "Gene.names Majority.protein.IDs cell                                            \n",
       "Gnai3      Q9DC51               AT2_04M_F0       8.471675 -0.123134  0.126303   \n",
       "Cox5a      P12787               AT2_04M_F0       7.199672  0.014350  0.121865   \n",
       "Dlat       Q8BMF4               AT2_04M_F0       9.328675 -0.026584  0.109657   \n",
       "Gpr107     Q8BUV8               AT2_04M_F0       9.108524 -0.027330  0.104179   \n",
       "Trim25     Q61510               AT2_04M_F0       9.310613 -0.071294  0.072918   \n",
       "...                                                   ...       ...       ...   \n",
       "H1f0       P10922               AT2_04M_F0       7.607330 -0.225748  0.043310   \n",
       "Psmb9      P28076               AT2_04M_F0       7.781360  0.008655  0.161174   \n",
       "Sowahc     Q8C0J6               AT2_04M_F0       9.002815 -0.048821  0.106069   \n",
       "Rpl24      Q8BP67               AT2_04M_F0       7.303781 -0.164027  0.091068   \n",
       "Zc3h11a    Q6NZF1               AT2_04M_F0       9.631177 -0.097147  0.051695   \n",
       "\n",
       "                                                   2         3         4  \\\n",
       "Gene.names Majority.protein.IDs cell                                       \n",
       "Gnai3      Q9DC51               AT2_04M_F0 -0.092475 -0.969833 -0.005820   \n",
       "Cox5a      P12787               AT2_04M_F0 -0.062778 -0.984908 -0.017123   \n",
       "Dlat       Q8BMF4               AT2_04M_F0 -0.081645 -0.963428 -0.030461   \n",
       "Gpr107     Q8BUV8               AT2_04M_F0  0.021283 -0.953025 -0.020908   \n",
       "Trim25     Q61510               AT2_04M_F0 -0.114657 -0.975195 -0.041038   \n",
       "...                                              ...       ...       ...   \n",
       "H1f0       P10922               AT2_04M_F0 -0.087645 -0.958192 -0.016585   \n",
       "Psmb9      P28076               AT2_04M_F0 -0.095418 -0.960228 -0.001615   \n",
       "Sowahc     Q8C0J6               AT2_04M_F0 -0.109359 -0.970515 -0.047805   \n",
       "Rpl24      Q8BP67               AT2_04M_F0 -0.073394 -0.979837 -0.027851   \n",
       "Zc3h11a    Q6NZF1               AT2_04M_F0 -0.100971 -0.981562 -0.062780   \n",
       "\n",
       "                                                   5         6  ...        54  \\\n",
       "Gene.names Majority.protein.IDs cell                            ...             \n",
       "Gnai3      Q9DC51               AT2_04M_F0 -0.057672  0.107903  ...  0.137047   \n",
       "Cox5a      P12787               AT2_04M_F0 -0.065598  0.056624  ...  0.118580   \n",
       "Dlat       Q8BMF4               AT2_04M_F0 -0.162972  0.066631  ...  0.138321   \n",
       "Gpr107     Q8BUV8               AT2_04M_F0 -0.239551  0.096819  ...  0.127384   \n",
       "Trim25     Q61510               AT2_04M_F0 -0.088154  0.031005  ...  0.156678   \n",
       "...                                              ...       ...  ...       ...   \n",
       "H1f0       P10922               AT2_04M_F0 -0.014059  0.020144  ...  0.172665   \n",
       "Psmb9      P28076               AT2_04M_F0 -0.221773  0.072014  ...  0.086866   \n",
       "Sowahc     Q8C0J6               AT2_04M_F0 -0.196038  0.059995  ...  0.202381   \n",
       "Rpl24      Q8BP67               AT2_04M_F0  0.010967  0.033350  ...  0.139396   \n",
       "Zc3h11a    Q6NZF1               AT2_04M_F0 -0.201319 -0.015043  ...  0.225235   \n",
       "\n",
       "                                                  55        56        57  \\\n",
       "Gene.names Majority.protein.IDs cell                                       \n",
       "Gnai3      Q9DC51               AT2_04M_F0  0.008167 -0.088351 -0.018563   \n",
       "Cox5a      P12787               AT2_04M_F0  0.009217  0.136575 -0.059452   \n",
       "Dlat       Q8BMF4               AT2_04M_F0  0.016578  0.122076 -0.143501   \n",
       "Gpr107     Q8BUV8               AT2_04M_F0  0.011998  0.039601 -0.030980   \n",
       "Trim25     Q61510               AT2_04M_F0  0.041194  0.020387 -0.059393   \n",
       "...                                              ...       ...       ...   \n",
       "H1f0       P10922               AT2_04M_F0 -0.047817  0.058236 -0.358728   \n",
       "Psmb9      P28076               AT2_04M_F0  0.005392  0.017854 -0.061520   \n",
       "Sowahc     Q8C0J6               AT2_04M_F0  0.039076  0.152250 -0.110805   \n",
       "Rpl24      Q8BP67               AT2_04M_F0 -0.004037 -0.012521 -0.150437   \n",
       "Zc3h11a    Q6NZF1               AT2_04M_F0  0.033122  0.167255 -0.241468   \n",
       "\n",
       "                                                  58        59        60  \\\n",
       "Gene.names Majority.protein.IDs cell                                       \n",
       "Gnai3      Q9DC51               AT2_04M_F0 -0.036717  0.443771 -0.123508   \n",
       "Cox5a      P12787               AT2_04M_F0  0.019777  0.423250 -0.063350   \n",
       "Dlat       Q8BMF4               AT2_04M_F0  0.013228  0.302376 -0.168613   \n",
       "Gpr107     Q8BUV8               AT2_04M_F0 -0.080105  0.244611 -0.092342   \n",
       "Trim25     Q61510               AT2_04M_F0 -0.025968  0.263505 -0.113366   \n",
       "...                                              ...       ...       ...   \n",
       "H1f0       P10922               AT2_04M_F0  0.072748  0.262859 -0.376427   \n",
       "Psmb9      P28076               AT2_04M_F0 -0.005442  0.363715 -0.135031   \n",
       "Sowahc     Q8C0J6               AT2_04M_F0  0.024184  0.343852 -0.138716   \n",
       "Rpl24      Q8BP67               AT2_04M_F0  0.030019  0.362807 -0.173108   \n",
       "Zc3h11a    Q6NZF1               AT2_04M_F0  0.025199  0.262255 -0.118482   \n",
       "\n",
       "                                                  61        62        63  \n",
       "Gene.names Majority.protein.IDs cell                                      \n",
       "Gnai3      Q9DC51               AT2_04M_F0 -0.036990  0.424119  0.014253  \n",
       "Cox5a      P12787               AT2_04M_F0 -0.025512  0.384949  0.015145  \n",
       "Dlat       Q8BMF4               AT2_04M_F0 -0.036329  0.351341 -0.014426  \n",
       "Gpr107     Q8BUV8               AT2_04M_F0 -0.039188  0.482943 -0.018493  \n",
       "Trim25     Q61510               AT2_04M_F0 -0.038602  0.264744  0.012638  \n",
       "...                                              ...       ...       ...  \n",
       "H1f0       P10922               AT2_04M_F0 -0.060751  0.199526  0.070703  \n",
       "Psmb9      P28076               AT2_04M_F0 -0.037465  0.440352 -0.036961  \n",
       "Sowahc     Q8C0J6               AT2_04M_F0 -0.007629  0.205146  0.000572  \n",
       "Rpl24      Q8BP67               AT2_04M_F0  0.020901  0.328294  0.055279  \n",
       "Zc3h11a    Q6NZF1               AT2_04M_F0 -0.026480  0.205547  0.030391  \n",
       "\n",
       "[3541 rows x 67 columns]"
      ]
     },
     "execution_count": 122,
     "metadata": {},
     "output_type": "execute_result"
    }
   ],
   "source": [
    "rna_prot_embed[cell_lines[0]]"
   ]
  },
  {
   "cell_type": "code",
   "execution_count": 4,
   "metadata": {},
   "outputs": [],
   "source": [
    "#Conduct for a single cell line - Train/Test split\n",
    "rna_prot_embed[cell_lines[0]]['mRNA_TMM'] = np.log2(rna_prot_embed[cell_lines[0]]['mRNA_TMM']+1)\n",
    "rna_prot_embed[cell_lines[0]]['ProteinAUC'] = np.log2(rna_prot_embed[cell_lines[0]]['ProteinAUC']+1)\n",
    "rna_prot_embed[cell_lines[0]]['ProteinLength'] = np.log2(rna_prot_embed[cell_lines[0]]['ProteinLength']+1)\n",
    "train, test = train_test_split(rna_prot_embed[cell_lines[0]], test_size=0.2, random_state=SEED)"
   ]
  },
  {
   "cell_type": "markdown",
   "metadata": {},
   "source": [
    "#### Zscore data"
   ]
  },
  {
   "cell_type": "code",
   "execution_count": 5,
   "metadata": {},
   "outputs": [],
   "source": [
    "train, train_mean, train_std = zscore(train) #zscore data\n",
    "test = (test-train_mean)/train_std #zscore test data using mean and std from train set"
   ]
  },
  {
   "cell_type": "markdown",
   "metadata": {},
   "source": [
    "#### Generate GPy model"
   ]
  },
  {
   "cell_type": "code",
   "execution_count": 6,
   "metadata": {},
   "outputs": [],
   "source": [
    "#Initialize base kernel to use (ARD)\n",
    "d = train.shape[1]-1 # input dimension\n",
    "var = 1 # variance\n",
    "theta = 1 # lengthscale\n",
    "k = GPy.kern.RBF(d,var,theta,ARD=True)"
   ]
  },
  {
   "cell_type": "code",
   "execution_count": 7,
   "metadata": {},
   "outputs": [
    {
     "name": "stdout",
     "output_type": "stream",
     "text": [
      "run time 219.7858691215515\n"
     ]
    }
   ],
   "source": [
    "x = train.loc[:,train.columns != 'ProteinAUC'].values\n",
    "y = train.loc[:,train.columns == 'ProteinAUC'].values\n",
    "time_start = time.time()\n",
    "m = GPy.models.GPRegression(x,y,k)\n",
    "print(f'run time {time.time()-time_start}')"
   ]
  },
  {
   "cell_type": "code",
   "execution_count": 121,
   "metadata": {},
   "outputs": [
    {
     "data": {
      "text/plain": [
       "array([[ 0.8435543 ],\n",
       "       [-0.4373411 ],\n",
       "       [-0.97749676],\n",
       "       [-0.44477133],\n",
       "       [ 1.03346305],\n",
       "       [ 0.87254079],\n",
       "       [ 1.87728358],\n",
       "       [ 1.97199598],\n",
       "       [-0.72417592],\n",
       "       [ 0.07647816]])"
      ]
     },
     "execution_count": 121,
     "metadata": {},
     "output_type": "execute_result"
    }
   ],
   "source": [
    "m.predict(x[0:10,:])[0]"
   ]
  },
  {
   "cell_type": "code",
   "execution_count": 120,
   "metadata": {},
   "outputs": [
    {
     "data": {
      "text/plain": [
       "array([[ 1.78461312],\n",
       "       [-0.5247875 ],\n",
       "       [-0.85275332],\n",
       "       [ 0.50701859],\n",
       "       [ 1.84744297],\n",
       "       [ 0.83432148],\n",
       "       [ 1.84205606],\n",
       "       [ 2.6511231 ],\n",
       "       [-0.59112738],\n",
       "       [ 0.38903037]])"
      ]
     },
     "execution_count": 120,
     "metadata": {},
     "output_type": "execute_result"
    }
   ],
   "source": [
    "y[0:10,:]"
   ]
  },
  {
   "cell_type": "code",
   "execution_count": 8,
   "metadata": {},
   "outputs": [
    {
     "name": "stdout",
     "output_type": "stream",
     "text": [
      "\n",
      "Name : GP regression\n",
      "Objective : 4270.368672418932\n",
      "Number of Parameters : 68\n",
      "Number of Optimization Parameters : 68\n",
      "Updates : True\n",
      "Parameters:\n",
      "  \u001b[1mGP_regression.         \u001b[0;0m  |  value  |  constraints  |  priors\n",
      "  \u001b[1mrbf.variance           \u001b[0;0m  |    1.0  |      +ve      |        \n",
      "  \u001b[1mrbf.lengthscale        \u001b[0;0m  |  (66,)  |      +ve      |        \n",
      "  \u001b[1mGaussian_noise.variance\u001b[0;0m  |    1.0  |      +ve      |        \n"
     ]
    }
   ],
   "source": [
    "print(m)"
   ]
  },
  {
   "cell_type": "code",
   "execution_count": 11,
   "metadata": {},
   "outputs": [
    {
     "name": "stdout",
     "output_type": "stream",
     "text": [
      "run time 51624.727590322495\n",
      "\n",
      "Name : GP regression\n",
      "Objective : 3195.459693935532\n",
      "Number of Parameters : 68\n",
      "Number of Optimization Parameters : 68\n",
      "Updates : True\n",
      "Parameters:\n",
      "  \u001b[1mGP_regression.         \u001b[0;0m  |                value  |  constraints  |  priors\n",
      "  \u001b[1mrbf.variance           \u001b[0;0m  |   1.6309436050961201  |      +ve      |        \n",
      "  \u001b[1mrbf.lengthscale        \u001b[0;0m  |                (66,)  |      +ve      |        \n",
      "  \u001b[1mGaussian_noise.variance\u001b[0;0m  |  0.49904552103863564  |      +ve      |        \n"
     ]
    }
   ],
   "source": [
    "time_start = time.time()\n",
    "m.optimize(messages=False, ipython_notebook=True)\n",
    "print(f'run time {time.time()-time_start}')\n",
    "print(m)"
   ]
  },
  {
   "cell_type": "code",
   "execution_count": 12,
   "metadata": {},
   "outputs": [
    {
     "data": {
      "text/html": [
       "<style type=\"text/css\">\n",
       ".pd{\n",
       "    font-family: \"Courier New\", Courier, monospace !important;\n",
       "    width: 100%;\n",
       "    padding: 3px;\n",
       "}\n",
       "</style>\n",
       "\n",
       "<p class=pd>\n",
       "<b>Model</b>: GP regression<br>\n",
       "<b>Objective</b>: 3195.459693935532<br>\n",
       "<b>Number of Parameters</b>: 68<br>\n",
       "<b>Number of Optimization Parameters</b>: 68<br>\n",
       "<b>Updates</b>: True<br>\n",
       "</p>\n",
       "<style type=\"text/css\">\n",
       ".tg  {font-family:\"Courier New\", Courier, monospace !important;padding:2px 3px;word-break:normal;border-collapse:collapse;border-spacing:0;border-color:#DCDCDC;margin:0px auto;width:100%;}\n",
       ".tg td{font-family:\"Courier New\", Courier, monospace !important;font-weight:bold;color:#444;background-color:#F7FDFA;border-style:solid;border-width:1px;overflow:hidden;word-break:normal;border-color:#DCDCDC;}\n",
       ".tg th{font-family:\"Courier New\", Courier, monospace !important;font-weight:normal;color:#fff;background-color:#26ADE4;border-style:solid;border-width:1px;overflow:hidden;word-break:normal;border-color:#DCDCDC;}\n",
       ".tg .tg-left{font-family:\"Courier New\", Courier, monospace !important;font-weight:normal;text-align:left;}\n",
       ".tg .tg-center{font-family:\"Courier New\", Courier, monospace !important;font-weight:normal;text-align:center;}\n",
       ".tg .tg-right{font-family:\"Courier New\", Courier, monospace !important;font-weight:normal;text-align:right;}\n",
       "</style>\n",
       "<table class=\"tg\"><tr><th><b>  GP_regression.         </b></th><th><b>              value</b></th><th><b>constraints</b></th><th><b>priors</b></th></tr>\n",
       "<tr><td class=tg-left>  rbf.variance           </td><td class=tg-right> 1.6309436050961201</td><td class=tg-center>    +ve    </td><td class=tg-center>      </td></tr>\n",
       "<tr><td class=tg-left>  rbf.lengthscale        </td><td class=tg-right>              (66,)</td><td class=tg-center>    +ve    </td><td class=tg-center>      </td></tr>\n",
       "<tr><td class=tg-left>  Gaussian_noise.variance</td><td class=tg-right>0.49904552103863564</td><td class=tg-center>    +ve    </td><td class=tg-center>      </td></tr>\n",
       "</table>"
      ],
      "text/plain": [
       "<GPy.models.gp_regression.GPRegression at 0x7ff5f1cf15c0>"
      ]
     },
     "execution_count": 12,
     "metadata": {},
     "output_type": "execute_result"
    }
   ],
   "source": [
    "m"
   ]
  },
  {
   "cell_type": "code",
   "execution_count": 13,
   "metadata": {},
   "outputs": [],
   "source": [
    "#saving model\n",
    "#np.save('model_save.npy', m.param_array)\n",
    "np.save('model_save_10_9.npy', m.param_array)"
   ]
  },
  {
   "cell_type": "code",
   "execution_count": 27,
   "metadata": {},
   "outputs": [],
   "source": [
    "x_test = test.loc[:,train.columns != 'ProteinAUC'].values\n",
    "y_test = test.loc[:,train.columns == 'ProteinAUC'].values"
   ]
  },
  {
   "cell_type": "code",
   "execution_count": 43,
   "metadata": {},
   "outputs": [],
   "source": [
    "y_predicted = m.predict(x_test)\n",
    "y_means = y_predicted[0]\n",
    "y_vars = y_predicted[1]"
   ]
  },
  {
   "cell_type": "code",
   "execution_count": 83,
   "metadata": {},
   "outputs": [],
   "source": [
    "thresh = 0.51"
   ]
  },
  {
   "cell_type": "code",
   "execution_count": 84,
   "metadata": {},
   "outputs": [
    {
     "data": {
      "text/plain": [
       "(239, 1)"
      ]
     },
     "execution_count": 84,
     "metadata": {},
     "output_type": "execute_result"
    }
   ],
   "source": [
    "y_means[(y_vars<thresh).squeeze(),:].shape"
   ]
  },
  {
   "cell_type": "code",
   "execution_count": 100,
   "metadata": {},
   "outputs": [],
   "source": [
    "sMSE = mean_squared_error(y_test[(y_vars>thresh).squeeze(),:],y_means[(y_vars>thresh).squeeze(),:])/np.var(y_test[(y_vars>thresh).squeeze(),:])"
   ]
  },
  {
   "cell_type": "code",
   "execution_count": 102,
   "metadata": {},
   "outputs": [
    {
     "data": {
      "text/plain": [
       "0.5945357349666157"
      ]
     },
     "execution_count": 102,
     "metadata": {},
     "output_type": "execute_result"
    }
   ],
   "source": [
    "mean_squared_error(y_test[(y_vars>thresh).squeeze(),:],y_means[(y_vars>thresh).squeeze(),:])"
   ]
  },
  {
   "cell_type": "code",
   "execution_count": 103,
   "metadata": {},
   "outputs": [
    {
     "data": {
      "text/plain": [
       "array([[ 0.97892889],\n",
       "       [ 0.6994948 ],\n",
       "       [-0.83580184],\n",
       "       [ 2.05960566],\n",
       "       [ 0.01576389],\n",
       "       [-0.30893935],\n",
       "       [-0.68784679],\n",
       "       [-0.3935706 ],\n",
       "       [ 0.36672142],\n",
       "       [ 0.52835393]])"
      ]
     },
     "execution_count": 103,
     "metadata": {},
     "output_type": "execute_result"
    }
   ],
   "source": [
    "y_means[(y_vars>thresh).squeeze(),:][0:10]"
   ]
  },
  {
   "cell_type": "code",
   "execution_count": 104,
   "metadata": {},
   "outputs": [
    {
     "data": {
      "text/plain": [
       "array([[ 1.44507348],\n",
       "       [ 1.4557387 ],\n",
       "       [-0.71826614],\n",
       "       [ 3.44376903],\n",
       "       [-1.11730791],\n",
       "       [-0.9781521 ],\n",
       "       [-0.4054699 ],\n",
       "       [-0.58594405],\n",
       "       [ 1.73364897],\n",
       "       [ 0.34452326]])"
      ]
     },
     "execution_count": 104,
     "metadata": {},
     "output_type": "execute_result"
    }
   ],
   "source": [
    "y_test[(y_vars>thresh).squeeze(),:][0:10]"
   ]
  },
  {
   "cell_type": "code",
   "execution_count": 98,
   "metadata": {},
   "outputs": [
    {
     "data": {
      "text/plain": [
       "(array([[-0.5870151]]), array([[0.50777419]]))"
      ]
     },
     "execution_count": 98,
     "metadata": {},
     "output_type": "execute_result"
    }
   ],
   "source": [
    "m.predict(x_test[7,:][None,:])"
   ]
  },
  {
   "cell_type": "code",
   "execution_count": 99,
   "metadata": {},
   "outputs": [
    {
     "data": {
      "text/plain": [
       "array([0.45697943])"
      ]
     },
     "execution_count": 99,
     "metadata": {},
     "output_type": "execute_result"
    }
   ],
   "source": [
    "y_test[7,:]"
   ]
  },
  {
   "cell_type": "code",
   "execution_count": 101,
   "metadata": {},
   "outputs": [
    {
     "data": {
      "text/plain": [
       "0.5622076134147719"
      ]
     },
     "execution_count": 101,
     "metadata": {},
     "output_type": "execute_result"
    }
   ],
   "source": [
    "sMSE"
   ]
  },
  {
   "cell_type": "code",
   "execution_count": 105,
   "metadata": {},
   "outputs": [
    {
     "data": {
      "text/plain": [
       "SpearmanrResult(correlation=0.6141312680397983, pvalue=4.585277952559653e-50)"
      ]
     },
     "execution_count": 105,
     "metadata": {},
     "output_type": "execute_result"
    }
   ],
   "source": [
    "scipy.stats.spearmanr(y_test[(y_vars>thresh).squeeze(),:],y_means[(y_vars>thresh).squeeze(),:])"
   ]
  },
  {
   "cell_type": "code",
   "execution_count": 106,
   "metadata": {},
   "outputs": [
    {
     "data": {
      "text/plain": [
       "<matplotlib.collections.PathCollection at 0x7ff5e8181358>"
      ]
     },
     "execution_count": 106,
     "metadata": {},
     "output_type": "execute_result"
    },
    {
     "data": {
      "image/png": "[encoded data removed]",
      "text/plain": [
       "<Figure size 432x288 with 1 Axes>"
      ]
     },
     "metadata": {
      "needs_background": "light"
     },
     "output_type": "display_data"
    }
   ],
   "source": [
    "plt.scatter(y_means[(y_vars>thresh).squeeze(),:],y_test[(y_vars>thresh).squeeze(),:])"
   ]
  },
  {
   "cell_type": "code",
   "execution_count": 107,
   "metadata": {},
   "outputs": [
    {
     "data": {
      "text/plain": [
       "<matplotlib.collections.PathCollection at 0x7ff5e81ea358>"
      ]
     },
     "execution_count": 107,
     "metadata": {},
     "output_type": "execute_result"
    },
    {
     "data": {
      "image/png": "[encoded data removed]",
      "text/plain": [
       "<Figure size 432x288 with 1 Axes>"
      ]
     },
     "metadata": {
      "needs_background": "light"
     },
     "output_type": "display_data"
    }
   ],
   "source": [
    "plt.scatter(y_means[(y_vars<thresh).squeeze(),:],y_test[(y_vars<thresh).squeeze(),:])"
   ]
  },
  {
   "cell_type": "code",
   "execution_count": null,
   "metadata": {},
   "outputs": [],
   "source": []
  },
  {
   "cell_type": "code",
   "execution_count": null,
   "metadata": {},
   "outputs": [],
   "source": []
  },
  {
   "cell_type": "code",
   "execution_count": null,
   "metadata": {},
   "outputs": [],
   "source": []
  },
  {
   "cell_type": "code",
   "execution_count": null,
   "metadata": {},
   "outputs": [],
   "source": []
  },
  {
   "cell_type": "code",
   "execution_count": null,
   "metadata": {},
   "outputs": [],
   "source": []
  },
  {
   "cell_type": "code",
   "execution_count": 52,
   "metadata": {},
   "outputs": [
    {
     "data": {
      "text/plain": [
       "<matplotlib.axes._subplots.AxesSubplot at 0x7f228b215978>"
      ]
     },
     "execution_count": 52,
     "metadata": {},
     "output_type": "execute_result"
    },
    {
     "data": {
      "image/png": "[encoded data removed]",
      "text/plain": [
       "<Figure size 432x288 with 1 Axes>"
      ]
     },
     "metadata": {
      "needs_background": "light"
     },
     "output_type": "display_data"
    }
   ],
   "source": [
    "((rna_prot_embed['AT2_04M_F0'].loc[:,2]-(rna_prot_embed['AT2_04M_F0'].loc[:,2].mean()))/(rna_prot_embed['AT2_04M_F0'].loc[:,2].std())).hist()"
   ]
  },
  {
   "cell_type": "code",
   "execution_count": 43,
   "metadata": {},
   "outputs": [
    {
     "data": {
      "text/plain": [
       "Gene.names  Majority.protein.IDs  cell      \n",
       "Timm8a1     Q9WVA2                AT2_04M_F0    0.009108\n",
       "Grm5        Q3UVX5                AT2_04M_F0    0.308224\n",
       "Rab4b       Q91ZR1                AT2_04M_F0    0.318530\n",
       "Vim         P20152                AT2_04M_F0    0.379449\n",
       "Anxa9       Q9JHQ0                AT2_04M_F0    0.404886\n",
       "Pag1        Q3U1F9                AT2_04M_F0    0.433763\n",
       "Sowahc      Q8C0J6                AT2_04M_F0    0.469507\n",
       "Aldh1l2     Q8K009                AT2_04M_F0    0.547643\n",
       "Hr          Q61645                AT2_04M_F0    0.972298\n",
       "Sprr1a      Q62266                AT2_04M_F0    1.228901\n",
       "Name: mRNA_TMM, dtype: float64"
      ]
     },
     "execution_count": 43,
     "metadata": {},
     "output_type": "execute_result"
    }
   ],
   "source": [
    "rna_prot_embed['AT2_04M_F0'].loc[:,'mRNA_TMM'].sort_values()[0:10]"
   ]
  },
  {
   "cell_type": "code",
   "execution_count": 33,
   "metadata": {},
   "outputs": [
    {
     "data": {
      "text/plain": [
       "Gene.names     Majority.protein.IDs  cell       \n",
       "Igkc           P01837                AT2_04M_F10        0.203307\n",
       "Anxa9          Q9JHQ0                AT2_04M_F10        0.384081\n",
       "1810009A15Rik  Q9D937                AT2_04M_F10        0.384081\n",
       "Ak4            Q9WUR9                AT2_04M_F10        0.393104\n",
       "Alb            P07724                AT2_04M_F10        0.645420\n",
       "                                                        ...     \n",
       "Sftpb          P50405                AT2_04M_F10    17884.701549\n",
       "Scd1           P13516                AT2_04M_F10    19073.720693\n",
       "Sftpa1         P35242                AT2_04M_F10    21302.359895\n",
       "Lyz2           P08905                AT2_04M_F10    33171.764382\n",
       "Sftpc          P21841                AT2_04M_F10    74707.223686\n",
       "Name: mRNA_TMM, Length: 3573, dtype: float64"
      ]
     },
     "execution_count": 33,
     "metadata": {},
     "output_type": "execute_result"
    }
   ],
   "source": [
    "rna_prot_embed[cell_lines[1]].loc[:,'mRNA_TMM'].sort_values()"
   ]
  },
  {
   "cell_type": "code",
   "execution_count": 36,
   "metadata": {},
   "outputs": [
    {
     "data": {
      "text/plain": [
       "Gene.names  Majority.protein.IDs  cell      \n",
       "Nme2        Q01768                AT2_18M_F0        0.120019\n",
       "Mthfd1l     Q3V3R1                AT2_18M_F0        0.120019\n",
       "Vim         P20152                AT2_18M_F0        0.120019\n",
       "Vsig10l     D3YZF7                AT2_18M_F0        0.120019\n",
       "Slc5a10     Q5SWY8                AT2_18M_F0        0.434243\n",
       "                                                    ...     \n",
       "Sftpb       P50405                AT2_18M_F0    18404.963791\n",
       "Sftpa1      P35242                AT2_18M_F0    20592.347320\n",
       "Scd1        P13516                AT2_18M_F0    21652.415768\n",
       "Lyz2        P08905                AT2_18M_F0    31525.529039\n",
       "Sftpc       P21841                AT2_18M_F0    77446.573425\n",
       "Name: mRNA_TMM, Length: 3567, dtype: float64"
      ]
     },
     "execution_count": 36,
     "metadata": {},
     "output_type": "execute_result"
    }
   ],
   "source": [
    "rna_prot_embed[cell_lines[2]].loc[:,'mRNA_TMM'].sort_values()"
   ]
  },
  {
   "cell_type": "code",
   "execution_count": 41,
   "metadata": {},
   "outputs": [
    {
     "data": {
      "text/plain": [
       "Gene.names  Majority.protein.IDs  cell      \n",
       "Pglyrp1     O88593                AM_18M_F10        0.984351\n",
       "Sept1       P42209                AM_18M_F10        0.984351\n",
       "Prkcb       P68404                AM_18M_F10        0.984351\n",
       "Nup43       P59235                AM_18M_F10        0.984351\n",
       "Rnaset2b    C0HKG6                AM_18M_F10        0.984351\n",
       "                                                    ...     \n",
       "Psap        Q61207                AM_18M_F10     7890.478158\n",
       "Actb        P60710                AM_18M_F10     8719.045444\n",
       "Ctsd        P18242                AM_18M_F10     9002.546169\n",
       "Chil3       O35744                AM_18M_F10    15650.878804\n",
       "Lyz2        P08905                AM_18M_F10    21774.315164\n",
       "Name: mRNA_TMM, Length: 3674, dtype: float64"
      ]
     },
     "execution_count": 41,
     "metadata": {},
     "output_type": "execute_result"
    }
   ],
   "source": [
    "rna_prot_embed[cell_lines[7]].loc[:,'mRNA_TMM'].sort_values()"
   ]
  },
  {
   "cell_type": "code",
   "execution_count": 24,
   "metadata": {},
   "outputs": [
    {
     "data": {
      "text/plain": [
       "<matplotlib.axes._subplots.AxesSubplot at 0x7f229045a320>"
      ]
     },
     "execution_count": 24,
     "metadata": {},
     "output_type": "execute_result"
    },
    {
     "data": {
      "image/png": "[encoded data removed]",
      "text/plain": [
       "<Figure size 432x288 with 1 Axes>"
      ]
     },
     "metadata": {
      "needs_background": "light"
     },
     "output_type": "display_data"
    }
   ],
   "source": [
    "np.log2(rna_prot_embed['AT2_04M_F0'].loc[:,'ProteinLength']).hist()"
   ]
  },
  {
   "cell_type": "code",
   "execution_count": null,
   "metadata": {},
   "outputs": [],
   "source": [
    "fig = plt.figure()\n",
    "fig.set_size_inches((10, 6))\n",
    "ax = fig.add_subplot(111)\n",
    "ax.scatter(data.rna_protein[cell].loc[:,cell],data.rna_protein[cell].loc[:,cell+'_P'])\n",
    "print(scipy.stats.pearsonr(data.rna_protein[cell].loc[:,cell],data.rna_protein[cell].loc[:,cell+'_P']))\n",
    "print(scipy.stats.spearmanr(data.rna_protein[cell].loc[:,cell],data.rna_protein[cell].loc[:,cell+'_P']))"
   ]
  },
  {
   "cell_type": "code",
   "execution_count": 19,
   "metadata": {},
   "outputs": [
    {
     "name": "stderr",
     "output_type": "stream",
     "text": [
      " /gpfs/home/dshak/anaconda3/lib/python3.7/site-packages/ipykernel_launcher.py:1: FutureWarning:\n",
      "The current behaviour of 'Series.argmax' is deprecated, use 'idxmax'\n",
      "instead.\n",
      "The behavior of 'argmax' will be corrected to return the positional\n",
      "maximum in the future. For now, use 'series.values.argmax' or\n",
      "'np.argmax(np.array(values))' to get the position of the maximum\n",
      "row.\n"
     ]
    },
    {
     "data": {
      "text/plain": [
       "('Ttn', 'A2ASS6', 'AT2_04M_F0')"
      ]
     },
     "execution_count": 19,
     "metadata": {},
     "output_type": "execute_result"
    }
   ],
   "source": [
    "rna_prot_embed['AT2_04M_F0'].loc[:,'ProteinLength'].argmax()"
   ]
  },
  {
   "cell_type": "code",
   "execution_count": 20,
   "metadata": {},
   "outputs": [
    {
     "data": {
      "text/plain": [
       "Majority.protein.IDs  cell      \n",
       "A2ASS6                AT2_04M_F0    35213\n",
       "Name: ProteinLength, dtype: int64"
      ]
     },
     "execution_count": 20,
     "metadata": {},
     "output_type": "execute_result"
    }
   ],
   "source": [
    "rna_prot_embed['AT2_04M_F0'].loc[:,'ProteinLength']['Ttn']"
   ]
  },
  {
   "cell_type": "code",
   "execution_count": 9,
   "metadata": {},
   "outputs": [
    {
     "data": {
      "text/plain": [
       "<matplotlib.axes._subplots.AxesSubplot at 0x7f229116f668>"
      ]
     },
     "execution_count": 9,
     "metadata": {},
     "output_type": "execute_result"
    },
    {
     "data": {
      "image/png": "[encoded data removed]",
      "text/plain": [
       "<Figure size 432x288 with 1 Axes>"
      ]
     },
     "metadata": {
      "needs_background": "light"
     },
     "output_type": "display_data"
    }
   ],
   "source": [
    "rna_prot_embed['AT2_04M_F0'].loc[:,0].hist()"
   ]
  }
 ],
 "metadata": {
  "kernelspec": {
   "display_name": "Python [conda env:root] *",
   "language": "python",
   "name": "conda-root-py"
  },
  "language_info": {
   "codemirror_mode": {
    "name": "ipython",
    "version": 3
   },
   "file_extension": ".py",
   "mimetype": "text/x-python",
   "name": "python",
   "nbconvert_exporter": "python",
   "pygments_lexer": "ipython3",
   "version": "3.7.4"
  }
 },
 "nbformat": 4,
 "nbformat_minor": 4
}
