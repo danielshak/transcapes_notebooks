{
 "cells": [
  {
   "cell_type": "code",
   "execution_count": 1,
   "metadata": {},
   "outputs": [],
   "source": [
    "import pandas as pd\n",
    "import numpy as np\n",
    "import matplotlib\n",
    "import pickle\n",
    "import time\n",
    "import tensorflow as tf\n",
    "import gpflow\n",
    "from gpflow.utilities import print_summary\n",
    "import GPy\n",
    "import sys\n",
    "import os\n",
    "\n",
    "sys.path.append('../../Utils')\n",
    "from metrics import compute_metrics\n",
    "\n",
    "current_dir = os.getcwd()\n",
    "data_dir = os.path.join(current_dir, '../../../Data/')\n",
    "\n",
    "RNA_PROT_EMBED = data_dir+'ProcessedData/protein_embeddings/rna_protein_u64embeddings.pkl'\n",
    "\n",
    "# The lines below are specific to the notebook format\n",
    "%matplotlib inline\n",
    "matplotlib.rcParams['figure.figsize'] = (12, 6)\n",
    "plt = matplotlib.pyplot\n",
    "\n",
    "SEED = 0"
   ]
  },
  {
   "cell_type": "markdown",
   "metadata": {},
   "source": [
    "### GPU setup and selecting which gpu to run on"
   ]
  },
  {
   "cell_type": "code",
   "execution_count": 2,
   "metadata": {},
   "outputs": [
    {
     "name": "stdout",
     "output_type": "stream",
     "text": [
      "2.0.0\n",
      "2.2.4-tf\n",
      "TF eager exectution: True\n",
      "GPU is available: True\n"
     ]
    },
    {
     "data": {
      "text/plain": [
       "['/device:GPU:0', '/device:GPU:1']"
      ]
     },
     "execution_count": 2,
     "metadata": {},
     "output_type": "execute_result"
    }
   ],
   "source": [
    "from tensorflow.python.client import device_lib\n",
    "\n",
    "def get_available_gpus():\n",
    "    local_device_protos = device_lib.list_local_devices()\n",
    "    return [x.name for x in local_device_protos if x.device_type == 'GPU']\n",
    "\n",
    "print(tf.__version__)\n",
    "print(tf.keras.__version__)\n",
    "print(f'TF eager exectution: {tf.executing_eagerly()}')\n",
    "print(f'GPU is available: {tf.test.is_gpu_available()}')\n",
    "get_available_gpus()"
   ]
  },
  {
   "cell_type": "code",
   "execution_count": 3,
   "metadata": {},
   "outputs": [],
   "source": [
    "physical_devices = tf.config.experimental.list_physical_devices('GPU')\n",
    "tf.config.experimental.set_visible_devices(physical_devices[0], 'GPU')"
   ]
  },
  {
   "cell_type": "markdown",
   "metadata": {},
   "source": [
    "### Data import"
   ]
  },
  {
   "cell_type": "code",
   "execution_count": 4,
   "metadata": {},
   "outputs": [],
   "source": [
    "AT2 = ['AT2_04M_F0','AT2_04M_F10','AT2_18M_F0','AT2_18M_F10']\n",
    "AM = ['AM_04M_F0','AM_04M_F10','AM_18M_F0','AM_18M_F10']\n",
    "cell_lines = AT2+AM\n",
    "\n",
    "with open(RNA_PROT_EMBED,'rb') as file:\n",
    "    rna_prot_embed = pickle.load(file)"
   ]
  },
  {
   "cell_type": "markdown",
   "metadata": {},
   "source": [
    "### Testing on a single cell condition"
   ]
  },
  {
   "cell_type": "code",
   "execution_count": 5,
   "metadata": {},
   "outputs": [
    {
     "data": {
      "text/html": [
       "<div>\n",
       "<style scoped>\n",
       "    .dataframe tbody tr th:only-of-type {\n",
       "        vertical-align: middle;\n",
       "    }\n",
       "\n",
       "    .dataframe tbody tr th {\n",
       "        vertical-align: top;\n",
       "    }\n",
       "\n",
       "    .dataframe thead th {\n",
       "        text-align: right;\n",
       "    }\n",
       "</style>\n",
       "<table border=\"1\" class=\"dataframe\">\n",
       "  <thead>\n",
       "    <tr style=\"text-align: right;\">\n",
       "      <th></th>\n",
       "      <th></th>\n",
       "      <th></th>\n",
       "      <th>mRNA_TMM</th>\n",
       "      <th>ProteinAUC</th>\n",
       "      <th>ProteinLength</th>\n",
       "      <th>0</th>\n",
       "      <th>1</th>\n",
       "      <th>2</th>\n",
       "      <th>3</th>\n",
       "      <th>4</th>\n",
       "      <th>5</th>\n",
       "      <th>6</th>\n",
       "      <th>...</th>\n",
       "      <th>54</th>\n",
       "      <th>55</th>\n",
       "      <th>56</th>\n",
       "      <th>57</th>\n",
       "      <th>58</th>\n",
       "      <th>59</th>\n",
       "      <th>60</th>\n",
       "      <th>61</th>\n",
       "      <th>62</th>\n",
       "      <th>63</th>\n",
       "    </tr>\n",
       "    <tr>\n",
       "      <th>Gene.names</th>\n",
       "      <th>Majority.protein.IDs</th>\n",
       "      <th>cell</th>\n",
       "      <th></th>\n",
       "      <th></th>\n",
       "      <th></th>\n",
       "      <th></th>\n",
       "      <th></th>\n",
       "      <th></th>\n",
       "      <th></th>\n",
       "      <th></th>\n",
       "      <th></th>\n",
       "      <th></th>\n",
       "      <th></th>\n",
       "      <th></th>\n",
       "      <th></th>\n",
       "      <th></th>\n",
       "      <th></th>\n",
       "      <th></th>\n",
       "      <th></th>\n",
       "      <th></th>\n",
       "      <th></th>\n",
       "      <th></th>\n",
       "      <th></th>\n",
       "    </tr>\n",
       "  </thead>\n",
       "  <tbody>\n",
       "    <tr>\n",
       "      <td>Gnai3</td>\n",
       "      <td>Q9DC51</td>\n",
       "      <td>AT2_04M_F0</td>\n",
       "      <td>7.151432</td>\n",
       "      <td>25.389750</td>\n",
       "      <td>8.471675</td>\n",
       "      <td>-0.123134</td>\n",
       "      <td>0.126303</td>\n",
       "      <td>-0.092475</td>\n",
       "      <td>-0.969833</td>\n",
       "      <td>-0.005820</td>\n",
       "      <td>-0.057672</td>\n",
       "      <td>0.107903</td>\n",
       "      <td>...</td>\n",
       "      <td>0.137047</td>\n",
       "      <td>0.008167</td>\n",
       "      <td>-0.088351</td>\n",
       "      <td>-0.018563</td>\n",
       "      <td>-0.036717</td>\n",
       "      <td>0.443771</td>\n",
       "      <td>-0.123508</td>\n",
       "      <td>-0.036990</td>\n",
       "      <td>0.424119</td>\n",
       "      <td>0.014253</td>\n",
       "    </tr>\n",
       "    <tr>\n",
       "      <td>Cox5a</td>\n",
       "      <td>P12787</td>\n",
       "      <td>AT2_04M_F0</td>\n",
       "      <td>5.426985</td>\n",
       "      <td>29.676180</td>\n",
       "      <td>7.199672</td>\n",
       "      <td>0.014350</td>\n",
       "      <td>0.121865</td>\n",
       "      <td>-0.062778</td>\n",
       "      <td>-0.984908</td>\n",
       "      <td>-0.017123</td>\n",
       "      <td>-0.065598</td>\n",
       "      <td>0.056624</td>\n",
       "      <td>...</td>\n",
       "      <td>0.118580</td>\n",
       "      <td>0.009217</td>\n",
       "      <td>0.136575</td>\n",
       "      <td>-0.059452</td>\n",
       "      <td>0.019777</td>\n",
       "      <td>0.423250</td>\n",
       "      <td>-0.063350</td>\n",
       "      <td>-0.025512</td>\n",
       "      <td>0.384949</td>\n",
       "      <td>0.015145</td>\n",
       "    </tr>\n",
       "    <tr>\n",
       "      <td>Dlat</td>\n",
       "      <td>Q8BMF4</td>\n",
       "      <td>AT2_04M_F0</td>\n",
       "      <td>5.496820</td>\n",
       "      <td>26.982080</td>\n",
       "      <td>9.328675</td>\n",
       "      <td>-0.026584</td>\n",
       "      <td>0.109657</td>\n",
       "      <td>-0.081645</td>\n",
       "      <td>-0.963428</td>\n",
       "      <td>-0.030461</td>\n",
       "      <td>-0.162972</td>\n",
       "      <td>0.066631</td>\n",
       "      <td>...</td>\n",
       "      <td>0.138321</td>\n",
       "      <td>0.016578</td>\n",
       "      <td>0.122076</td>\n",
       "      <td>-0.143501</td>\n",
       "      <td>0.013228</td>\n",
       "      <td>0.302376</td>\n",
       "      <td>-0.168613</td>\n",
       "      <td>-0.036329</td>\n",
       "      <td>0.351341</td>\n",
       "      <td>-0.014426</td>\n",
       "    </tr>\n",
       "    <tr>\n",
       "      <td>Gpr107</td>\n",
       "      <td>Q8BUV8</td>\n",
       "      <td>AT2_04M_F0</td>\n",
       "      <td>6.244449</td>\n",
       "      <td>22.902280</td>\n",
       "      <td>9.108524</td>\n",
       "      <td>-0.027330</td>\n",
       "      <td>0.104179</td>\n",
       "      <td>0.021283</td>\n",
       "      <td>-0.953025</td>\n",
       "      <td>-0.020908</td>\n",
       "      <td>-0.239551</td>\n",
       "      <td>0.096819</td>\n",
       "      <td>...</td>\n",
       "      <td>0.127384</td>\n",
       "      <td>0.011998</td>\n",
       "      <td>0.039601</td>\n",
       "      <td>-0.030980</td>\n",
       "      <td>-0.080105</td>\n",
       "      <td>0.244611</td>\n",
       "      <td>-0.092342</td>\n",
       "      <td>-0.039188</td>\n",
       "      <td>0.482943</td>\n",
       "      <td>-0.018493</td>\n",
       "    </tr>\n",
       "    <tr>\n",
       "      <td>Trim25</td>\n",
       "      <td>Q61510</td>\n",
       "      <td>AT2_04M_F0</td>\n",
       "      <td>6.358683</td>\n",
       "      <td>24.415022</td>\n",
       "      <td>9.310613</td>\n",
       "      <td>-0.071294</td>\n",
       "      <td>0.072918</td>\n",
       "      <td>-0.114657</td>\n",
       "      <td>-0.975195</td>\n",
       "      <td>-0.041038</td>\n",
       "      <td>-0.088154</td>\n",
       "      <td>0.031005</td>\n",
       "      <td>...</td>\n",
       "      <td>0.156678</td>\n",
       "      <td>0.041194</td>\n",
       "      <td>0.020387</td>\n",
       "      <td>-0.059393</td>\n",
       "      <td>-0.025968</td>\n",
       "      <td>0.263505</td>\n",
       "      <td>-0.113366</td>\n",
       "      <td>-0.038602</td>\n",
       "      <td>0.264744</td>\n",
       "      <td>0.012638</td>\n",
       "    </tr>\n",
       "  </tbody>\n",
       "</table>\n",
       "<p>5 rows × 67 columns</p>\n",
       "</div>"
      ],
      "text/plain": [
       "                                            mRNA_TMM  ProteinAUC  \\\n",
       "Gene.names Majority.protein.IDs cell                               \n",
       "Gnai3      Q9DC51               AT2_04M_F0  7.151432   25.389750   \n",
       "Cox5a      P12787               AT2_04M_F0  5.426985   29.676180   \n",
       "Dlat       Q8BMF4               AT2_04M_F0  5.496820   26.982080   \n",
       "Gpr107     Q8BUV8               AT2_04M_F0  6.244449   22.902280   \n",
       "Trim25     Q61510               AT2_04M_F0  6.358683   24.415022   \n",
       "\n",
       "                                            ProteinLength         0         1  \\\n",
       "Gene.names Majority.protein.IDs cell                                            \n",
       "Gnai3      Q9DC51               AT2_04M_F0       8.471675 -0.123134  0.126303   \n",
       "Cox5a      P12787               AT2_04M_F0       7.199672  0.014350  0.121865   \n",
       "Dlat       Q8BMF4               AT2_04M_F0       9.328675 -0.026584  0.109657   \n",
       "Gpr107     Q8BUV8               AT2_04M_F0       9.108524 -0.027330  0.104179   \n",
       "Trim25     Q61510               AT2_04M_F0       9.310613 -0.071294  0.072918   \n",
       "\n",
       "                                                   2         3         4  \\\n",
       "Gene.names Majority.protein.IDs cell                                       \n",
       "Gnai3      Q9DC51               AT2_04M_F0 -0.092475 -0.969833 -0.005820   \n",
       "Cox5a      P12787               AT2_04M_F0 -0.062778 -0.984908 -0.017123   \n",
       "Dlat       Q8BMF4               AT2_04M_F0 -0.081645 -0.963428 -0.030461   \n",
       "Gpr107     Q8BUV8               AT2_04M_F0  0.021283 -0.953025 -0.020908   \n",
       "Trim25     Q61510               AT2_04M_F0 -0.114657 -0.975195 -0.041038   \n",
       "\n",
       "                                                   5         6  ...        54  \\\n",
       "Gene.names Majority.protein.IDs cell                            ...             \n",
       "Gnai3      Q9DC51               AT2_04M_F0 -0.057672  0.107903  ...  0.137047   \n",
       "Cox5a      P12787               AT2_04M_F0 -0.065598  0.056624  ...  0.118580   \n",
       "Dlat       Q8BMF4               AT2_04M_F0 -0.162972  0.066631  ...  0.138321   \n",
       "Gpr107     Q8BUV8               AT2_04M_F0 -0.239551  0.096819  ...  0.127384   \n",
       "Trim25     Q61510               AT2_04M_F0 -0.088154  0.031005  ...  0.156678   \n",
       "\n",
       "                                                  55        56        57  \\\n",
       "Gene.names Majority.protein.IDs cell                                       \n",
       "Gnai3      Q9DC51               AT2_04M_F0  0.008167 -0.088351 -0.018563   \n",
       "Cox5a      P12787               AT2_04M_F0  0.009217  0.136575 -0.059452   \n",
       "Dlat       Q8BMF4               AT2_04M_F0  0.016578  0.122076 -0.143501   \n",
       "Gpr107     Q8BUV8               AT2_04M_F0  0.011998  0.039601 -0.030980   \n",
       "Trim25     Q61510               AT2_04M_F0  0.041194  0.020387 -0.059393   \n",
       "\n",
       "                                                  58        59        60  \\\n",
       "Gene.names Majority.protein.IDs cell                                       \n",
       "Gnai3      Q9DC51               AT2_04M_F0 -0.036717  0.443771 -0.123508   \n",
       "Cox5a      P12787               AT2_04M_F0  0.019777  0.423250 -0.063350   \n",
       "Dlat       Q8BMF4               AT2_04M_F0  0.013228  0.302376 -0.168613   \n",
       "Gpr107     Q8BUV8               AT2_04M_F0 -0.080105  0.244611 -0.092342   \n",
       "Trim25     Q61510               AT2_04M_F0 -0.025968  0.263505 -0.113366   \n",
       "\n",
       "                                                  61        62        63  \n",
       "Gene.names Majority.protein.IDs cell                                      \n",
       "Gnai3      Q9DC51               AT2_04M_F0 -0.036990  0.424119  0.014253  \n",
       "Cox5a      P12787               AT2_04M_F0 -0.025512  0.384949  0.015145  \n",
       "Dlat       Q8BMF4               AT2_04M_F0 -0.036329  0.351341 -0.014426  \n",
       "Gpr107     Q8BUV8               AT2_04M_F0 -0.039188  0.482943 -0.018493  \n",
       "Trim25     Q61510               AT2_04M_F0 -0.038602  0.264744  0.012638  \n",
       "\n",
       "[5 rows x 67 columns]"
      ]
     },
     "execution_count": 5,
     "metadata": {},
     "output_type": "execute_result"
    }
   ],
   "source": [
    "from sklearn.model_selection import train_test_split\n",
    "\n",
    "data = rna_prot_embed['AT2_04M_F0'].copy()\n",
    "data.drop(columns='AvgChrs',inplace=True)\n",
    "\n",
    "#Log transform mRNA, protein, and protein length -> log-normal distributed\n",
    "data['mRNA_TMM'] = np.log2(data['mRNA_TMM']+1)\n",
    "data['ProteinAUC'] = np.log2(data['ProteinAUC']+1)\n",
    "data['ProteinLength'] = np.log2(data['ProteinLength']+1)\n",
    "\n",
    "train,test = train_test_split(data,test_size=0.2,random_state=10)\n",
    "\n",
    "data.head()"
   ]
  },
  {
   "cell_type": "markdown",
   "metadata": {},
   "source": [
    "### Z-score data\n",
    "* zscoring the data should help with some of the assumptions (0 mean, improve optimization), library may take care of this though, evalute using both methods"
   ]
  },
  {
   "cell_type": "code",
   "execution_count": 6,
   "metadata": {},
   "outputs": [],
   "source": [
    "def zscore(train_df):\n",
    "    assert isinstance(train_df,pd.DataFrame)\n",
    "    means = train_df.mean(axis=0)\n",
    "    stds = train_df.std(axis=0)\n",
    "    zscored = (train_df-means)/stds\n",
    "    return zscored, means, stds\n",
    "\n",
    "ZSCORE = False\n",
    "\n",
    "if ZSCORE:\n",
    "    print(f'Data is z-scored')\n",
    "    train, train_mean, train_std = zscore(train) #zscore data\n",
    "    test = (test-train_mean)/train_std #zscore test data using mean and std from train set"
   ]
  },
  {
   "cell_type": "markdown",
   "metadata": {},
   "source": [
    "### Setup gpflow model and evaluation\n",
    "* Very little changes when the input space has more than one dimension. By default, the lengthscale is an isotropic (scalar) parameter. It is generally recommended that you allow to tune a different lengthscale for each dimension (Automatic Relevance Determination, ARD): simply initialize lengthscale with an array of length $D$ corresponding to the input dimension of X."
   ]
  },
  {
   "cell_type": "code",
   "execution_count": 7,
   "metadata": {},
   "outputs": [
    {
     "name": "stdout",
     "output_type": "stream",
     "text": [
      "name                            class      transform    prior    trainable    shape    dtype    value\n",
      "------------------------------  ---------  -----------  -------  -----------  -------  -------  --------------------------------------\n",
      "SquaredExponential.variance     Parameter  Softplus              True         ()       float64  1.0\n",
      "SquaredExponential.lengthscale  Parameter  Softplus              True         (66,)    float64  [0.30000001, 0.30000001, 0.30000001...\n",
      "name                     class      transform                prior    trainable    shape    dtype    value\n",
      "-----------------------  ---------  -----------------------  -------  -----------  -------  -------  --------------------------------------\n",
      "GPR.kernel.variance      Parameter  Softplus                          True         ()       float64  1.0\n",
      "GPR.kernel.lengthscale   Parameter  Softplus                          True         (66,)    float64  [0.30000001, 0.30000001, 0.30000001...\n",
      "GPR.likelihood.variance  Parameter  Softplus + AffineScalar           True         ()       float64  0.009999999776482686\n"
     ]
    }
   ],
   "source": [
    "#Data and labels\n",
    "X = train.drop(columns='ProteinAUC').values\n",
    "Y = train[['ProteinAUC']].values\n",
    "\n",
    "#Initialize kernel, indicate lengthscale to initialize ARD\n",
    "k = gpflow.kernels.SquaredExponential(lengthscale=[0.3]*X.shape[1])\n",
    "print_summary(k)\n",
    "\n",
    "m = gpflow.models.GPR(data=(X, Y), kernel=k, mean_function=None)\n",
    "m.likelihood.variance.assign(0.01)\n",
    "print_summary(m)"
   ]
  },
  {
   "cell_type": "markdown",
   "metadata": {},
   "source": [
    "### Setup optimizer\n",
    "* optimizer minimizes the negative log marginal likelihood in order to find optimal distribution parameters (kernel params)"
   ]
  },
  {
   "cell_type": "code",
   "execution_count": 8,
   "metadata": {},
   "outputs": [],
   "source": [
    "opt = gpflow.optimizers.Scipy()"
   ]
  },
  {
   "cell_type": "code",
   "execution_count": 9,
   "metadata": {},
   "outputs": [
    {
     "name": "stdout",
     "output_type": "stream",
     "text": [
      "Run time 83.08342027664185\n",
      "name                     class      transform                prior    trainable    shape    dtype    value\n",
      "-----------------------  ---------  -----------------------  -------  -----------  -------  -------  -----------------------------------------\n",
      "GPR.kernel.variance      Parameter  Softplus                          True         ()       float64  144.6315412856245\n",
      "GPR.kernel.lengthscale   Parameter  Softplus                          True         (66,)    float64  [10.45923251, 49.32316799, 21.40367535...\n",
      "GPR.likelihood.variance  Parameter  Softplus + AffineScalar           True         ()       float64  1.2383236231521186\n"
     ]
    }
   ],
   "source": [
    "def objective_closure():\n",
    "    return - m.log_marginal_likelihood()\n",
    "\n",
    "#Initial test ~75 seconds\n",
    "time_start = time.time()\n",
    "opt_logs = opt.minimize(objective_closure,\n",
    "                        m.trainable_variables,\n",
    "                        options=dict(maxiter=100))\n",
    "print(f'Run time {time.time()-time_start}')\n",
    "\n",
    "print_summary(m)"
   ]
  },
  {
   "cell_type": "code",
   "execution_count": 63,
   "metadata": {},
   "outputs": [
    {
     "data": {
      "text/plain": [
       "<gpflow.models.gpr.GPR at 0x7f23b2088b10>"
      ]
     },
     "execution_count": 63,
     "metadata": {},
     "output_type": "execute_result"
    }
   ],
   "source": [
    "m"
   ]
  },
  {
   "cell_type": "code",
   "execution_count": 16,
   "metadata": {},
   "outputs": [
    {
     "data": {
      "text/plain": [
       "<tf.Tensor: id=29114, shape=(66,), dtype=float64, numpy=\n",
       "array([10.45923251, 49.32316799, 21.40367535, 25.22837912, 19.02233217,\n",
       "        0.83078812, 23.00325892, 16.54986286, 28.86529518,  0.36633851,\n",
       "       28.54698232, 26.9475871 , 20.68911151, 34.35835028, 28.36981084,\n",
       "        5.74429992, 30.02011227, 16.95101575, 25.36965379,  0.42557805,\n",
       "        2.8300483 , 27.47305799,  1.33715769, 16.89668529, 22.84890945,\n",
       "       36.45215465, 16.68360564, 27.21928001, 25.84439905, 30.70246687,\n",
       "       38.02193035, 33.48411428, 25.6285189 , 26.77424303, 19.52214081,\n",
       "       30.27983057, 36.10795015, 25.48066965,  1.89239497, 25.6279529 ,\n",
       "        3.39063685, 20.80876733, 16.25351904, 33.85287691, 27.46105759,\n",
       "       20.35624933, 34.06310892, 24.65036162,  2.60584528, 20.06423765,\n",
       "       19.34852935, 33.02742988, 29.24960197,  1.04385065,  1.88445477,\n",
       "       22.68906948,  0.25184039, 26.9142547 , 28.47116753, 31.34083147,\n",
       "       15.58903292, 12.76539817, 31.14051099,  2.24240472, 25.30041431,\n",
       "        8.77319786])>"
      ]
     },
     "execution_count": 16,
     "metadata": {},
     "output_type": "execute_result"
    }
   ],
   "source": [
    "m.kernel.lengthscale"
   ]
  },
  {
   "cell_type": "code",
   "execution_count": 10,
   "metadata": {},
   "outputs": [],
   "source": [
    "X_test = test.drop(columns='ProteinAUC').values\n",
    "Y_test = test[['ProteinAUC']].values\n",
    "\n",
    "## predict mean and variance of latent GP at test points\n",
    "mean, var = m.predict_f(X_test)"
   ]
  },
  {
   "cell_type": "code",
   "execution_count": 48,
   "metadata": {},
   "outputs": [
    {
     "data": {
      "text/plain": [
       "{'mae': 0.8731638358868109,\n",
       " 'mse': 1.3694557605296207,\n",
       " 'smse': 0.5869036390233074,\n",
       " 'r2': 0.40881329628195917,\n",
       " 'evs': 0.41048739231354536,\n",
       " 'spearmanrho': 0.6365959672871532,\n",
       " 'spearmanrho_p': 7.533582547479596e-77,\n",
       " 'pearsonr': 0.6408952076282627,\n",
       " 'pearsonr_p': 3.454851428085881e-78,\n",
       " 'median_abs_fc': 1.5857944684429734,\n",
       " 'mean_abs_fc': 1.8316753704456592}"
      ]
     },
     "execution_count": 48,
     "metadata": {},
     "output_type": "execute_result"
    }
   ],
   "source": [
    "thresh = 0.1\n",
    "compute_metrics(mean.numpy()[var.numpy()<thresh][:,None], Y_test[var.numpy()<thresh][:,None], Y, fc_scale=2)"
   ]
  },
  {
   "cell_type": "code",
   "execution_count": null,
   "metadata": {},
   "outputs": [],
   "source": [
    "compute_metrics(mean.numpy(), Y_test, Y, fc_scale=2)"
   ]
  },
  {
   "cell_type": "code",
   "execution_count": 11,
   "metadata": {},
   "outputs": [
    {
     "data": {
      "text/plain": [
       "{'mae': 0.8826069241473664,\n",
       " 'mse': 1.3844681633171962,\n",
       " 'smse': 0.6093322417352464,\n",
       " 'r2': 0.38607911392057315,\n",
       " 'evs': 0.3883040275147571,\n",
       " 'spearmanrho': 0.6227827532718002,\n",
       " 'spearmanrho_p': 2.157416507728326e-77,\n",
       " 'pearsonr': 0.6247546008755073,\n",
       " 'pearsonr_p': 5.180596627159485e-78,\n",
       " 'median_abs_fc': 1.5930247747838804,\n",
       " 'mean_abs_fc': 1.8437038329110458}"
      ]
     },
     "execution_count": 11,
     "metadata": {},
     "output_type": "execute_result"
    }
   ],
   "source": [
    "compute_metrics(mean.numpy(), Y_test, Y, fc_scale=2)"
   ]
  },
  {
   "cell_type": "code",
   "execution_count": 79,
   "metadata": {},
   "outputs": [
    {
     "data": {
      "text/plain": [
       "{'mae': 0.5940918249544367,\n",
       " 'mse': 0.6051579379259324,\n",
       " 'smse': 0.6275603842891265,\n",
       " 'r2': 0.36771370230803235,\n",
       " 'evs': 0.3689258449602043,\n",
       " 'spearmanrho': 0.5925886556940553,\n",
       " 'spearmanrho_p': 1.9657800561680984e-68,\n",
       " 'pearsonr': 0.6094343993735003,\n",
       " 'pearsonr_p': 2.5938742990406246e-73,\n",
       " 'median_abs_fc': 2.8817479179616554,\n",
       " 'mean_abs_fc': 3.9272796296884707}"
      ]
     },
     "execution_count": 79,
     "metadata": {},
     "output_type": "execute_result"
    }
   ],
   "source": [
    "compute_metrics(mean.numpy(), Y_test, Y, fc_scale=2)"
   ]
  },
  {
   "cell_type": "code",
   "execution_count": 13,
   "metadata": {},
   "outputs": [
    {
     "data": {
      "text/plain": [
       "array([[21.69363086],\n",
       "       [26.32466006],\n",
       "       [26.10431238],\n",
       "       [23.56950122],\n",
       "       [26.36848276],\n",
       "       [22.88351094],\n",
       "       [23.01450677],\n",
       "       [24.17814811],\n",
       "       [24.37672746],\n",
       "       [25.03730054]])"
      ]
     },
     "execution_count": 13,
     "metadata": {},
     "output_type": "execute_result"
    }
   ],
   "source": [
    "Y_test[0:10]"
   ]
  },
  {
   "cell_type": "code",
   "execution_count": 13,
   "metadata": {},
   "outputs": [
    {
     "data": {
      "text/plain": [
       "array([[25.05331813],\n",
       "       [25.62984814],\n",
       "       [25.18189727],\n",
       "       [24.35485075],\n",
       "       [24.33517644],\n",
       "       [23.64758445],\n",
       "       [23.93706543],\n",
       "       [24.09223844],\n",
       "       [24.59178443],\n",
       "       [25.23355216]])"
      ]
     },
     "execution_count": 13,
     "metadata": {},
     "output_type": "execute_result"
    }
   ],
   "source": [
    "mean.numpy()[0:10]"
   ]
  },
  {
   "cell_type": "code",
   "execution_count": 14,
   "metadata": {},
   "outputs": [
    {
     "data": {
      "text/plain": [
       "[<matplotlib.lines.Line2D at 0x7f2344354410>]"
      ]
     },
     "execution_count": 14,
     "metadata": {},
     "output_type": "execute_result"
    },
    {
     "data": {
      "image/png": "[encoded data removed]",
      "text/plain": [
       "<Figure size 432x288 with 1 Axes>"
      ]
     },
     "metadata": {
      "needs_background": "light"
     },
     "output_type": "display_data"
    }
   ],
   "source": [
    "plt.plot(Y_test)"
   ]
  },
  {
   "cell_type": "code",
   "execution_count": 15,
   "metadata": {},
   "outputs": [
    {
     "data": {
      "text/plain": [
       "[<matplotlib.lines.Line2D at 0x7f23441f3450>]"
      ]
     },
     "execution_count": 15,
     "metadata": {},
     "output_type": "execute_result"
    },
    {
     "data": {
      "image/png": "[encoded data removed]",
      "text/plain": [
       "<Figure size 432x288 with 1 Axes>"
      ]
     },
     "metadata": {
      "needs_background": "light"
     },
     "output_type": "display_data"
    }
   ],
   "source": [
    "plt.plot(mean.numpy())"
   ]
  },
  {
   "cell_type": "code",
   "execution_count": 86,
   "metadata": {},
   "outputs": [],
   "source": [
    "old = np.load('../gp_parameters/gp_embeddings_10_9.npy')"
   ]
  },
  {
   "cell_type": "code",
   "execution_count": 87,
   "metadata": {},
   "outputs": [
    {
     "data": {
      "text/plain": [
       "array([  1.63094361,   2.35579256,   6.97374851,   5.44619189,\n",
       "       417.09128221,  67.35645428,   4.71993448, 420.80871851,\n",
       "         3.40645217, 271.96033351,   4.96774079, 305.78943331,\n",
       "       358.76618769, 342.727472  , 345.15136988, 426.68154697,\n",
       "         9.83141559, 119.15468288, 332.65963382, 233.57252956,\n",
       "       353.9838988 , 300.37931854, 343.25386983,   6.37576289,\n",
       "       312.88499234,   7.33084054, 374.97346763, 268.89921111,\n",
       "       412.95937695, 358.7890993 , 465.23363876, 352.3361713 ,\n",
       "        10.24570776, 274.81519924, 373.37626244, 230.5417269 ,\n",
       "        10.04386208, 394.49077226, 112.80403495,   6.60190593,\n",
       "       384.96858183,   8.03789636, 226.964416  ,   8.66019296,\n",
       "       213.07541304, 418.08226794, 300.74945612, 298.98972918,\n",
       "       324.87843838, 251.74774736, 344.41659395, 225.31231328,\n",
       "       297.71001517, 338.27533537,  24.15850726,  13.70304495,\n",
       "       254.25458607,   4.86973368, 371.89212941, 300.69266177,\n",
       "       315.75870039, 342.7330886 , 171.65825215, 360.47608739,\n",
       "       167.77339957,   9.38611953, 261.11685135,   0.49904552])"
      ]
     },
     "execution_count": 87,
     "metadata": {},
     "output_type": "execute_result"
    }
   ],
   "source": [
    "old"
   ]
  },
  {
   "cell_type": "code",
   "execution_count": 88,
   "metadata": {},
   "outputs": [
    {
     "data": {
      "text/plain": [
       "<tf.Tensor: id=71851, shape=(66,), dtype=float64, numpy=\n",
       "array([ 229.77257667,  168.68761398,   57.6521723 ,  303.67078072,\n",
       "         95.53744548,   64.00172198,  235.85680369,  769.20333992,\n",
       "        278.30077328,   12.14453052,   64.49811134,  159.11914545,\n",
       "        188.08570787,   63.02312554,  112.76351284, 1255.45586447,\n",
       "         50.16840826,  205.87466793,   93.28042495,  260.65864006,\n",
       "        475.88082764,   46.48717004,   44.08576321,  310.12674291,\n",
       "         54.06013995,   81.49382556,   33.11462035,  123.32369012,\n",
       "        581.38426191,  112.05725318,  160.14298138,   64.87534048,\n",
       "        126.29203973,   83.19681961,   73.0351639 ,   67.39214599,\n",
       "        111.06422838,   70.63294281,   54.18876871,  383.53445668,\n",
       "        137.80276598,  441.10054278,  751.53234127,  103.67226703,\n",
       "        317.34885713,   21.70738358,   43.71127711,   45.06394198,\n",
       "        193.14824453,  124.04097258,   33.08376943,  517.25455694,\n",
       "        125.09533186,  308.87146557,  306.32023419,  192.56712943,\n",
       "          9.39612344,  620.9155346 ,  109.54879926,  230.35415329,\n",
       "        285.09154432,   40.79601641,   62.47466136,   93.78435401,\n",
       "        504.79796734,  847.01037905])>"
      ]
     },
     "execution_count": 88,
     "metadata": {},
     "output_type": "execute_result"
    }
   ],
   "source": [
    "m.kernel.lengthscale"
   ]
  },
  {
   "cell_type": "markdown",
   "metadata": {},
   "source": [
    "### Trying with Gpy now"
   ]
  },
  {
   "cell_type": "code",
   "execution_count": 89,
   "metadata": {},
   "outputs": [],
   "source": [
    "#Initialize base kernel to use (ARD)\n",
    "d = X.shape[1] # input dimension\n",
    "var = 1 # variance\n",
    "theta = 0.3 # lengthscale\n",
    "k = GPy.kern.RBF(d,var,theta,ARD=True)"
   ]
  },
  {
   "cell_type": "code",
   "execution_count": 90,
   "metadata": {},
   "outputs": [
    {
     "name": "stdout",
     "output_type": "stream",
     "text": [
      "run time 6.3819169998168945\n",
      "\n",
      "Name : GP regression\n",
      "Objective : 4291.496874186207\n",
      "Number of Parameters : 68\n",
      "Number of Optimization Parameters : 68\n",
      "Updates : True\n",
      "Parameters:\n",
      "  \u001b[1mGP_regression.         \u001b[0;0m  |  value  |  constraints  |  priors\n",
      "  \u001b[1mrbf.variance           \u001b[0;0m  |    1.0  |      +ve      |        \n",
      "  \u001b[1mrbf.lengthscale        \u001b[0;0m  |  (66,)  |      +ve      |        \n",
      "  \u001b[1mGaussian_noise.variance\u001b[0;0m  |    1.0  |      +ve      |        \n"
     ]
    }
   ],
   "source": [
    "time_start = time.time()\n",
    "m = GPy.models.GPRegression(X,Y,k)\n",
    "print(f'run time {time.time()-time_start}')\n",
    "print(m)"
   ]
  },
  {
   "cell_type": "code",
   "execution_count": 91,
   "metadata": {},
   "outputs": [
    {
     "name": "stdout",
     "output_type": "stream",
     "text": [
      "run time 2757.9872784614563\n",
      "\n",
      "Name : GP regression\n",
      "Objective : 3183.262152688083\n",
      "Number of Parameters : 68\n",
      "Number of Optimization Parameters : 68\n",
      "Updates : True\n",
      "Parameters:\n",
      "  \u001b[1mGP_regression.         \u001b[0;0m  |                value  |  constraints  |  priors\n",
      "  \u001b[1mrbf.variance           \u001b[0;0m  |   1.7089269317988993  |      +ve      |        \n",
      "  \u001b[1mrbf.lengthscale        \u001b[0;0m  |                (66,)  |      +ve      |        \n",
      "  \u001b[1mGaussian_noise.variance\u001b[0;0m  |  0.48550093901057534  |      +ve      |        \n"
     ]
    }
   ],
   "source": [
    "time_start = time.time()\n",
    "m.optimize(messages=False, ipython_notebook=True)\n",
    "print(f'run time {time.time()-time_start}')\n",
    "print(m)"
   ]
  },
  {
   "cell_type": "code",
   "execution_count": 101,
   "metadata": {},
   "outputs": [
    {
     "data": {
      "text/html": [
       "<style type=\"text/css\">\n",
       ".pd{\n",
       "    font-family: \"Courier New\", Courier, monospace !important;\n",
       "    width: 100%;\n",
       "    padding: 3px;\n",
       "}\n",
       "</style>\n",
       "\n",
       "<p class=pd>\n",
       "<b>Model</b>: GP regression<br>\n",
       "<b>Objective</b>: 3183.262152688083<br>\n",
       "<b>Number of Parameters</b>: 68<br>\n",
       "<b>Number of Optimization Parameters</b>: 68<br>\n",
       "<b>Updates</b>: True<br>\n",
       "</p>\n",
       "<style type=\"text/css\">\n",
       ".tg  {font-family:\"Courier New\", Courier, monospace !important;padding:2px 3px;word-break:normal;border-collapse:collapse;border-spacing:0;border-color:#DCDCDC;margin:0px auto;width:100%;}\n",
       ".tg td{font-family:\"Courier New\", Courier, monospace !important;font-weight:bold;color:#444;background-color:#F7FDFA;border-style:solid;border-width:1px;overflow:hidden;word-break:normal;border-color:#DCDCDC;}\n",
       ".tg th{font-family:\"Courier New\", Courier, monospace !important;font-weight:normal;color:#fff;background-color:#26ADE4;border-style:solid;border-width:1px;overflow:hidden;word-break:normal;border-color:#DCDCDC;}\n",
       ".tg .tg-left{font-family:\"Courier New\", Courier, monospace !important;font-weight:normal;text-align:left;}\n",
       ".tg .tg-center{font-family:\"Courier New\", Courier, monospace !important;font-weight:normal;text-align:center;}\n",
       ".tg .tg-right{font-family:\"Courier New\", Courier, monospace !important;font-weight:normal;text-align:right;}\n",
       "</style>\n",
       "<table class=\"tg\"><tr><th><b>  GP_regression.         </b></th><th><b>              value</b></th><th><b>constraints</b></th><th><b>priors</b></th></tr>\n",
       "<tr><td class=tg-left>  rbf.variance           </td><td class=tg-right> 1.7089269317988993</td><td class=tg-center>    +ve    </td><td class=tg-center>      </td></tr>\n",
       "<tr><td class=tg-left>  rbf.lengthscale        </td><td class=tg-right>              (66,)</td><td class=tg-center>    +ve    </td><td class=tg-center>      </td></tr>\n",
       "<tr><td class=tg-left>  Gaussian_noise.variance</td><td class=tg-right>0.48550093901057534</td><td class=tg-center>    +ve    </td><td class=tg-center>      </td></tr>\n",
       "</table>"
      ],
      "text/plain": [
       "<GPy.models.gp_regression.GPRegression at 0x7fd9703c2d10>"
      ]
     },
     "execution_count": 101,
     "metadata": {},
     "output_type": "execute_result"
    }
   ],
   "source": [
    "m"
   ]
  },
  {
   "cell_type": "code",
   "execution_count": 100,
   "metadata": {},
   "outputs": [
    {
     "data": {
      "text/plain": [
       "'lbfgsb'"
      ]
     },
     "execution_count": 100,
     "metadata": {},
     "output_type": "execute_result"
    }
   ],
   "source": [
    "m.preferred_optimizer"
   ]
  },
  {
   "cell_type": "code",
   "execution_count": 93,
   "metadata": {},
   "outputs": [
    {
     "data": {
      "text/html": [
       "<style type=\"text/css\">\n",
       ".tg  {padding:2px 3px;word-break:normal;border-collapse:collapse;border-spacing:0;border-color:#DCDCDC;margin:0px auto;width:100%;}\n",
       ".tg td{font-family:\"Courier New\", Courier, monospace !important;font-weight:bold;color:#444;background-color:#F7FDFA;border-style:solid;border-width:1px;overflow:hidden;word-break:normal;border-color:#DCDCDC;}\n",
       ".tg th{font-family:\"Courier New\", Courier, monospace !important;font-weight:normal;color:#fff;background-color:#26ADE4;border-style:solid;border-width:1px;overflow:hidden;word-break:normal;border-color:#DCDCDC;}\n",
       ".tg .tg-left{font-family:\"Courier New\", Courier, monospace !important;font-weight:normal;text-align:left;}\n",
       ".tg .tg-right{font-family:\"Courier New\", Courier, monospace !important;font-weight:normal;text-align:right;}\n",
       "</style>\n",
       "<table class=\"tg\">\n",
       "\n",
       "<tr>\n",
       "  <th><b>index</b></th>\n",
       "  <th><b>GP_regression.rbf.lengthscale</b></th>\n",
       "  <th><b>constraints</b></th><th><b>priors</b></th>\n",
       "</tr>\n",
       "<tr><td class=tg-left>  [0]  </td><td class=tg-right>                   2.11115307</td><td class=tg-left>    +ve    </td><td class=tg-left>      </td></tr>\n",
       "<tr><td class=tg-left>  [1]  </td><td class=tg-right>                   7.21164168</td><td class=tg-left>    +ve    </td><td class=tg-left>      </td></tr>\n",
       "<tr><td class=tg-left>  [2]  </td><td class=tg-right>                  44.22117288</td><td class=tg-left>    +ve    </td><td class=tg-left>      </td></tr>\n",
       "<tr><td class=tg-left>  [3]  </td><td class=tg-right>                  70.68223818</td><td class=tg-left>    +ve    </td><td class=tg-left>      </td></tr>\n",
       "<tr><td class=tg-left>  [4]  </td><td class=tg-right>                  67.87312004</td><td class=tg-left>    +ve    </td><td class=tg-left>      </td></tr>\n",
       "<tr><td class=tg-left>  [5]  </td><td class=tg-right>                   7.44911739</td><td class=tg-left>    +ve    </td><td class=tg-left>      </td></tr>\n",
       "<tr><td class=tg-left>  [6]  </td><td class=tg-right>                  52.51846365</td><td class=tg-left>    +ve    </td><td class=tg-left>      </td></tr>\n",
       "<tr><td class=tg-left>  [7]  </td><td class=tg-right>                   4.51554302</td><td class=tg-left>    +ve    </td><td class=tg-left>      </td></tr>\n",
       "<tr><td class=tg-left>  [8]  </td><td class=tg-right>                  65.19980153</td><td class=tg-left>    +ve    </td><td class=tg-left>      </td></tr>\n",
       "<tr><td class=tg-left>  [9]  </td><td class=tg-right>                   3.29324699</td><td class=tg-left>    +ve    </td><td class=tg-left>      </td></tr>\n",
       "<tr><td class=tg-left>  [10] </td><td class=tg-right>                  43.31591338</td><td class=tg-left>    +ve    </td><td class=tg-left>      </td></tr>\n",
       "<tr><td class=tg-left>  [11] </td><td class=tg-right>                  47.17360249</td><td class=tg-left>    +ve    </td><td class=tg-left>      </td></tr>\n",
       "<tr><td class=tg-left>  [12] </td><td class=tg-right>                  50.82950903</td><td class=tg-left>    +ve    </td><td class=tg-left>      </td></tr>\n",
       "<tr><td class=tg-left>  [13] </td><td class=tg-right>                  36.73147399</td><td class=tg-left>    +ve    </td><td class=tg-left>      </td></tr>\n",
       "<tr><td class=tg-left>  [14] </td><td class=tg-right>                  55.40149357</td><td class=tg-left>    +ve    </td><td class=tg-left>      </td></tr>\n",
       "<tr><td class=tg-left>  [15] </td><td class=tg-right>                   8.23744551</td><td class=tg-left>    +ve    </td><td class=tg-left>      </td></tr>\n",
       "<tr><td class=tg-left>  [16] </td><td class=tg-right>                  55.65512501</td><td class=tg-left>    +ve    </td><td class=tg-left>      </td></tr>\n",
       "<tr><td class=tg-left>  [17] </td><td class=tg-right>                  42.20408132</td><td class=tg-left>    +ve    </td><td class=tg-left>      </td></tr>\n",
       "<tr><td class=tg-left>  [18] </td><td class=tg-right>                  35.70910183</td><td class=tg-left>    +ve    </td><td class=tg-left>      </td></tr>\n",
       "<tr><td class=tg-left>  [19] </td><td class=tg-right>                  19.12823099</td><td class=tg-left>    +ve    </td><td class=tg-left>      </td></tr>\n",
       "<tr><td class=tg-left>  [20] </td><td class=tg-right>                  53.21179692</td><td class=tg-left>    +ve    </td><td class=tg-left>      </td></tr>\n",
       "<tr><td class=tg-left>  [21] </td><td class=tg-right>                  65.73055311</td><td class=tg-left>    +ve    </td><td class=tg-left>      </td></tr>\n",
       "<tr><td class=tg-left>  [22] </td><td class=tg-right>                   7.15136569</td><td class=tg-left>    +ve    </td><td class=tg-left>      </td></tr>\n",
       "<tr><td class=tg-left>  [23] </td><td class=tg-right>                  46.87343401</td><td class=tg-left>    +ve    </td><td class=tg-left>      </td></tr>\n",
       "<tr><td class=tg-left>  [24] </td><td class=tg-right>                   6.05256062</td><td class=tg-left>    +ve    </td><td class=tg-left>      </td></tr>\n",
       "<tr><td class=tg-left>  [25] </td><td class=tg-right>                  58.67787153</td><td class=tg-left>    +ve    </td><td class=tg-left>      </td></tr>\n",
       "<tr><td class=tg-left>  [26] </td><td class=tg-right>                  34.59394002</td><td class=tg-left>    +ve    </td><td class=tg-left>      </td></tr>\n",
       "<tr><td class=tg-left>  [27] </td><td class=tg-right>                  61.76758866</td><td class=tg-left>    +ve    </td><td class=tg-left>      </td></tr>\n",
       "<tr><td class=tg-left>  [28] </td><td class=tg-right>                  52.55779385</td><td class=tg-left>    +ve    </td><td class=tg-left>      </td></tr>\n",
       "<tr><td class=tg-left>  [29] </td><td class=tg-right>                  66.82018695</td><td class=tg-left>    +ve    </td><td class=tg-left>      </td></tr>\n",
       "<tr><td class=tg-left>  [30] </td><td class=tg-right>                  83.98256534</td><td class=tg-left>    +ve    </td><td class=tg-left>      </td></tr>\n",
       "<tr><td class=tg-left>  [31] </td><td class=tg-right>                  35.22954962</td><td class=tg-left>    +ve    </td><td class=tg-left>      </td></tr>\n",
       "<tr><td class=tg-left>  [32] </td><td class=tg-right>                  60.37955019</td><td class=tg-left>    +ve    </td><td class=tg-left>      </td></tr>\n",
       "<tr><td class=tg-left>  [33] </td><td class=tg-right>                  52.36098363</td><td class=tg-left>    +ve    </td><td class=tg-left>      </td></tr>\n",
       "<tr><td class=tg-left>  [34] </td><td class=tg-right>                  60.27964764</td><td class=tg-left>    +ve    </td><td class=tg-left>      </td></tr>\n",
       "<tr><td class=tg-left>  [35] </td><td class=tg-right>                   7.16143369</td><td class=tg-left>    +ve    </td><td class=tg-left>      </td></tr>\n",
       "<tr><td class=tg-left>  [36] </td><td class=tg-right>                  49.43884092</td><td class=tg-left>    +ve    </td><td class=tg-left>      </td></tr>\n",
       "<tr><td class=tg-left>  [37] </td><td class=tg-right>                  46.63983128</td><td class=tg-left>    +ve    </td><td class=tg-left>      </td></tr>\n",
       "<tr><td class=tg-left>  [38] </td><td class=tg-right>                   6.87369439</td><td class=tg-left>    +ve    </td><td class=tg-left>      </td></tr>\n",
       "<tr><td class=tg-left>  [39] </td><td class=tg-right>                  46.75508331</td><td class=tg-left>    +ve    </td><td class=tg-left>      </td></tr>\n",
       "<tr><td class=tg-left>  [40] </td><td class=tg-right>                  12.00536692</td><td class=tg-left>    +ve    </td><td class=tg-left>      </td></tr>\n",
       "<tr><td class=tg-left>  [41] </td><td class=tg-right>                  48.62023660</td><td class=tg-left>    +ve    </td><td class=tg-left>      </td></tr>\n",
       "<tr><td class=tg-left>  [42] </td><td class=tg-right>                   7.49397415</td><td class=tg-left>    +ve    </td><td class=tg-left>      </td></tr>\n",
       "<tr><td class=tg-left>  [43] </td><td class=tg-right>                  45.03504372</td><td class=tg-left>    +ve    </td><td class=tg-left>      </td></tr>\n",
       "<tr><td class=tg-left>  [44] </td><td class=tg-right>                  55.50384905</td><td class=tg-left>    +ve    </td><td class=tg-left>      </td></tr>\n",
       "<tr><td class=tg-left>  [45] </td><td class=tg-right>                   7.58122776</td><td class=tg-left>    +ve    </td><td class=tg-left>      </td></tr>\n",
       "<tr><td class=tg-left>  [46] </td><td class=tg-right>                  46.88289511</td><td class=tg-left>    +ve    </td><td class=tg-left>      </td></tr>\n",
       "<tr><td class=tg-left>  [47] </td><td class=tg-right>                  46.95931785</td><td class=tg-left>    +ve    </td><td class=tg-left>      </td></tr>\n",
       "<tr><td class=tg-left>  [48] </td><td class=tg-right>                  50.95538319</td><td class=tg-left>    +ve    </td><td class=tg-left>      </td></tr>\n",
       "<tr><td class=tg-left>  [49] </td><td class=tg-right>                  51.09924879</td><td class=tg-left>    +ve    </td><td class=tg-left>      </td></tr>\n",
       "<tr><td class=tg-left>  [50] </td><td class=tg-right>                  45.99434282</td><td class=tg-left>    +ve    </td><td class=tg-left>      </td></tr>\n",
       "<tr><td class=tg-left>  [51] </td><td class=tg-right>                  53.39131082</td><td class=tg-left>    +ve    </td><td class=tg-left>      </td></tr>\n",
       "<tr><td class=tg-left>  [52] </td><td class=tg-right>                  53.81687301</td><td class=tg-left>    +ve    </td><td class=tg-left>      </td></tr>\n",
       "<tr><td class=tg-left>  [53] </td><td class=tg-right>                  11.06443787</td><td class=tg-left>    +ve    </td><td class=tg-left>      </td></tr>\n",
       "<tr><td class=tg-left>  [54] </td><td class=tg-right>                  18.02727210</td><td class=tg-left>    +ve    </td><td class=tg-left>      </td></tr>\n",
       "<tr><td class=tg-left>  [55] </td><td class=tg-right>                  41.64341659</td><td class=tg-left>    +ve    </td><td class=tg-left>      </td></tr>\n",
       "<tr><td class=tg-left>  [56] </td><td class=tg-right>                   4.01872428</td><td class=tg-left>    +ve    </td><td class=tg-left>      </td></tr>\n",
       "<tr><td class=tg-left>  [57] </td><td class=tg-right>                  62.23083164</td><td class=tg-left>    +ve    </td><td class=tg-left>      </td></tr>\n",
       "<tr><td class=tg-left>  [58] </td><td class=tg-right>                  46.30851399</td><td class=tg-left>    +ve    </td><td class=tg-left>      </td></tr>\n",
       "<tr><td class=tg-left>  [59] </td><td class=tg-right>                  63.87633830</td><td class=tg-left>    +ve    </td><td class=tg-left>      </td></tr>\n",
       "<tr><td class=tg-left>  [60] </td><td class=tg-right>                  65.00362972</td><td class=tg-left>    +ve    </td><td class=tg-left>      </td></tr>\n",
       "<tr><td class=tg-left>  [61] </td><td class=tg-right>                   7.18049622</td><td class=tg-left>    +ve    </td><td class=tg-left>      </td></tr>\n",
       "<tr><td class=tg-left>  [62] </td><td class=tg-right>                  47.35789288</td><td class=tg-left>    +ve    </td><td class=tg-left>      </td></tr>\n",
       "<tr><td class=tg-left>  [63] </td><td class=tg-right>                  12.52923616</td><td class=tg-left>    +ve    </td><td class=tg-left>      </td></tr>\n",
       "<tr><td class=tg-left>  [64] </td><td class=tg-right>                  15.52018997</td><td class=tg-left>    +ve    </td><td class=tg-left>      </td></tr>\n",
       "<tr><td class=tg-left>  [65] </td><td class=tg-right>                  63.77856172</td><td class=tg-left>    +ve    </td><td class=tg-left>      </td></tr>"
      ],
      "text/plain": [
       "\u001b[1mGP_regression.rbf.lengthscale\u001b[0;0m:\n",
       "Param([ 2.11115307,  7.21164168, 44.22117288, 70.68223818, 67.87312004,\n",
       "        7.44911739, 52.51846365,  4.51554302, 65.19980153,  3.29324699,\n",
       "       43.31591338, 47.17360249, 50.82950903, 36.73147399, 55.40149357,\n",
       "        8.23744551, 55.65512501, 42.20408132, 35.70910183, 19.12823099,\n",
       "       53.21179692, 65.73055311,  7.15136569, 46.87343401,  6.05256062,\n",
       "       58.67787153, 34.59394002, 61.76758866, 52.55779385, 66.82018695,\n",
       "       83.98256534, 35.22954962, 60.37955019, 52.36098363, 60.27964764,\n",
       "        7.16143369, 49.43884092, 46.63983128,  6.87369439, 46.75508331,\n",
       "       12.00536692, 48.6202366 ,  7.49397415, 45.03504372, 55.50384905,\n",
       "        7.58122776, 46.88289511, 46.95931785, 50.95538319, 51.09924879,\n",
       "       45.99434282, 53.39131082, 53.81687301, 11.06443787, 18.0272721 ,\n",
       "       41.64341659,  4.01872428, 62.23083164, 46.30851399, 63.8763383 ,\n",
       "       65.00362972,  7.18049622, 47.35789288, 12.52923616, 15.52018997,\n",
       "       63.77856172])"
      ]
     },
     "execution_count": 93,
     "metadata": {},
     "output_type": "execute_result"
    }
   ],
   "source": [
    "m.rbf.lengthscale"
   ]
  },
  {
   "cell_type": "code",
   "execution_count": 96,
   "metadata": {},
   "outputs": [],
   "source": [
    "np.save('model_save_1_10_20.npy', m.param_array)"
   ]
  },
  {
   "cell_type": "code",
   "execution_count": 94,
   "metadata": {},
   "outputs": [],
   "source": [
    "X_test = test.drop(columns='ProteinAUC').values\n",
    "Y_test = test[['ProteinAUC']].values\n",
    "\n",
    "## predict mean and variance of latent GP at test points\n",
    "y_predicted = m.predict(X_test)\n",
    "mean = y_predicted[0]\n",
    "var = y_predicted[1]"
   ]
  },
  {
   "cell_type": "code",
   "execution_count": 95,
   "metadata": {},
   "outputs": [
    {
     "data": {
      "text/plain": [
       "{'mae': 0.568398553968206,\n",
       " 'mse': 0.5749363671777904,\n",
       " 'smse': 0.5962200359867857,\n",
       " 'r2': 0.3992900625955138,\n",
       " 'evs': 0.4011630767671984,\n",
       " 'spearmanrho': 0.6272953780150242,\n",
       " 'spearmanrho_p': 8.118654383848159e-79,\n",
       " 'pearsonr': 0.6352116398105493,\n",
       " 'pearsonr_p': 2.254963275698549e-81,\n",
       " 'median_abs_fc': 2.7013640486482755,\n",
       " 'mean_abs_fc': 3.701677285165486}"
      ]
     },
     "execution_count": 95,
     "metadata": {},
     "output_type": "execute_result"
    }
   ],
   "source": [
    "compute_metrics(mean, Y_test, Y)"
   ]
  }
 ],
 "metadata": {
  "kernelspec": {
   "display_name": "Python [conda env:tf2.0]",
   "language": "python",
   "name": "conda-env-tf2.0-py"
  },
  "language_info": {
   "codemirror_mode": {
    "name": "ipython",
    "version": 3
   },
   "file_extension": ".py",
   "mimetype": "text/x-python",
   "name": "python",
   "nbconvert_exporter": "python",
   "pygments_lexer": "ipython3",
   "version": "3.7.4"
  }
 },
 "nbformat": 4,
 "nbformat_minor": 4
}
