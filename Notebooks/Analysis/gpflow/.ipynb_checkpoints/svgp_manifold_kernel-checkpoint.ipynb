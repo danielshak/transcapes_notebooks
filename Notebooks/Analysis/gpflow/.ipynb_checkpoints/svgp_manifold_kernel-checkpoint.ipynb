{
 "cells": [
  {
   "cell_type": "markdown",
   "metadata": {},
   "source": [
    "### Sample Imports"
   ]
  },
  {
   "cell_type": "code",
   "execution_count": 15,
   "metadata": {},
   "outputs": [],
   "source": [
    "from gpflow.ci_utils import ci_niter\n",
    "from scipy.cluster.vq import kmeans2\n",
    "\n",
    "iterations = ci_niter(100)"
   ]
  },
  {
   "cell_type": "code",
   "execution_count": 1,
   "metadata": {},
   "outputs": [],
   "source": [
    "import pandas as pd\n",
    "import numpy as np\n",
    "import matplotlib.pyplot as plt\n",
    "import pickle\n",
    "import time\n",
    "import tensorflow as tf\n",
    "from tensorflow import keras\n",
    "from tensorflow.keras import layers\n",
    "import gpflow\n",
    "from gpflow.utilities import print_summary\n",
    "from gpflow.config import default_float\n",
    "import sys\n",
    "import os\n",
    "from sklearn.model_selection import train_test_split\n",
    "import sklearn.metrics\n",
    "import scipy.stats\n",
    "\n",
    "sys.path.append('../../Utils')\n",
    "from metrics import compute_metrics\n",
    "\n",
    "current_dir = os.getcwd()\n",
    "data_dir = os.path.join(current_dir, '../../../Data/')\n",
    "\n",
    "RNA_PROT_EMBED = data_dir+'ProcessedData/protein_embeddings/rna_protein_u64embeddings.pkl'\n",
    "tf.keras.backend.set_floatx('float64')\n",
    "#gpflow.config.set_default_float('float32')"
   ]
  },
  {
   "cell_type": "code",
   "execution_count": 3,
   "metadata": {},
   "outputs": [
    {
     "name": "stdout",
     "output_type": "stream",
     "text": [
      "TF eager exectution: True\n",
      "Using device PhysicalDevice(name='/physical_device:GPU:0', device_type='GPU')\n"
     ]
    }
   ],
   "source": [
    "device = 0\n",
    "physical_devices = tf.config.experimental.list_physical_devices('GPU')\n",
    "tf.config.experimental.set_visible_devices(physical_devices[device], 'GPU')\n",
    "\n",
    "print(f'TF eager exectution: {tf.executing_eagerly()}')\n",
    "print(f'Using device {physical_devices[device]}')"
   ]
  },
  {
   "cell_type": "code",
   "execution_count": 4,
   "metadata": {},
   "outputs": [],
   "source": [
    "class General_MLP(keras.Model):\n",
    "    def __init__(self,hidden_nodes,input_shape,activation='relu',last=False):\n",
    "        '''\n",
    "        https://www.tensorflow.org/api_docs/python/tf/keras/Model\n",
    "        hidden nodes (array like) - all the dimensions after input including output size\n",
    "        input shape is optional (tuple), if not specified then network takes input shape as the shape of the first vector passed to it.\n",
    "        activation (string), type of activation function to use, must be in keras activations\n",
    "        last (Bool), whether or not to have activation on the final output layer\n",
    "        ex:\n",
    "        atlas_mlp = General_MLP([66,1],input_shape=(1,66))\n",
    "        atlas_mlp.summary()\n",
    "        '''\n",
    "        super(General_MLP, self).__init__()\n",
    "        self.mlp_layers = []\n",
    "        for nodes in hidden_nodes[0:-1]: \n",
    "            self.mlp_layers.append(keras.layers.Dense(nodes, activation=activation))\n",
    "            \n",
    "        if last:\n",
    "            self.mlp_layers.append(keras.layers.Dense(hidden_nodes[-1], activation=activation))\n",
    "        else:\n",
    "            self.mlp_layers.append(keras.layers.Dense(hidden_nodes[-1]))\n",
    "            \n",
    "        #Specific line is to cast the output to the gpflow default precision\n",
    "        self.mlp_layers.append(tf.keras.layers.Lambda(lambda x: tf.cast(x, default_float())))\n",
    "        self.out_size = hidden_nodes[-1]\n",
    "        \n",
    "        if type(input_shape) != type(None):\n",
    "            self.in_size = input_shape[1]\n",
    "            self.build(input_shape)\n",
    "    \n",
    "    #training flag if specific layers behave differently (ex: batch norm), for mlp no difference\n",
    "    def call(self, inputs, training=True):\n",
    "        for layer in self.mlp_layers:\n",
    "            inputs = layer(inputs)\n",
    "        return inputs"
   ]
  },
  {
   "cell_type": "code",
   "execution_count": 5,
   "metadata": {},
   "outputs": [],
   "source": [
    "class nn_based_kernel(gpflow.kernels.Kernel):\n",
    "    def __init__(self,base_kernel: gpflow.kernels.Kernel,nn_model):\n",
    "        super(nn_based_kernel, self).__init__()\n",
    "        assert(nn_model.built),\"NN model is not built, input shape is not initialized\"\n",
    "\n",
    "        self.cnn = nn_model\n",
    "        self.base_kernel = base_kernel\n",
    "    \n",
    "    def K(self,X,X2=None,presliced=False):\n",
    "        \"\"\"\n",
    "        If you add a method in the child class with the same name as a function in the\n",
    "        parent class, the inheritance of the parent method will be overridden.\n",
    "        \"\"\"\n",
    "        transformed_X = self.cnn(X)\n",
    "        transformed_X2 = self.cnn(X2) if X2 is not None else X2\n",
    "        return self.base_kernel.K(transformed_X, transformed_X2, presliced)\n",
    "    \n",
    "    def K_diag(self, X_input,presliced=False):\n",
    "        transformed_X = self.cnn(X_input)\n",
    "        return self.base_kernel.K_diag(transformed_X, presliced)"
   ]
  },
  {
   "cell_type": "code",
   "execution_count": 6,
   "metadata": {},
   "outputs": [],
   "source": [
    "with open(RNA_PROT_EMBED,'rb') as file:\n",
    "    rna_prot_embed = pickle.load(file)"
   ]
  },
  {
   "cell_type": "code",
   "execution_count": 49,
   "metadata": {},
   "outputs": [
    {
     "data": {
      "text/html": [
       "<div>\n",
       "<style scoped>\n",
       "    .dataframe tbody tr th:only-of-type {\n",
       "        vertical-align: middle;\n",
       "    }\n",
       "\n",
       "    .dataframe tbody tr th {\n",
       "        vertical-align: top;\n",
       "    }\n",
       "\n",
       "    .dataframe thead th {\n",
       "        text-align: right;\n",
       "    }\n",
       "</style>\n",
       "<table border=\"1\" class=\"dataframe\">\n",
       "  <thead>\n",
       "    <tr style=\"text-align: right;\">\n",
       "      <th></th>\n",
       "      <th></th>\n",
       "      <th></th>\n",
       "      <th>mRNA_TMM</th>\n",
       "      <th>ProteinAUC</th>\n",
       "      <th>ProteinLength</th>\n",
       "      <th>0</th>\n",
       "      <th>1</th>\n",
       "      <th>2</th>\n",
       "      <th>3</th>\n",
       "      <th>4</th>\n",
       "      <th>5</th>\n",
       "      <th>6</th>\n",
       "      <th>...</th>\n",
       "      <th>54</th>\n",
       "      <th>55</th>\n",
       "      <th>56</th>\n",
       "      <th>57</th>\n",
       "      <th>58</th>\n",
       "      <th>59</th>\n",
       "      <th>60</th>\n",
       "      <th>61</th>\n",
       "      <th>62</th>\n",
       "      <th>63</th>\n",
       "    </tr>\n",
       "    <tr>\n",
       "      <th>Gene.names</th>\n",
       "      <th>Majority.protein.IDs</th>\n",
       "      <th>cell</th>\n",
       "      <th></th>\n",
       "      <th></th>\n",
       "      <th></th>\n",
       "      <th></th>\n",
       "      <th></th>\n",
       "      <th></th>\n",
       "      <th></th>\n",
       "      <th></th>\n",
       "      <th></th>\n",
       "      <th></th>\n",
       "      <th></th>\n",
       "      <th></th>\n",
       "      <th></th>\n",
       "      <th></th>\n",
       "      <th></th>\n",
       "      <th></th>\n",
       "      <th></th>\n",
       "      <th></th>\n",
       "      <th></th>\n",
       "      <th></th>\n",
       "      <th></th>\n",
       "    </tr>\n",
       "  </thead>\n",
       "  <tbody>\n",
       "    <tr>\n",
       "      <td>Rps3</td>\n",
       "      <td>P62908</td>\n",
       "      <td>AM_04M_F0</td>\n",
       "      <td>674.165946</td>\n",
       "      <td>1.137358e+08</td>\n",
       "      <td>243</td>\n",
       "      <td>-0.085505</td>\n",
       "      <td>0.144599</td>\n",
       "      <td>-0.125936</td>\n",
       "      <td>-0.968383</td>\n",
       "      <td>-0.031190</td>\n",
       "      <td>-0.106168</td>\n",
       "      <td>0.075443</td>\n",
       "      <td>...</td>\n",
       "      <td>0.121134</td>\n",
       "      <td>0.006451</td>\n",
       "      <td>-0.033684</td>\n",
       "      <td>-0.082530</td>\n",
       "      <td>-0.017069</td>\n",
       "      <td>0.428129</td>\n",
       "      <td>-0.164145</td>\n",
       "      <td>-0.043922</td>\n",
       "      <td>0.412728</td>\n",
       "      <td>-0.001903</td>\n",
       "    </tr>\n",
       "    <tr>\n",
       "      <td>Ccdc22</td>\n",
       "      <td>Q9JIG7</td>\n",
       "      <td>AM_04M_F0</td>\n",
       "      <td>5.248544</td>\n",
       "      <td>2.813194e+07</td>\n",
       "      <td>627</td>\n",
       "      <td>0.052259</td>\n",
       "      <td>0.160503</td>\n",
       "      <td>-0.115460</td>\n",
       "      <td>-0.990235</td>\n",
       "      <td>-0.097925</td>\n",
       "      <td>-0.065146</td>\n",
       "      <td>0.048975</td>\n",
       "      <td>...</td>\n",
       "      <td>0.105971</td>\n",
       "      <td>0.028436</td>\n",
       "      <td>0.115947</td>\n",
       "      <td>-0.092702</td>\n",
       "      <td>0.033482</td>\n",
       "      <td>0.436445</td>\n",
       "      <td>-0.139643</td>\n",
       "      <td>-0.013778</td>\n",
       "      <td>0.242822</td>\n",
       "      <td>0.065144</td>\n",
       "    </tr>\n",
       "    <tr>\n",
       "      <td>Ylpm1</td>\n",
       "      <td>Q9R0I7</td>\n",
       "      <td>AM_04M_F0</td>\n",
       "      <td>78.729289</td>\n",
       "      <td>8.803486e+06</td>\n",
       "      <td>1386</td>\n",
       "      <td>0.036306</td>\n",
       "      <td>0.083100</td>\n",
       "      <td>-0.155466</td>\n",
       "      <td>-0.982812</td>\n",
       "      <td>-0.137777</td>\n",
       "      <td>-0.457483</td>\n",
       "      <td>-0.054906</td>\n",
       "      <td>...</td>\n",
       "      <td>0.211440</td>\n",
       "      <td>0.216405</td>\n",
       "      <td>0.184683</td>\n",
       "      <td>-0.124725</td>\n",
       "      <td>0.029601</td>\n",
       "      <td>0.354003</td>\n",
       "      <td>-0.310361</td>\n",
       "      <td>-0.033418</td>\n",
       "      <td>0.250332</td>\n",
       "      <td>-0.054125</td>\n",
       "    </tr>\n",
       "    <tr>\n",
       "      <td>Gnai3</td>\n",
       "      <td>Q9DC51</td>\n",
       "      <td>AM_04M_F0</td>\n",
       "      <td>223.191268</td>\n",
       "      <td>4.110071e+07</td>\n",
       "      <td>354</td>\n",
       "      <td>-0.123134</td>\n",
       "      <td>0.126303</td>\n",
       "      <td>-0.092475</td>\n",
       "      <td>-0.969833</td>\n",
       "      <td>-0.005820</td>\n",
       "      <td>-0.057672</td>\n",
       "      <td>0.107903</td>\n",
       "      <td>...</td>\n",
       "      <td>0.137047</td>\n",
       "      <td>0.008167</td>\n",
       "      <td>-0.088351</td>\n",
       "      <td>-0.018563</td>\n",
       "      <td>-0.036717</td>\n",
       "      <td>0.443771</td>\n",
       "      <td>-0.123508</td>\n",
       "      <td>-0.036990</td>\n",
       "      <td>0.424119</td>\n",
       "      <td>0.014253</td>\n",
       "    </tr>\n",
       "    <tr>\n",
       "      <td>Cct8</td>\n",
       "      <td>P42932</td>\n",
       "      <td>AM_04M_F0</td>\n",
       "      <td>167.142354</td>\n",
       "      <td>4.850921e+07</td>\n",
       "      <td>548</td>\n",
       "      <td>-0.071893</td>\n",
       "      <td>0.114264</td>\n",
       "      <td>-0.134181</td>\n",
       "      <td>-0.938758</td>\n",
       "      <td>-0.009126</td>\n",
       "      <td>-0.115529</td>\n",
       "      <td>0.090082</td>\n",
       "      <td>...</td>\n",
       "      <td>0.084978</td>\n",
       "      <td>0.013348</td>\n",
       "      <td>-0.042802</td>\n",
       "      <td>-0.086967</td>\n",
       "      <td>0.016824</td>\n",
       "      <td>0.263484</td>\n",
       "      <td>-0.154519</td>\n",
       "      <td>-0.040509</td>\n",
       "      <td>0.377616</td>\n",
       "      <td>-0.035322</td>\n",
       "    </tr>\n",
       "  </tbody>\n",
       "</table>\n",
       "<p>5 rows × 67 columns</p>\n",
       "</div>"
      ],
      "text/plain": [
       "                                             mRNA_TMM    ProteinAUC  \\\n",
       "Gene.names Majority.protein.IDs cell                                  \n",
       "Rps3       P62908               AM_04M_F0  674.165946  1.137358e+08   \n",
       "Ccdc22     Q9JIG7               AM_04M_F0    5.248544  2.813194e+07   \n",
       "Ylpm1      Q9R0I7               AM_04M_F0   78.729289  8.803486e+06   \n",
       "Gnai3      Q9DC51               AM_04M_F0  223.191268  4.110071e+07   \n",
       "Cct8       P42932               AM_04M_F0  167.142354  4.850921e+07   \n",
       "\n",
       "                                           ProteinLength         0         1  \\\n",
       "Gene.names Majority.protein.IDs cell                                           \n",
       "Rps3       P62908               AM_04M_F0            243 -0.085505  0.144599   \n",
       "Ccdc22     Q9JIG7               AM_04M_F0            627  0.052259  0.160503   \n",
       "Ylpm1      Q9R0I7               AM_04M_F0           1386  0.036306  0.083100   \n",
       "Gnai3      Q9DC51               AM_04M_F0            354 -0.123134  0.126303   \n",
       "Cct8       P42932               AM_04M_F0            548 -0.071893  0.114264   \n",
       "\n",
       "                                                  2         3         4  \\\n",
       "Gene.names Majority.protein.IDs cell                                      \n",
       "Rps3       P62908               AM_04M_F0 -0.125936 -0.968383 -0.031190   \n",
       "Ccdc22     Q9JIG7               AM_04M_F0 -0.115460 -0.990235 -0.097925   \n",
       "Ylpm1      Q9R0I7               AM_04M_F0 -0.155466 -0.982812 -0.137777   \n",
       "Gnai3      Q9DC51               AM_04M_F0 -0.092475 -0.969833 -0.005820   \n",
       "Cct8       P42932               AM_04M_F0 -0.134181 -0.938758 -0.009126   \n",
       "\n",
       "                                                  5         6  ...        54  \\\n",
       "Gene.names Majority.protein.IDs cell                           ...             \n",
       "Rps3       P62908               AM_04M_F0 -0.106168  0.075443  ...  0.121134   \n",
       "Ccdc22     Q9JIG7               AM_04M_F0 -0.065146  0.048975  ...  0.105971   \n",
       "Ylpm1      Q9R0I7               AM_04M_F0 -0.457483 -0.054906  ...  0.211440   \n",
       "Gnai3      Q9DC51               AM_04M_F0 -0.057672  0.107903  ...  0.137047   \n",
       "Cct8       P42932               AM_04M_F0 -0.115529  0.090082  ...  0.084978   \n",
       "\n",
       "                                                 55        56        57  \\\n",
       "Gene.names Majority.protein.IDs cell                                      \n",
       "Rps3       P62908               AM_04M_F0  0.006451 -0.033684 -0.082530   \n",
       "Ccdc22     Q9JIG7               AM_04M_F0  0.028436  0.115947 -0.092702   \n",
       "Ylpm1      Q9R0I7               AM_04M_F0  0.216405  0.184683 -0.124725   \n",
       "Gnai3      Q9DC51               AM_04M_F0  0.008167 -0.088351 -0.018563   \n",
       "Cct8       P42932               AM_04M_F0  0.013348 -0.042802 -0.086967   \n",
       "\n",
       "                                                 58        59        60  \\\n",
       "Gene.names Majority.protein.IDs cell                                      \n",
       "Rps3       P62908               AM_04M_F0 -0.017069  0.428129 -0.164145   \n",
       "Ccdc22     Q9JIG7               AM_04M_F0  0.033482  0.436445 -0.139643   \n",
       "Ylpm1      Q9R0I7               AM_04M_F0  0.029601  0.354003 -0.310361   \n",
       "Gnai3      Q9DC51               AM_04M_F0 -0.036717  0.443771 -0.123508   \n",
       "Cct8       P42932               AM_04M_F0  0.016824  0.263484 -0.154519   \n",
       "\n",
       "                                                 61        62        63  \n",
       "Gene.names Majority.protein.IDs cell                                     \n",
       "Rps3       P62908               AM_04M_F0 -0.043922  0.412728 -0.001903  \n",
       "Ccdc22     Q9JIG7               AM_04M_F0 -0.013778  0.242822  0.065144  \n",
       "Ylpm1      Q9R0I7               AM_04M_F0 -0.033418  0.250332 -0.054125  \n",
       "Gnai3      Q9DC51               AM_04M_F0 -0.036990  0.424119  0.014253  \n",
       "Cct8       P42932               AM_04M_F0 -0.040509  0.377616 -0.035322  \n",
       "\n",
       "[5 rows x 67 columns]"
      ]
     },
     "execution_count": 49,
     "metadata": {},
     "output_type": "execute_result"
    }
   ],
   "source": [
    "#Code Parameters\n",
    "#-----------------------------------------\n",
    "cols_drop=['ProteinAUC']\n",
    "MRNA_THRESH = 0\n",
    "ZSCORE = True\n",
    "BATCH = 32\n",
    "SAVE = False\n",
    "LOG_TRANS = True\n",
    "#-----------------------------------------\n",
    "\n",
    "data = rna_prot_embed['AM_04M_F0'].copy()\n",
    "data.drop(columns='AvgChrs',inplace=True)\n",
    "data = data[data['mRNA_TMM']>MRNA_THRESH]\n",
    "\n",
    "if LOG_TRANS:\n",
    "    #Log transform mRNA, protein, and protein length -> log-normal distributed\n",
    "    data['mRNA_TMM'] = np.log2(data['mRNA_TMM']+1)\n",
    "    data['ProteinAUC'] = np.log2(data['ProteinAUC']+1)\n",
    "    data['ProteinLength'] = np.log2(data['ProteinLength']+1)\n",
    "\n",
    "SEED = 10\n",
    "train,test = train_test_split(data,test_size=0.2,random_state=SEED)\n",
    "SEED = 42\n",
    "train,val = train_test_split(train,test_size=0.2,random_state=SEED)\n",
    "train.head()"
   ]
  },
  {
   "cell_type": "code",
   "execution_count": 51,
   "metadata": {},
   "outputs": [
    {
     "name": "stdout",
     "output_type": "stream",
     "text": [
      "Data is z-scored\n"
     ]
    }
   ],
   "source": [
    "def zscore(train_df):\n",
    "    assert isinstance(train_df,pd.DataFrame)\n",
    "    means = train_df.mean(axis=0)\n",
    "    stds = train_df.std(axis=0)\n",
    "    zscored = (train_df-means)/stds\n",
    "    return zscored, means, stds\n",
    "\n",
    "if ZSCORE:\n",
    "    print(f'Data is z-scored')\n",
    "    train, train_mean, train_std = zscore(train) #zscore data\n",
    "    val = (val-train_mean)/train_std #zscore validation data using mean and std from train set\n",
    "    test = (test-train_mean)/train_std #zscore test data using mean and std from train set"
   ]
  },
  {
   "cell_type": "code",
   "execution_count": 9,
   "metadata": {},
   "outputs": [
    {
     "name": "stdout",
     "output_type": "stream",
     "text": [
      "train dataset size: (2287, 66)\n",
      "validation dataset size: (572, 66)\n",
      "test dataset size: (715, 66)\n"
     ]
    }
   ],
   "source": [
    "x_train = train.drop(columns=cols_drop).values\n",
    "y_train = train[['ProteinAUC']].values\n",
    "total_num_data = x_train.shape[0]\n",
    "\n",
    "x_val = val.drop(columns=cols_drop).values\n",
    "y_val = val[['ProteinAUC']].values\n",
    "\n",
    "x_test = test.drop(columns=cols_drop).values\n",
    "y_test = test[['ProteinAUC']].values\n",
    "\n",
    "print(f'train dataset size: {x_train.shape}')\n",
    "print(f'validation dataset size: {x_val.shape}')\n",
    "print(f'test dataset size: {x_test.shape}')\n",
    "\n",
    "trn_dataset = tf.data.Dataset.from_tensor_slices((x_train,y_train))\n",
    "trn_dataset = trn_dataset.shuffle(buffer_size=x_train.shape[0]).batch(BATCH) #I think default is 32\n",
    "\n",
    "val_dataset = tf.data.Dataset.from_tensor_slices((x_val,y_val))\n",
    "val_dataset = val_dataset.batch(BATCH)"
   ]
  },
  {
   "cell_type": "code",
   "execution_count": 10,
   "metadata": {},
   "outputs": [],
   "source": [
    "class KernelSpaceInducingPoints(gpflow.inducing_variables.InducingPoints):\n",
    "    pass\n",
    "\n",
    "@gpflow.covariances.Kuu.register(KernelSpaceInducingPoints, nn_based_kernel)\n",
    "def Kuu(inducing_variable, kernel, jitter=None):\n",
    "    func = gpflow.covariances.Kuu.dispatch(gpflow.inducing_variables.InducingPoints, gpflow.kernels.Kernel)\n",
    "    return func(inducing_variable, kernel.base_kernel, jitter=jitter)\n",
    "\n",
    "@gpflow.covariances.Kuf.register(KernelSpaceInducingPoints, nn_based_kernel, object)\n",
    "def Kuf(inducing_variable, kernel, a_input):\n",
    "    return kernel.base_kernel(inducing_variable.Z, kernel.cnn(a_input))"
   ]
  },
  {
   "cell_type": "code",
   "execution_count": 11,
   "metadata": {},
   "outputs": [
    {
     "name": "stdout",
     "output_type": "stream",
     "text": [
      "Model: \"general_mlp\"\n",
      "_________________________________________________________________\n",
      "Layer (type)                 Output Shape              Param #   \n",
      "=================================================================\n",
      "dense (Dense)                multiple                  4288      \n",
      "_________________________________________________________________\n",
      "dense_1 (Dense)              multiple                  260       \n",
      "_________________________________________________________________\n",
      "lambda (Lambda)              multiple                  0         \n",
      "=================================================================\n",
      "Total params: 4,548\n",
      "Trainable params: 4,548\n",
      "Non-trainable params: 0\n",
      "_________________________________________________________________\n"
     ]
    }
   ],
   "source": [
    "manifold_mlp = General_MLP([64,4],input_shape=(1,66),last=True)\n",
    "manifold_mlp.summary()"
   ]
  },
  {
   "cell_type": "code",
   "execution_count": 12,
   "metadata": {},
   "outputs": [],
   "source": [
    "base_kernel = gpflow.kernels.SquaredExponential(lengthscale=[1]*manifold_mlp.out_size) #Initialize ARD for lengthscale\n",
    "kernel = nn_based_kernel(base_kernel,manifold_mlp)\n",
    "#print_summary(kernel)"
   ]
  },
  {
   "cell_type": "code",
   "execution_count": 13,
   "metadata": {},
   "outputs": [],
   "source": [
    "num_inducing_points = 100\n",
    "gene_subset, labels_subset = next(iter(trn_dataset.batch(32)))\n",
    "gene_size = tf.reduce_prod(gene_subset[0,0,:].shape)\n",
    "gene_subset = tf.reshape(gene_subset, [-1, gene_size])\n",
    "labels_subset = tf.reshape(labels_subset, [-1, 1])"
   ]
  },
  {
   "cell_type": "code",
   "execution_count": 16,
   "metadata": {},
   "outputs": [],
   "source": [
    "inducing_variable_kmeans = kmeans2(gene_subset.numpy(), num_inducing_points, minit='points')[0]\n",
    "inducing_variable_cnn = kernel.cnn(inducing_variable_kmeans)\n",
    "inducing_variable = KernelSpaceInducingPoints(inducing_variable_cnn)"
   ]
  },
  {
   "cell_type": "code",
   "execution_count": 17,
   "metadata": {},
   "outputs": [],
   "source": [
    "likelihood = gpflow.likelihoods.Gaussian()"
   ]
  },
  {
   "cell_type": "code",
   "execution_count": 18,
   "metadata": {},
   "outputs": [],
   "source": [
    "model = gpflow.models.SVGP(kernel, likelihood,\n",
    "                           inducing_variable=inducing_variable,\n",
    "                           num_data=total_num_data)\n",
    "#print_summary(model)"
   ]
  },
  {
   "cell_type": "code",
   "execution_count": 19,
   "metadata": {},
   "outputs": [],
   "source": [
    "#optimizer = tf.keras.optimizers.RMSprop(0.001)\n",
    "#optimizer = tf.keras.optimizers.SGD(0.001) #-> need lr, momentum, neustrov?\n",
    "optimizer = tf.keras.optimizers.Adam() #default 0.001\n",
    "avg_elbo = tf.keras.metrics.Mean()\n",
    "val_avg_elbo = tf.keras.metrics.Mean()"
   ]
  },
  {
   "cell_type": "code",
   "execution_count": 36,
   "metadata": {},
   "outputs": [
    {
     "name": "stdout",
     "output_type": "stream",
     "text": [
      "Epoch 1, avg Tbatch elbo 1272.7770491716103 improvement -206.33945900285107, avg Vbatch elbo 4325.150941277298\n",
      "Epoch 5, avg Tbatch elbo 1588.6203627615746 improvement -406.2675079723242, avg Vbatch elbo 4795.998096270754\n",
      "Epoch 10, avg Tbatch elbo 1007.0996777536841 improvement -21.76073496262734, avg Vbatch elbo 5203.138485490723\n",
      "Epoch 15, avg Tbatch elbo 1868.6262790012677 improvement -708.4966281262848, avg Vbatch elbo 5553.808996887576\n",
      "Epoch 20, avg Tbatch elbo 659.8883086808373 improvement 2.0470245251655115, avg Vbatch elbo 6271.900329629156\n",
      "Epoch 25, avg Tbatch elbo 529.535932540436 improvement 34.20552881140145, avg Vbatch elbo 6498.225160842479\n",
      "Epoch 30, avg Tbatch elbo 458.42257502996017 improvement 76.66262795016837, avg Vbatch elbo 6846.268852161908\n",
      "Epoch 35, avg Tbatch elbo 1575.5419125331605 improvement -468.0287741679995, avg Vbatch elbo 6211.687765207709\n",
      "Epoch 40, avg Tbatch elbo 798.8267948401922 improvement 312.5349328680445, avg Vbatch elbo 5623.429767000373\n"
     ]
    },
    {
     "ename": "KeyboardInterrupt",
     "evalue": "",
     "output_type": "error",
     "traceback": [
      "\u001b[0;31m---------------------------------------------------------------------------\u001b[0m",
      "\u001b[0;31mKeyboardInterrupt\u001b[0m                         Traceback (most recent call last)",
      "\u001b[0;32m<ipython-input-36-461bb95aa2ef>\u001b[0m in \u001b[0;36m<module>\u001b[0;34m\u001b[0m\n\u001b[1;32m      7\u001b[0m         \u001b[0;32mwith\u001b[0m \u001b[0mtf\u001b[0m\u001b[0;34m.\u001b[0m\u001b[0mGradientTape\u001b[0m\u001b[0;34m(\u001b[0m\u001b[0mwatch_accessed_variables\u001b[0m\u001b[0;34m=\u001b[0m\u001b[0;32mFalse\u001b[0m\u001b[0;34m)\u001b[0m \u001b[0;32mas\u001b[0m \u001b[0mtape\u001b[0m\u001b[0;34m:\u001b[0m\u001b[0;34m\u001b[0m\u001b[0;34m\u001b[0m\u001b[0m\n\u001b[1;32m      8\u001b[0m             \u001b[0mtape\u001b[0m\u001b[0;34m.\u001b[0m\u001b[0mwatch\u001b[0m\u001b[0;34m(\u001b[0m\u001b[0mmodel\u001b[0m\u001b[0;34m.\u001b[0m\u001b[0mtrainable_variables\u001b[0m\u001b[0;34m)\u001b[0m\u001b[0;34m\u001b[0m\u001b[0;34m\u001b[0m\u001b[0m\n\u001b[0;32m----> 9\u001b[0;31m             \u001b[0mobj\u001b[0m \u001b[0;34m=\u001b[0m \u001b[0;34m-\u001b[0m\u001b[0mmodel\u001b[0m\u001b[0;34m.\u001b[0m\u001b[0melbo\u001b[0m\u001b[0;34m(\u001b[0m\u001b[0;34m(\u001b[0m\u001b[0mx_batch_train\u001b[0m\u001b[0;34m,\u001b[0m\u001b[0my_batch_train\u001b[0m\u001b[0;34m)\u001b[0m\u001b[0;34m)\u001b[0m\u001b[0;34m\u001b[0m\u001b[0;34m\u001b[0m\u001b[0m\n\u001b[0m\u001b[1;32m     10\u001b[0m             \u001b[0mgrads\u001b[0m \u001b[0;34m=\u001b[0m \u001b[0mtape\u001b[0m\u001b[0;34m.\u001b[0m\u001b[0mgradient\u001b[0m\u001b[0;34m(\u001b[0m\u001b[0mobj\u001b[0m\u001b[0;34m,\u001b[0m \u001b[0mmodel\u001b[0m\u001b[0;34m.\u001b[0m\u001b[0mtrainable_variables\u001b[0m\u001b[0;34m)\u001b[0m\u001b[0;34m\u001b[0m\u001b[0;34m\u001b[0m\u001b[0m\n\u001b[1;32m     11\u001b[0m         \u001b[0moptimizer\u001b[0m\u001b[0;34m.\u001b[0m\u001b[0mapply_gradients\u001b[0m\u001b[0;34m(\u001b[0m\u001b[0mzip\u001b[0m\u001b[0;34m(\u001b[0m\u001b[0mgrads\u001b[0m\u001b[0;34m,\u001b[0m \u001b[0mmodel\u001b[0m\u001b[0;34m.\u001b[0m\u001b[0mtrainable_variables\u001b[0m\u001b[0;34m)\u001b[0m\u001b[0;34m)\u001b[0m\u001b[0;34m\u001b[0m\u001b[0;34m\u001b[0m\u001b[0m\n",
      "\u001b[0;32m~/var/git/GPflow/gpflow/models/svgp.py\u001b[0m in \u001b[0;36melbo\u001b[0;34m(self, data)\u001b[0m\n\u001b[1;32m    152\u001b[0m         \u001b[0mThis\u001b[0m \u001b[0mreturns\u001b[0m \u001b[0mthe\u001b[0m \u001b[0mevidence\u001b[0m \u001b[0mlower\u001b[0m \u001b[0mbound\u001b[0m \u001b[0;34m(\u001b[0m\u001b[0mELBO\u001b[0m\u001b[0;34m)\u001b[0m \u001b[0mof\u001b[0m \u001b[0mthe\u001b[0m \u001b[0mlog\u001b[0m \u001b[0mmarginal\u001b[0m \u001b[0mlikelihood\u001b[0m\u001b[0;34m.\u001b[0m\u001b[0;34m\u001b[0m\u001b[0;34m\u001b[0m\u001b[0m\n\u001b[1;32m    153\u001b[0m         \"\"\"\n\u001b[0;32m--> 154\u001b[0;31m         \u001b[0;32mreturn\u001b[0m \u001b[0mself\u001b[0m\u001b[0;34m.\u001b[0m\u001b[0mlog_marginal_likelihood\u001b[0m\u001b[0;34m(\u001b[0m\u001b[0mdata\u001b[0m\u001b[0;34m)\u001b[0m\u001b[0;34m\u001b[0m\u001b[0;34m\u001b[0m\u001b[0m\n\u001b[0m\u001b[1;32m    155\u001b[0m \u001b[0;34m\u001b[0m\u001b[0m\n\u001b[1;32m    156\u001b[0m     \u001b[0;32mdef\u001b[0m \u001b[0mpredict_f\u001b[0m\u001b[0;34m(\u001b[0m\u001b[0mself\u001b[0m\u001b[0;34m,\u001b[0m \u001b[0mXnew\u001b[0m\u001b[0;34m:\u001b[0m \u001b[0mtf\u001b[0m\u001b[0;34m.\u001b[0m\u001b[0mTensor\u001b[0m\u001b[0;34m,\u001b[0m \u001b[0mfull_cov\u001b[0m\u001b[0;34m=\u001b[0m\u001b[0;32mFalse\u001b[0m\u001b[0;34m,\u001b[0m \u001b[0mfull_output_cov\u001b[0m\u001b[0;34m=\u001b[0m\u001b[0;32mFalse\u001b[0m\u001b[0;34m)\u001b[0m \u001b[0;34m->\u001b[0m \u001b[0mtf\u001b[0m\u001b[0;34m.\u001b[0m\u001b[0mTensor\u001b[0m\u001b[0;34m:\u001b[0m\u001b[0;34m\u001b[0m\u001b[0;34m\u001b[0m\u001b[0m\n",
      "\u001b[0;32m~/var/git/GPflow/gpflow/models/model.py\u001b[0m in \u001b[0;36mlog_marginal_likelihood\u001b[0;34m(self, *args, **kwargs)\u001b[0m\n\u001b[1;32m     43\u001b[0m \u001b[0;34m\u001b[0m\u001b[0m\n\u001b[1;32m     44\u001b[0m     \u001b[0;32mdef\u001b[0m \u001b[0mlog_marginal_likelihood\u001b[0m\u001b[0;34m(\u001b[0m\u001b[0mself\u001b[0m\u001b[0;34m,\u001b[0m \u001b[0;34m*\u001b[0m\u001b[0margs\u001b[0m\u001b[0;34m,\u001b[0m \u001b[0;34m**\u001b[0m\u001b[0mkwargs\u001b[0m\u001b[0;34m)\u001b[0m \u001b[0;34m->\u001b[0m \u001b[0mtf\u001b[0m\u001b[0;34m.\u001b[0m\u001b[0mTensor\u001b[0m\u001b[0;34m:\u001b[0m\u001b[0;34m\u001b[0m\u001b[0;34m\u001b[0m\u001b[0m\n\u001b[0;32m---> 45\u001b[0;31m         \u001b[0;32mreturn\u001b[0m \u001b[0mself\u001b[0m\u001b[0;34m.\u001b[0m\u001b[0mlog_likelihood\u001b[0m\u001b[0;34m(\u001b[0m\u001b[0;34m*\u001b[0m\u001b[0margs\u001b[0m\u001b[0;34m,\u001b[0m \u001b[0;34m**\u001b[0m\u001b[0mkwargs\u001b[0m\u001b[0;34m)\u001b[0m \u001b[0;34m+\u001b[0m \u001b[0mself\u001b[0m\u001b[0;34m.\u001b[0m\u001b[0mlog_prior\u001b[0m\u001b[0;34m(\u001b[0m\u001b[0;34m)\u001b[0m\u001b[0;34m\u001b[0m\u001b[0;34m\u001b[0m\u001b[0m\n\u001b[0m\u001b[1;32m     46\u001b[0m \u001b[0;34m\u001b[0m\u001b[0m\n\u001b[1;32m     47\u001b[0m     \u001b[0;32mdef\u001b[0m \u001b[0mlog_prior\u001b[0m\u001b[0;34m(\u001b[0m\u001b[0mself\u001b[0m\u001b[0;34m)\u001b[0m \u001b[0;34m->\u001b[0m \u001b[0mtf\u001b[0m\u001b[0;34m.\u001b[0m\u001b[0mTensor\u001b[0m\u001b[0;34m:\u001b[0m\u001b[0;34m\u001b[0m\u001b[0;34m\u001b[0m\u001b[0m\n",
      "\u001b[0;32m~/var/git/GPflow/gpflow/models/model.py\u001b[0m in \u001b[0;36mlog_prior\u001b[0;34m(self)\u001b[0m\n\u001b[1;32m     46\u001b[0m \u001b[0;34m\u001b[0m\u001b[0m\n\u001b[1;32m     47\u001b[0m     \u001b[0;32mdef\u001b[0m \u001b[0mlog_prior\u001b[0m\u001b[0;34m(\u001b[0m\u001b[0mself\u001b[0m\u001b[0;34m)\u001b[0m \u001b[0;34m->\u001b[0m \u001b[0mtf\u001b[0m\u001b[0;34m.\u001b[0m\u001b[0mTensor\u001b[0m\u001b[0;34m:\u001b[0m\u001b[0;34m\u001b[0m\u001b[0;34m\u001b[0m\u001b[0m\n\u001b[0;32m---> 48\u001b[0;31m         \u001b[0mlog_priors\u001b[0m \u001b[0;34m=\u001b[0m \u001b[0;34m[\u001b[0m\u001b[0mp\u001b[0m\u001b[0;34m.\u001b[0m\u001b[0mlog_prior\u001b[0m\u001b[0;34m(\u001b[0m\u001b[0;34m)\u001b[0m \u001b[0;32mfor\u001b[0m \u001b[0mp\u001b[0m \u001b[0;32min\u001b[0m \u001b[0mself\u001b[0m\u001b[0;34m.\u001b[0m\u001b[0mtrainable_parameters\u001b[0m\u001b[0;34m]\u001b[0m\u001b[0;34m\u001b[0m\u001b[0;34m\u001b[0m\u001b[0m\n\u001b[0m\u001b[1;32m     49\u001b[0m         \u001b[0;32mif\u001b[0m \u001b[0mlog_priors\u001b[0m\u001b[0;34m:\u001b[0m\u001b[0;34m\u001b[0m\u001b[0;34m\u001b[0m\u001b[0m\n\u001b[1;32m     50\u001b[0m             \u001b[0;32mreturn\u001b[0m \u001b[0mtf\u001b[0m\u001b[0;34m.\u001b[0m\u001b[0madd_n\u001b[0m\u001b[0;34m(\u001b[0m\u001b[0mlog_priors\u001b[0m\u001b[0;34m)\u001b[0m\u001b[0;34m\u001b[0m\u001b[0;34m\u001b[0m\u001b[0m\n",
      "\u001b[0;32m~/var/git/GPflow/gpflow/models/model.py\u001b[0m in \u001b[0;36m<listcomp>\u001b[0;34m(.0)\u001b[0m\n\u001b[1;32m     46\u001b[0m \u001b[0;34m\u001b[0m\u001b[0m\n\u001b[1;32m     47\u001b[0m     \u001b[0;32mdef\u001b[0m \u001b[0mlog_prior\u001b[0m\u001b[0;34m(\u001b[0m\u001b[0mself\u001b[0m\u001b[0;34m)\u001b[0m \u001b[0;34m->\u001b[0m \u001b[0mtf\u001b[0m\u001b[0;34m.\u001b[0m\u001b[0mTensor\u001b[0m\u001b[0;34m:\u001b[0m\u001b[0;34m\u001b[0m\u001b[0;34m\u001b[0m\u001b[0m\n\u001b[0;32m---> 48\u001b[0;31m         \u001b[0mlog_priors\u001b[0m \u001b[0;34m=\u001b[0m \u001b[0;34m[\u001b[0m\u001b[0mp\u001b[0m\u001b[0;34m.\u001b[0m\u001b[0mlog_prior\u001b[0m\u001b[0;34m(\u001b[0m\u001b[0;34m)\u001b[0m \u001b[0;32mfor\u001b[0m \u001b[0mp\u001b[0m \u001b[0;32min\u001b[0m \u001b[0mself\u001b[0m\u001b[0;34m.\u001b[0m\u001b[0mtrainable_parameters\u001b[0m\u001b[0;34m]\u001b[0m\u001b[0;34m\u001b[0m\u001b[0;34m\u001b[0m\u001b[0m\n\u001b[0m\u001b[1;32m     49\u001b[0m         \u001b[0;32mif\u001b[0m \u001b[0mlog_priors\u001b[0m\u001b[0;34m:\u001b[0m\u001b[0;34m\u001b[0m\u001b[0;34m\u001b[0m\u001b[0m\n\u001b[1;32m     50\u001b[0m             \u001b[0;32mreturn\u001b[0m \u001b[0mtf\u001b[0m\u001b[0;34m.\u001b[0m\u001b[0madd_n\u001b[0m\u001b[0;34m(\u001b[0m\u001b[0mlog_priors\u001b[0m\u001b[0;34m)\u001b[0m\u001b[0;34m\u001b[0m\u001b[0;34m\u001b[0m\u001b[0m\n",
      "\u001b[0;32m~/var/git/GPflow/gpflow/base.py\u001b[0m in \u001b[0;36mlog_prior\u001b[0;34m(self)\u001b[0m\n\u001b[1;32m     63\u001b[0m \u001b[0;34m\u001b[0m\u001b[0m\n\u001b[1;32m     64\u001b[0m     \u001b[0;32mdef\u001b[0m \u001b[0mlog_prior\u001b[0m\u001b[0;34m(\u001b[0m\u001b[0mself\u001b[0m\u001b[0;34m)\u001b[0m\u001b[0;34m:\u001b[0m\u001b[0;34m\u001b[0m\u001b[0;34m\u001b[0m\u001b[0m\n\u001b[0;32m---> 65\u001b[0;31m         \u001b[0mx\u001b[0m \u001b[0;34m=\u001b[0m \u001b[0mself\u001b[0m\u001b[0;34m.\u001b[0m\u001b[0mread_value\u001b[0m\u001b[0;34m(\u001b[0m\u001b[0;34m)\u001b[0m\u001b[0;34m\u001b[0m\u001b[0;34m\u001b[0m\u001b[0m\n\u001b[0m\u001b[1;32m     66\u001b[0m         \u001b[0my\u001b[0m \u001b[0;34m=\u001b[0m \u001b[0mself\u001b[0m\u001b[0;34m.\u001b[0m\u001b[0m_unconstrained\u001b[0m\u001b[0;34m\u001b[0m\u001b[0;34m\u001b[0m\u001b[0m\n\u001b[1;32m     67\u001b[0m \u001b[0;34m\u001b[0m\u001b[0m\n",
      "\u001b[0;32m~/var/git/GPflow/gpflow/base.py\u001b[0m in \u001b[0;36mread_value\u001b[0;34m(self)\u001b[0m\n\u001b[1;32m     79\u001b[0m \u001b[0;34m\u001b[0m\u001b[0m\n\u001b[1;32m     80\u001b[0m     \u001b[0;32mdef\u001b[0m \u001b[0mread_value\u001b[0m\u001b[0;34m(\u001b[0m\u001b[0mself\u001b[0m\u001b[0;34m)\u001b[0m\u001b[0;34m:\u001b[0m\u001b[0;34m\u001b[0m\u001b[0;34m\u001b[0m\u001b[0m\n\u001b[0;32m---> 81\u001b[0;31m         \u001b[0;32mreturn\u001b[0m \u001b[0m_to_constrained\u001b[0m\u001b[0;34m(\u001b[0m\u001b[0mself\u001b[0m\u001b[0;34m.\u001b[0m\u001b[0m_unconstrained\u001b[0m\u001b[0;34m.\u001b[0m\u001b[0mread_value\u001b[0m\u001b[0;34m(\u001b[0m\u001b[0;34m)\u001b[0m\u001b[0;34m,\u001b[0m \u001b[0mself\u001b[0m\u001b[0;34m.\u001b[0m\u001b[0mtransform\u001b[0m\u001b[0;34m)\u001b[0m\u001b[0;34m\u001b[0m\u001b[0;34m\u001b[0m\u001b[0m\n\u001b[0m\u001b[1;32m     82\u001b[0m \u001b[0;34m\u001b[0m\u001b[0m\n\u001b[1;32m     83\u001b[0m     \u001b[0;32mdef\u001b[0m \u001b[0mexperimental_ref\u001b[0m\u001b[0;34m(\u001b[0m\u001b[0mself\u001b[0m\u001b[0;34m)\u001b[0m\u001b[0;34m:\u001b[0m\u001b[0;34m\u001b[0m\u001b[0;34m\u001b[0m\u001b[0m\n",
      "\u001b[0;32m~/var/git/GPflow/gpflow/base.py\u001b[0m in \u001b[0;36m_to_constrained\u001b[0;34m(value, transform)\u001b[0m\n\u001b[1;32m    217\u001b[0m \u001b[0;32mdef\u001b[0m \u001b[0m_to_constrained\u001b[0m\u001b[0;34m(\u001b[0m\u001b[0mvalue\u001b[0m\u001b[0;34m:\u001b[0m \u001b[0mVariableData\u001b[0m\u001b[0;34m,\u001b[0m \u001b[0mtransform\u001b[0m\u001b[0;34m:\u001b[0m \u001b[0mTransform\u001b[0m\u001b[0;34m)\u001b[0m \u001b[0;34m->\u001b[0m \u001b[0mtf\u001b[0m\u001b[0;34m.\u001b[0m\u001b[0mTensor\u001b[0m\u001b[0;34m:\u001b[0m\u001b[0;34m\u001b[0m\u001b[0;34m\u001b[0m\u001b[0m\n\u001b[1;32m    218\u001b[0m     \u001b[0;32mif\u001b[0m \u001b[0mtransform\u001b[0m \u001b[0;32mis\u001b[0m \u001b[0;32mnot\u001b[0m \u001b[0;32mNone\u001b[0m\u001b[0;34m:\u001b[0m\u001b[0;34m\u001b[0m\u001b[0;34m\u001b[0m\u001b[0m\n\u001b[0;32m--> 219\u001b[0;31m         \u001b[0;32mreturn\u001b[0m \u001b[0mtransform\u001b[0m\u001b[0;34m.\u001b[0m\u001b[0mforward\u001b[0m\u001b[0;34m(\u001b[0m\u001b[0mvalue\u001b[0m\u001b[0;34m)\u001b[0m\u001b[0;34m\u001b[0m\u001b[0;34m\u001b[0m\u001b[0m\n\u001b[0m\u001b[1;32m    220\u001b[0m     \u001b[0;32mreturn\u001b[0m \u001b[0mvalue\u001b[0m\u001b[0;34m\u001b[0m\u001b[0;34m\u001b[0m\u001b[0m\n\u001b[1;32m    221\u001b[0m \u001b[0;34m\u001b[0m\u001b[0m\n",
      "\u001b[0;32m~/anaconda3/envs/tf2.0/lib/python3.7/site-packages/tensorflow_probability/python/bijectors/bijector.py\u001b[0m in \u001b[0;36mforward\u001b[0;34m(self, x, name, **kwargs)\u001b[0m\n\u001b[1;32m    960\u001b[0m       \u001b[0mNotImplementedError\u001b[0m\u001b[0;34m:\u001b[0m \u001b[0;32mif\u001b[0m\u001b[0;31m \u001b[0m\u001b[0;31m`\u001b[0m\u001b[0m_forward\u001b[0m\u001b[0;31m`\u001b[0m \u001b[0;32mis\u001b[0m \u001b[0;32mnot\u001b[0m \u001b[0mimplemented\u001b[0m\u001b[0;34m.\u001b[0m\u001b[0;34m\u001b[0m\u001b[0;34m\u001b[0m\u001b[0m\n\u001b[1;32m    961\u001b[0m     \"\"\"\n\u001b[0;32m--> 962\u001b[0;31m     \u001b[0;32mreturn\u001b[0m \u001b[0mself\u001b[0m\u001b[0;34m.\u001b[0m\u001b[0m_call_forward\u001b[0m\u001b[0;34m(\u001b[0m\u001b[0mx\u001b[0m\u001b[0;34m,\u001b[0m \u001b[0mname\u001b[0m\u001b[0;34m,\u001b[0m \u001b[0;34m**\u001b[0m\u001b[0mkwargs\u001b[0m\u001b[0;34m)\u001b[0m\u001b[0;34m\u001b[0m\u001b[0;34m\u001b[0m\u001b[0m\n\u001b[0m\u001b[1;32m    963\u001b[0m \u001b[0;34m\u001b[0m\u001b[0m\n\u001b[1;32m    964\u001b[0m   \u001b[0;32mdef\u001b[0m \u001b[0m_inverse\u001b[0m\u001b[0;34m(\u001b[0m\u001b[0mself\u001b[0m\u001b[0;34m,\u001b[0m \u001b[0my\u001b[0m\u001b[0;34m)\u001b[0m\u001b[0;34m:\u001b[0m\u001b[0;34m\u001b[0m\u001b[0;34m\u001b[0m\u001b[0m\n",
      "\u001b[0;32m~/anaconda3/envs/tf2.0/lib/python3.7/site-packages/tensorflow_probability/python/bijectors/bijector.py\u001b[0m in \u001b[0;36m_call_forward\u001b[0;34m(self, x, name, **kwargs)\u001b[0m\n\u001b[1;32m    934\u001b[0m       \u001b[0;32mif\u001b[0m \u001b[0mmapping\u001b[0m\u001b[0;34m.\u001b[0m\u001b[0my\u001b[0m \u001b[0;32mis\u001b[0m \u001b[0;32mnot\u001b[0m \u001b[0;32mNone\u001b[0m\u001b[0;34m:\u001b[0m\u001b[0;34m\u001b[0m\u001b[0;34m\u001b[0m\u001b[0m\n\u001b[1;32m    935\u001b[0m         \u001b[0;32mreturn\u001b[0m \u001b[0mmapping\u001b[0m\u001b[0;34m.\u001b[0m\u001b[0my\u001b[0m\u001b[0;34m\u001b[0m\u001b[0;34m\u001b[0m\u001b[0m\n\u001b[0;32m--> 936\u001b[0;31m       \u001b[0mmapping\u001b[0m \u001b[0;34m=\u001b[0m \u001b[0mmapping\u001b[0m\u001b[0;34m.\u001b[0m\u001b[0mmerge\u001b[0m\u001b[0;34m(\u001b[0m\u001b[0my\u001b[0m\u001b[0;34m=\u001b[0m\u001b[0mself\u001b[0m\u001b[0;34m.\u001b[0m\u001b[0m_forward\u001b[0m\u001b[0;34m(\u001b[0m\u001b[0mx\u001b[0m\u001b[0;34m,\u001b[0m \u001b[0;34m**\u001b[0m\u001b[0mkwargs\u001b[0m\u001b[0;34m)\u001b[0m\u001b[0;34m)\u001b[0m\u001b[0;34m\u001b[0m\u001b[0;34m\u001b[0m\u001b[0m\n\u001b[0m\u001b[1;32m    937\u001b[0m       \u001b[0;31m# It's most important to cache the y->x mapping, because computing\u001b[0m\u001b[0;34m\u001b[0m\u001b[0;34m\u001b[0m\u001b[0;34m\u001b[0m\u001b[0m\n\u001b[1;32m    938\u001b[0m       \u001b[0;31m# inverse(forward(y)) may be numerically unstable / lossy. Caching the\u001b[0m\u001b[0;34m\u001b[0m\u001b[0;34m\u001b[0m\u001b[0;34m\u001b[0m\u001b[0m\n",
      "\u001b[0;32m~/anaconda3/envs/tf2.0/lib/python3.7/site-packages/tensorflow_probability/python/bijectors/chain.py\u001b[0m in \u001b[0;36m_forward\u001b[0;34m(self, x, **kwargs)\u001b[0m\n\u001b[1;32m    267\u001b[0m   \u001b[0;32mdef\u001b[0m \u001b[0m_forward\u001b[0m\u001b[0;34m(\u001b[0m\u001b[0mself\u001b[0m\u001b[0;34m,\u001b[0m \u001b[0mx\u001b[0m\u001b[0;34m,\u001b[0m \u001b[0;34m**\u001b[0m\u001b[0mkwargs\u001b[0m\u001b[0;34m)\u001b[0m\u001b[0;34m:\u001b[0m\u001b[0;34m\u001b[0m\u001b[0;34m\u001b[0m\u001b[0m\n\u001b[1;32m    268\u001b[0m     \u001b[0;32mfor\u001b[0m \u001b[0mb\u001b[0m \u001b[0;32min\u001b[0m \u001b[0mreversed\u001b[0m\u001b[0;34m(\u001b[0m\u001b[0mself\u001b[0m\u001b[0;34m.\u001b[0m\u001b[0mbijectors\u001b[0m\u001b[0;34m)\u001b[0m\u001b[0;34m:\u001b[0m\u001b[0;34m\u001b[0m\u001b[0;34m\u001b[0m\u001b[0m\n\u001b[0;32m--> 269\u001b[0;31m       \u001b[0mx\u001b[0m \u001b[0;34m=\u001b[0m \u001b[0mb\u001b[0m\u001b[0;34m.\u001b[0m\u001b[0mforward\u001b[0m\u001b[0;34m(\u001b[0m\u001b[0mx\u001b[0m\u001b[0;34m,\u001b[0m \u001b[0;34m**\u001b[0m\u001b[0mkwargs\u001b[0m\u001b[0;34m.\u001b[0m\u001b[0mget\u001b[0m\u001b[0;34m(\u001b[0m\u001b[0mb\u001b[0m\u001b[0;34m.\u001b[0m\u001b[0mname\u001b[0m\u001b[0;34m,\u001b[0m \u001b[0;34m{\u001b[0m\u001b[0;34m}\u001b[0m\u001b[0;34m)\u001b[0m\u001b[0;34m)\u001b[0m\u001b[0;34m\u001b[0m\u001b[0;34m\u001b[0m\u001b[0m\n\u001b[0m\u001b[1;32m    270\u001b[0m     \u001b[0;32mreturn\u001b[0m \u001b[0mx\u001b[0m\u001b[0;34m\u001b[0m\u001b[0;34m\u001b[0m\u001b[0m\n\u001b[1;32m    271\u001b[0m \u001b[0;34m\u001b[0m\u001b[0m\n",
      "\u001b[0;32m~/anaconda3/envs/tf2.0/lib/python3.7/site-packages/tensorflow_probability/python/bijectors/bijector.py\u001b[0m in \u001b[0;36mforward\u001b[0;34m(self, x, name, **kwargs)\u001b[0m\n\u001b[1;32m    960\u001b[0m       \u001b[0mNotImplementedError\u001b[0m\u001b[0;34m:\u001b[0m \u001b[0;32mif\u001b[0m\u001b[0;31m \u001b[0m\u001b[0;31m`\u001b[0m\u001b[0m_forward\u001b[0m\u001b[0;31m`\u001b[0m \u001b[0;32mis\u001b[0m \u001b[0;32mnot\u001b[0m \u001b[0mimplemented\u001b[0m\u001b[0;34m.\u001b[0m\u001b[0;34m\u001b[0m\u001b[0;34m\u001b[0m\u001b[0m\n\u001b[1;32m    961\u001b[0m     \"\"\"\n\u001b[0;32m--> 962\u001b[0;31m     \u001b[0;32mreturn\u001b[0m \u001b[0mself\u001b[0m\u001b[0;34m.\u001b[0m\u001b[0m_call_forward\u001b[0m\u001b[0;34m(\u001b[0m\u001b[0mx\u001b[0m\u001b[0;34m,\u001b[0m \u001b[0mname\u001b[0m\u001b[0;34m,\u001b[0m \u001b[0;34m**\u001b[0m\u001b[0mkwargs\u001b[0m\u001b[0;34m)\u001b[0m\u001b[0;34m\u001b[0m\u001b[0;34m\u001b[0m\u001b[0m\n\u001b[0m\u001b[1;32m    963\u001b[0m \u001b[0;34m\u001b[0m\u001b[0m\n\u001b[1;32m    964\u001b[0m   \u001b[0;32mdef\u001b[0m \u001b[0m_inverse\u001b[0m\u001b[0;34m(\u001b[0m\u001b[0mself\u001b[0m\u001b[0;34m,\u001b[0m \u001b[0my\u001b[0m\u001b[0;34m)\u001b[0m\u001b[0;34m:\u001b[0m\u001b[0;34m\u001b[0m\u001b[0;34m\u001b[0m\u001b[0m\n",
      "\u001b[0;32m~/anaconda3/envs/tf2.0/lib/python3.7/site-packages/tensorflow_probability/python/bijectors/bijector.py\u001b[0m in \u001b[0;36m_call_forward\u001b[0;34m(self, x, name, **kwargs)\u001b[0m\n\u001b[1;32m    939\u001b[0m       \u001b[0;31m# x->y mapping only saves work. Since python doesn't support ephemerons,\u001b[0m\u001b[0;34m\u001b[0m\u001b[0;34m\u001b[0m\u001b[0;34m\u001b[0m\u001b[0m\n\u001b[1;32m    940\u001b[0m       \u001b[0;31m# we cannot be simultaneously weak-keyed on both x and y, so we choose y.\u001b[0m\u001b[0;34m\u001b[0m\u001b[0;34m\u001b[0m\u001b[0;34m\u001b[0m\u001b[0m\n\u001b[0;32m--> 941\u001b[0;31m       \u001b[0mself\u001b[0m\u001b[0;34m.\u001b[0m\u001b[0m_cache_by_y\u001b[0m\u001b[0;34m(\u001b[0m\u001b[0mmapping\u001b[0m\u001b[0;34m)\u001b[0m\u001b[0;34m\u001b[0m\u001b[0;34m\u001b[0m\u001b[0m\n\u001b[0m\u001b[1;32m    942\u001b[0m       \u001b[0;32mif\u001b[0m \u001b[0;32mnot\u001b[0m \u001b[0mtf\u001b[0m\u001b[0;34m.\u001b[0m\u001b[0mexecuting_eagerly\u001b[0m\u001b[0;34m(\u001b[0m\u001b[0;34m)\u001b[0m\u001b[0;34m:\u001b[0m\u001b[0;34m\u001b[0m\u001b[0;34m\u001b[0m\u001b[0m\n\u001b[1;32m    943\u001b[0m         \u001b[0mself\u001b[0m\u001b[0;34m.\u001b[0m\u001b[0m_cache_by_x\u001b[0m\u001b[0;34m(\u001b[0m\u001b[0mmapping\u001b[0m\u001b[0;34m)\u001b[0m\u001b[0;34m\u001b[0m\u001b[0;34m\u001b[0m\u001b[0m\n",
      "\u001b[0;31mKeyboardInterrupt\u001b[0m: "
     ]
    }
   ],
   "source": [
    "EPOCHS = 500\n",
    "train_elbo = []\n",
    "val_elbo = []\n",
    "\n",
    "for epoch in range(EPOCHS):\n",
    "    for step, (x_batch_train,y_batch_train) in enumerate(trn_dataset): #iterate over batches of the dataset\n",
    "        with tf.GradientTape(watch_accessed_variables=False) as tape:\n",
    "            tape.watch(model.trainable_variables)\n",
    "            obj = -model.elbo((x_batch_train,y_batch_train))\n",
    "            grads = tape.gradient(obj, model.trainable_variables)\n",
    "        optimizer.apply_gradients(zip(grads, model.trainable_variables))\n",
    "        \n",
    "        #average elbo over batches\n",
    "        avg_elbo(obj)\n",
    "        \n",
    "    #Validation elbo\n",
    "    for (x_batch_val,y_batch_val) in val_dataset:\n",
    "        obj_val = -model.elbo((x_batch_val,y_batch_val))\n",
    "        val_avg_elbo(obj_val)\n",
    "        \n",
    "    if epoch>=1 and epoch % 5 == 0 or epoch == 1:\n",
    "        print(f'Epoch {epoch}, avg Tbatch elbo {avg_elbo.result()} improvement {train_elbo[-1]-avg_elbo.result()}, avg Vbatch elbo {val_avg_elbo.result()}')\n",
    "    \n",
    "    train_elbo.append(avg_elbo.result())\n",
    "    val_elbo.append(val_avg_elbo.result())\n",
    "    \n",
    "    #Reset mean\n",
    "    avg_elbo.reset_states()\n",
    "    val_avg_elbo.reset_states()"
   ]
  },
  {
   "cell_type": "code",
   "execution_count": 40,
   "metadata": {},
   "outputs": [
    {
     "data": {
      "text/plain": [
       "{'mae': 0.14752202686734464,\n",
       " 'mse': 0.08955217617493803,\n",
       " 'smse': 0.08959135035524195,\n",
       " 'r2': 0.9104086496447581,\n",
       " 'evs': 0.9110176512364992,\n",
       " 'spearmanrho': 0.6536121674747014,\n",
       " 'spearmanrho_p': 8.27243818116366e-279,\n",
       " 'pearsonr': 0.9545657224948502,\n",
       " 'pearsonr_p': 0.0,\n",
       " 'median_abs_fc': 1.0701931583513302,\n",
       " 'mean_abs_fc': 1.1076653112038786}"
      ]
     },
     "execution_count": 40,
     "metadata": {},
     "output_type": "execute_result"
    }
   ],
   "source": [
    "mean, var = model.predict_f(x_train)\n",
    "metrics = compute_metrics(mean.numpy(), y_train, y_train, fc_scale=2)\n",
    "metrics"
   ]
  },
  {
   "cell_type": "code",
   "execution_count": 42,
   "metadata": {},
   "outputs": [
    {
     "data": {
      "image/png": "[encoded data removed]",
      "text/plain": [
       "<Figure size 756x756 with 1 Axes>"
      ]
     },
     "metadata": {
      "needs_background": "light"
     },
     "output_type": "display_data"
    }
   ],
   "source": [
    "fig = plt.figure()\n",
    "fig.set_size_inches(10.5,10.5)\n",
    "ax = fig.add_subplot(111)\n",
    "\n",
    "ax.scatter(mean.numpy(),y_train)\n",
    "y_max = int(y_train.max())+2\n",
    "y_min = y_train.min()-2\n",
    "ax.set_xlim(y_min,y_max)\n",
    "ax.set_ylim(y_min,y_max)\n",
    "\n",
    "x = np.linspace(*ax.get_xlim())\n",
    "# ax.plot([0,1],[0,1], transform=ax.transAxes)\n",
    "ax.plot(x, x,color='k',linewidth=3)\n",
    "\n",
    "pearson = scipy.stats.pearsonr(y_train.squeeze(),mean.numpy().squeeze())[0]\n",
    "ax.text(.75,.01,f'pearson r: {pearson:.4f}',transform=ax.transAxes)\n",
    "if SAVE:\n",
    "    fig.savefig(f\"./results/am04f0/test_predicted_{TITLE}.pdf\")"
   ]
  },
  {
   "cell_type": "code",
   "execution_count": 37,
   "metadata": {},
   "outputs": [
    {
     "data": {
      "text/plain": [
       "{'mae': 0.36145403137538135,\n",
       " 'mse': 1.0062912594478384,\n",
       " 'smse': 1.529570629255315,\n",
       " 'r2': -0.5302845442160371,\n",
       " 'evs': -0.5147232070055141,\n",
       " 'spearmanrho': 0.5746456304129652,\n",
       " 'spearmanrho_p': 4.57082488342261e-64,\n",
       " 'pearsonr': 0.3908216200418696,\n",
       " 'pearsonr_p': 1.650560802542126e-27,\n",
       " 'median_abs_fc': 1.0878242948565204,\n",
       " 'mean_abs_fc': 1.2847200603545708}"
      ]
     },
     "execution_count": 37,
     "metadata": {},
     "output_type": "execute_result"
    }
   ],
   "source": [
    "## predict mean and variance of latent GP at test points\n",
    "mean, var = model.predict_f(x_test)\n",
    "metrics = compute_metrics(mean.numpy(), y_test, y_train, fc_scale=2)\n",
    "\n",
    "# if SAVE:\n",
    "#     pd.DataFrame.from_dict(metrics,orient='index').T.to_csv(f'./results/am04f0/metrics_{TITLE}.tsv',sep='\\t')\n",
    "\n",
    "metrics"
   ]
  },
  {
   "cell_type": "code",
   "execution_count": 38,
   "metadata": {},
   "outputs": [
    {
     "data": {
      "image/png": "[encoded data removed]",
      "text/plain": [
       "<Figure size 756x756 with 1 Axes>"
      ]
     },
     "metadata": {
      "needs_background": "light"
     },
     "output_type": "display_data"
    }
   ],
   "source": [
    "fig = plt.figure()\n",
    "fig.set_size_inches(10.5,10.5)\n",
    "ax = fig.add_subplot(111)\n",
    "\n",
    "ax.scatter(mean.numpy(),y_test)\n",
    "y_max = int(y_test.max())+2\n",
    "y_min = y_test.min()-2\n",
    "ax.set_xlim(y_min,y_max)\n",
    "ax.set_ylim(y_min,y_max)\n",
    "\n",
    "x = np.linspace(*ax.get_xlim())\n",
    "# ax.plot([0,1],[0,1], transform=ax.transAxes)\n",
    "ax.plot(x, x,color='k',linewidth=3)\n",
    "\n",
    "pearson = scipy.stats.pearsonr(y_test.squeeze(),mean.numpy().squeeze())[0]\n",
    "ax.text(.75,.01,f'pearson r: {pearson:.4f}',transform=ax.transAxes)\n",
    "if SAVE:\n",
    "    fig.savefig(f\"./results/am04f0/test_predicted_{TITLE}.pdf\")"
   ]
  }
 ],
 "metadata": {
  "kernelspec": {
   "display_name": "Python [conda env:tf2.0]",
   "language": "python",
   "name": "conda-env-tf2.0-py"
  },
  "language_info": {
   "codemirror_mode": {
    "name": "ipython",
    "version": 3
   },
   "file_extension": ".py",
   "mimetype": "text/x-python",
   "name": "python",
   "nbconvert_exporter": "python",
   "pygments_lexer": "ipython3",
   "version": "3.7.4"
  }
 },
 "nbformat": 4,
 "nbformat_minor": 4
}
