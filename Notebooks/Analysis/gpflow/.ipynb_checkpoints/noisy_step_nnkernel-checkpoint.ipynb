{
 "cells": [
  {
   "cell_type": "code",
   "execution_count": 1,
   "metadata": {},
   "outputs": [],
   "source": [
    "import pandas as pd\n",
    "import numpy as np\n",
    "import matplotlib.pyplot as plt\n",
    "import tensorflow as tf\n",
    "from tensorflow import keras\n",
    "from tensorflow.keras import layers\n",
    "import gpflow\n",
    "from gpflow.utilities import print_summary\n",
    "from gpflow.config import default_float\n",
    "import sys\n",
    "import os\n",
    "from sklearn.model_selection import train_test_split\n",
    "import sklearn.metrics\n",
    "import scipy.stats\n",
    "import time\n",
    "\n",
    "sys.path.append('../../Utils')\n",
    "from metrics import compute_metrics\n",
    "\n",
    "tf.keras.backend.set_floatx('float64')"
   ]
  },
  {
   "cell_type": "code",
   "execution_count": 2,
   "metadata": {},
   "outputs": [
    {
     "name": "stdout",
     "output_type": "stream",
     "text": [
      "TF eager exectution: True\n",
      "Using device PhysicalDevice(name='/physical_device:GPU:1', device_type='GPU')\n"
     ]
    }
   ],
   "source": [
    "device = 1\n",
    "physical_devices = tf.config.experimental.list_physical_devices('GPU')\n",
    "tf.config.experimental.set_visible_devices(physical_devices[device], 'GPU')\n",
    "\n",
    "print(f'TF eager exectution: {tf.executing_eagerly()}')\n",
    "print(f'Using device {physical_devices[device]}')"
   ]
  },
  {
   "cell_type": "code",
   "execution_count": 3,
   "metadata": {},
   "outputs": [],
   "source": [
    "class General_MLP(keras.Model):\n",
    "    def __init__(self,hidden_nodes,input_shape,activation='relu',last=False):\n",
    "        '''\n",
    "        https://www.tensorflow.org/api_docs/python/tf/keras/Model\n",
    "        hidden nodes (array like) - all the dimensions after input including output size\n",
    "        input shape is optional (tuple), if not specified then network takes input shape as the shape of the first vector passed to it.\n",
    "        activation (string), type of activation function to use, must be in keras activations\n",
    "        last (Bool), whether or not to have activation on the final output layer\n",
    "        ex:\n",
    "        atlas_mlp = General_MLP([66,1],input_shape=(1,66))\n",
    "        atlas_mlp.summary()\n",
    "        '''\n",
    "        super(General_MLP, self).__init__()\n",
    "        self.mlp_layers = []\n",
    "        for nodes in hidden_nodes[0:-1]: \n",
    "            self.mlp_layers.append(keras.layers.Dense(nodes, activation=activation))\n",
    "            \n",
    "        if last:\n",
    "            self.mlp_layers.append(keras.layers.Dense(hidden_nodes[-1], activation=activation))\n",
    "        else:\n",
    "            self.mlp_layers.append(keras.layers.Dense(hidden_nodes[-1]))\n",
    "            \n",
    "        #Specific line is to cast the output to the gpflow default precision\n",
    "        self.mlp_layers.append(tf.keras.layers.Lambda(lambda x: tf.cast(x, default_float())))\n",
    "        self.out_size = hidden_nodes[-1]\n",
    "        \n",
    "        if type(input_shape) != type(None):\n",
    "            self.in_size = input_shape[1]\n",
    "            self.build(input_shape)\n",
    "    \n",
    "    #training flag if specific layers behave differently (ex: batch norm), for mlp no difference\n",
    "    def call(self, inputs, training=True):\n",
    "        for layer in self.mlp_layers:\n",
    "            inputs = layer(inputs)\n",
    "        return inputs"
   ]
  },
  {
   "cell_type": "code",
   "execution_count": 4,
   "metadata": {},
   "outputs": [],
   "source": [
    "class nn_based_kernel(gpflow.kernels.Kernel):\n",
    "    def __init__(self,base_kernel: gpflow.kernels.Kernel,nn_model):\n",
    "        super(nn_based_kernel, self).__init__()\n",
    "        assert(nn_model.built),\"NN model is not built, input shape is not initialized\"\n",
    "\n",
    "        self.model = nn_model\n",
    "        self.base_kernel = base_kernel\n",
    "    \n",
    "    def K(self,X,X2=None,presliced=False):\n",
    "        \"\"\"\n",
    "        If you add a method in the child class with the same name as a function in the\n",
    "        parent class, the inheritance of the parent method will be overridden.\n",
    "        \"\"\"\n",
    "        transformed_X = self.model(X)\n",
    "        transformed_X2 = self.model(X2) if X2 is not None else X2\n",
    "        return self.base_kernel.K(transformed_X, transformed_X2, presliced)\n",
    "    \n",
    "    def K_diag(self, X_input,presliced=False):\n",
    "        transformed_X = self.model(X_input)\n",
    "        return self.base_kernel.K_diag(transformed_X, presliced)"
   ]
  },
  {
   "cell_type": "markdown",
   "metadata": {},
   "source": [
    "### Generate Data"
   ]
  },
  {
   "cell_type": "code",
   "execution_count": 5,
   "metadata": {},
   "outputs": [],
   "source": [
    "np.random.seed(10)\n",
    "x_train = np.random.normal(scale=1,size=(100,1))\n",
    "y_train = np.array([0+np.random.normal(scale=0.01) if x_val <=0 else 1+np.random.normal(scale=0.01) for x_val in x_train],ndmin=2).T"
   ]
  },
  {
   "cell_type": "code",
   "execution_count": 6,
   "metadata": {},
   "outputs": [
    {
     "data": {
      "text/plain": [
       "<matplotlib.collections.PathCollection at 0x7f5e41a6ef50>"
      ]
     },
     "execution_count": 6,
     "metadata": {},
     "output_type": "execute_result"
    },
    {
     "data": {
      "image/png": "[encoded data removed]",
      "text/plain": [
       "<Figure size 432x288 with 1 Axes>"
      ]
     },
     "metadata": {
      "needs_background": "light"
     },
     "output_type": "display_data"
    }
   ],
   "source": [
    "plt.scatter(x_train,y_train)"
   ]
  },
  {
   "cell_type": "code",
   "execution_count": 7,
   "metadata": {},
   "outputs": [],
   "source": [
    "#x_test = np.linspace(-5,5,500)[:,None]\n",
    "x_test = np.random.uniform(low=-5,high=5,size=(500,1))\n",
    "y_test = np.array([0 if x_val <= 0 else 1 for x_val in x_test],ndmin=2).T"
   ]
  },
  {
   "cell_type": "code",
   "execution_count": 8,
   "metadata": {},
   "outputs": [],
   "source": [
    "ZSCORE = False\n",
    "\n",
    "if ZSCORE:\n",
    "    x_mean = x_train.mean()\n",
    "    x_std = x_train.std()\n",
    "    \n",
    "    y_mean = y_train.mean()\n",
    "    y_std = y_train.std()\n",
    "    \n",
    "    x_train = (x_train - x_mean)/x_std\n",
    "    y_train = (y_train - y_mean)/y_std\n",
    "    \n",
    "    x_test = (x_test - x_mean)/x_std\n",
    "    y_test = (y_test - y_mean)/y_std"
   ]
  },
  {
   "cell_type": "code",
   "execution_count": 9,
   "metadata": {},
   "outputs": [
    {
     "data": {
      "text/plain": [
       "<matplotlib.collections.PathCollection at 0x7f5e41950190>"
      ]
     },
     "execution_count": 9,
     "metadata": {},
     "output_type": "execute_result"
    },
    {
     "data": {
      "image/png": "[encoded data removed]",
      "text/plain": [
       "<Figure size 432x288 with 1 Axes>"
      ]
     },
     "metadata": {
      "needs_background": "light"
     },
     "output_type": "display_data"
    }
   ],
   "source": [
    "plt.scatter(x_train,y_train)"
   ]
  },
  {
   "cell_type": "code",
   "execution_count": 10,
   "metadata": {},
   "outputs": [
    {
     "data": {
      "text/plain": [
       "<matplotlib.collections.PathCollection at 0x7f5e4193f510>"
      ]
     },
     "execution_count": 10,
     "metadata": {},
     "output_type": "execute_result"
    },
    {
     "data": {
      "image/png": "[encoded data removed]",
      "text/plain": [
       "<Figure size 432x288 with 1 Axes>"
      ]
     },
     "metadata": {
      "needs_background": "light"
     },
     "output_type": "display_data"
    }
   ],
   "source": [
    "plt.scatter(x_test,y_test)"
   ]
  },
  {
   "cell_type": "code",
   "execution_count": 11,
   "metadata": {},
   "outputs": [
    {
     "name": "stdout",
     "output_type": "stream",
     "text": [
      "Model: \"general_mlp\"\n",
      "_________________________________________________________________\n",
      "Layer (type)                 Output Shape              Param #   \n",
      "=================================================================\n",
      "dense (Dense)                multiple                  12        \n",
      "_________________________________________________________________\n",
      "dense_1 (Dense)              multiple                  14        \n",
      "_________________________________________________________________\n",
      "lambda (Lambda)              multiple                  0         \n",
      "=================================================================\n",
      "Total params: 26\n",
      "Trainable params: 26\n",
      "Non-trainable params: 0\n",
      "_________________________________________________________________\n"
     ]
    }
   ],
   "source": [
    "manifold_mlp = General_MLP([6,2],input_shape=(1,1),last=True,activation='sigmoid')\n",
    "manifold_mlp.summary()"
   ]
  },
  {
   "cell_type": "code",
   "execution_count": 12,
   "metadata": {},
   "outputs": [],
   "source": [
    "base_kernel = gpflow.kernels.SquaredExponential(lengthscale=[1]*manifold_mlp.out_size) #Initialize ARD for lengthscale\n",
    "k = nn_based_kernel(base_kernel,manifold_mlp)\n",
    "\n",
    "#Comparison with standard ARD rbf kernel\n",
    "k_rbf = gpflow.kernels.SquaredExponential(lengthscale=[1]*1) #Initialize ARD for lengthscale\n",
    "#print_summary(kernel)\n",
    "\n",
    "model = gpflow.models.GPR(data=(x_train, y_train), kernel=k, mean_function=None)\n",
    "model.likelihood.variance.assign(0.1)\n",
    "\n",
    "model_rbf = gpflow.models.GPR(data=(x_train, y_train), kernel=k_rbf, mean_function=None)\n",
    "model_rbf.likelihood.variance.assign(0.1)"
   ]
  },
  {
   "cell_type": "code",
   "execution_count": 13,
   "metadata": {},
   "outputs": [
    {
     "name": "stdout",
     "output_type": "stream",
     "text": [
      "Run time 1.4692137241363525\n",
      "name                                class             transform                prior    trainable    shape    dtype    value\n",
      "----------------------------------  ----------------  -----------------------  -------  -----------  -------  -------  -----------------------------------------\n",
      "GPR.kernel.model._layers[0][0]._trainable_weights[0]\n",
      "GPR.kernel.model._layers[0][0].kernel\n",
      "GPR.kernel.model.mlp_layers[0]._trainable_weights[0]\n",
      "GPR.kernel.model.mlp_layers[0].kernel                                     ResourceVariable                                    True         (1, 6)   float64  [[4.37565619, -1.08484597, 3.44263757...\n",
      "GPR.kernel.model._layers[0][0]._trainable_weights[1]\n",
      "GPR.kernel.model._layers[0][0].bias\n",
      "GPR.kernel.model.mlp_layers[0]._trainable_weights[1]\n",
      "GPR.kernel.model.mlp_layers[0].bias                                     ResourceVariable                                    True         (6,)     float64  [-0.25256098, -0.22900057, -0.31406042...\n",
      "GPR.kernel.model._layers[0][1]._trainable_weights[0]\n",
      "GPR.kernel.model._layers[0][1].kernel\n",
      "GPR.kernel.model.mlp_layers[1]._trainable_weights[0]\n",
      "GPR.kernel.model.mlp_layers[1].kernel                                     ResourceVariable                                    True         (6, 2)   float64  [[2.56859155, 0.99939058...\n",
      "GPR.kernel.model._layers[0][1]._trainable_weights[1]\n",
      "GPR.kernel.model._layers[0][1].bias\n",
      "GPR.kernel.model.mlp_layers[1]._trainable_weights[1]\n",
      "GPR.kernel.model.mlp_layers[1].bias                                     ResourceVariable                                    True         (2,)     float64  [-1.55624389  6.12113676]\n",
      "GPR.kernel.base_kernel.variance     Parameter         Softplus                          True         ()       float64  1.1993070728633493\n",
      "GPR.kernel.base_kernel.lengthscale  Parameter         Softplus                          True         (2,)     float64  [0.32625517 1.19800855]\n",
      "GPR.likelihood.variance             Parameter         Softplus + AffineScalar           True         ()       float64  8.875074731688409e-05\n"
     ]
    }
   ],
   "source": [
    "opt = gpflow.optimizers.Scipy()\n",
    "\n",
    "def objective_closure():\n",
    "    return - model.log_marginal_likelihood()\n",
    "\n",
    "time_start = time.time()\n",
    "opt_logs = opt.minimize(objective_closure,\n",
    "                        model.trainable_variables,\n",
    "                        options=dict(maxiter=15))\n",
    "print(f'Run time {time.time()-time_start}')\n",
    "\n",
    "print_summary(model)"
   ]
  },
  {
   "cell_type": "code",
   "execution_count": 14,
   "metadata": {},
   "outputs": [
    {
     "data": {
      "text/plain": [
       "<tf.Tensor: id=9857, shape=(), dtype=float64, numpy=294.5559078614491>"
      ]
     },
     "execution_count": 14,
     "metadata": {},
     "output_type": "execute_result"
    }
   ],
   "source": [
    "model.log_marginal_likelihood()"
   ]
  },
  {
   "cell_type": "code",
   "execution_count": 15,
   "metadata": {},
   "outputs": [
    {
     "name": "stdout",
     "output_type": "stream",
     "text": [
      "Run time 0.35730910301208496\n",
      "name                     class      transform                prior    trainable    shape    dtype    value\n",
      "-----------------------  ---------  -----------------------  -------  -----------  -------  -------  --------------------\n",
      "GPR.kernel.variance      Parameter  Softplus                          True         ()       float64  0.3124701317340153\n",
      "GPR.kernel.lengthscale   Parameter  Softplus                          True         (1,)     float64  [0.19904193]\n",
      "GPR.likelihood.variance  Parameter  Softplus + AffineScalar           True         ()       float64  0.008643138075036128\n"
     ]
    }
   ],
   "source": [
    "opt = gpflow.optimizers.Scipy()\n",
    "\n",
    "def objective_closure():\n",
    "    return - model_rbf.log_marginal_likelihood()\n",
    "\n",
    "time_start = time.time()\n",
    "opt_logs = opt.minimize(objective_closure,\n",
    "                        model_rbf.trainable_variables,\n",
    "                        options=dict(maxiter=50))\n",
    "print(f'Run time {time.time()-time_start}')\n",
    "\n",
    "print_summary(model_rbf)"
   ]
  },
  {
   "cell_type": "code",
   "execution_count": 16,
   "metadata": {},
   "outputs": [
    {
     "data": {
      "text/plain": [
       "<tf.Tensor: id=14033, shape=(), dtype=float64, numpy=46.24277860225288>"
      ]
     },
     "execution_count": 16,
     "metadata": {},
     "output_type": "execute_result"
    }
   ],
   "source": [
    "model_rbf.log_marginal_likelihood()"
   ]
  },
  {
   "cell_type": "code",
   "execution_count": 17,
   "metadata": {},
   "outputs": [
    {
     "data": {
      "text/plain": [
       "{'mae': 0.007655312870441244,\n",
       " 'mse': 9.639696002335258e-05,\n",
       " 'smse': 0.00038574459886597166,\n",
       " 'r2': 0.999614255401134,\n",
       " 'evs': 0.9996142554024924,\n",
       " 'spearmanrho': 0.7676567656765676,\n",
       " 'spearmanrho_p': 1.2021142205305061e-20,\n",
       " 'pearsonr': 0.9998071091586798,\n",
       " 'pearsonr_p': 4.305140209946841e-169,\n",
       " 'median_abs_fc': 1.0037604937114546,\n",
       " 'mean_abs_fc': 1.0053203616561632}"
      ]
     },
     "execution_count": 17,
     "metadata": {},
     "output_type": "execute_result"
    }
   ],
   "source": [
    "mean, var = model.predict_f(x_train)\n",
    "metrics = compute_metrics(mean.numpy(), y_train, y_train, fc_scale=2)\n",
    "\n",
    "# if SAVE:\n",
    "#     pd.DataFrame.from_dict(metrics,orient='index').T.to_csv(f'./results/am04f0/metrics_{TITLE}.tsv',sep='\\t')\n",
    "\n",
    "metrics"
   ]
  },
  {
   "cell_type": "code",
   "execution_count": 18,
   "metadata": {},
   "outputs": [
    {
     "data": {
      "text/plain": [
       "{'mae': 0.03371942578848122,\n",
       " 'mse': 0.006537821209455254,\n",
       " 'smse': 0.02616191650948132,\n",
       " 'r2': 0.9738380834905187,\n",
       " 'evs': 0.9738465995811194,\n",
       " 'spearmanrho': 0.7591839183918391,\n",
       " 'spearmanrho_p': 5.553607888288644e-20,\n",
       " 'pearsonr': 0.986851967808901,\n",
       " 'pearsonr_p': 2.2137976692964337e-79,\n",
       " 'median_abs_fc': 1.009203694135237,\n",
       " 'mean_abs_fc': 1.0236478028389082}"
      ]
     },
     "execution_count": 18,
     "metadata": {},
     "output_type": "execute_result"
    }
   ],
   "source": [
    "mean_rbf, var_rbf = model_rbf.predict_f(x_train)\n",
    "metrics_rbf = compute_metrics(mean_rbf.numpy(), y_train, y_train, fc_scale=2)\n",
    "\n",
    "# if SAVE:\n",
    "#     pd.DataFrame.from_dict(metrics,orient='index').T.to_csv(f'./results/am04f0/metrics_{TITLE}.tsv',sep='\\t')\n",
    "\n",
    "metrics_rbf"
   ]
  },
  {
   "cell_type": "code",
   "execution_count": 19,
   "metadata": {},
   "outputs": [
    {
     "data": {
      "text/plain": [
       "(-1.5, 1.5)"
      ]
     },
     "execution_count": 19,
     "metadata": {},
     "output_type": "execute_result"
    },
    {
     "data": {
      "image/png": "[encoded data removed]",
      "text/plain": [
       "<Figure size 756x468 with 1 Axes>"
      ]
     },
     "metadata": {
      "needs_background": "light"
     },
     "output_type": "display_data"
    }
   ],
   "source": [
    "fig = plt.figure()\n",
    "fig.set_size_inches(10.5,6.5)\n",
    "ax = fig.add_subplot(111)\n",
    "\n",
    "ax.scatter(x_train,mean)\n",
    "ax.set_xlim(-5,5)\n",
    "ax.set_ylim(-1.5,1.5)"
   ]
  },
  {
   "cell_type": "code",
   "execution_count": 20,
   "metadata": {},
   "outputs": [
    {
     "data": {
      "text/plain": [
       "Text(0.75, 0.01, 'pearson r: 0.9998')"
      ]
     },
     "execution_count": 20,
     "metadata": {},
     "output_type": "execute_result"
    },
    {
     "data": {
      "image/png": "[encoded data removed]",
      "text/plain": [
       "<Figure size 756x756 with 1 Axes>"
      ]
     },
     "metadata": {
      "needs_background": "light"
     },
     "output_type": "display_data"
    }
   ],
   "source": [
    "fig = plt.figure()\n",
    "fig.set_size_inches(10.5,10.5)\n",
    "ax = fig.add_subplot(111)\n",
    "\n",
    "ax.scatter(mean.numpy(),y_train)\n",
    "y_max = int(y_train.max())+2\n",
    "y_min = y_train.min()-2\n",
    "ax.set_xlim(y_min,y_max)\n",
    "ax.set_ylim(y_min,y_max)\n",
    "\n",
    "x = np.linspace(*ax.get_xlim())\n",
    "# ax.plot([0,1],[0,1], transform=ax.transAxes)\n",
    "ax.plot(x, x,color='k',linewidth=3)\n",
    "\n",
    "pearson = scipy.stats.pearsonr(y_train.squeeze(),mean.numpy().squeeze())[0]\n",
    "ax.text(.75,.01,f'pearson r: {pearson:.4f}',transform=ax.transAxes)"
   ]
  },
  {
   "cell_type": "code",
   "execution_count": 21,
   "metadata": {},
   "outputs": [
    {
     "data": {
      "text/plain": [
       "{'mae': 0.0025576520722275778,\n",
       " 'mse': 0.0007854866134798115,\n",
       " 'smse': 0.0031396877118864425,\n",
       " 'r2': 0.9968576010406306,\n",
       " 'evs': 0.996883771145616,\n",
       " 'spearmanrho': 0.8659647796417579,\n",
       " 'spearmanrho_p': 5.594860366859245e-152,\n",
       " 'pearsonr': 0.9984702047327377,\n",
       " 'pearsonr_p': 0.0,\n",
       " 'median_abs_fc': 1.0004959915866352,\n",
       " 'mean_abs_fc': 1.0017744017136778}"
      ]
     },
     "execution_count": 21,
     "metadata": {},
     "output_type": "execute_result"
    }
   ],
   "source": [
    "mean, var = model.predict_f(x_test)\n",
    "metrics = compute_metrics(mean.numpy(), y_test, y_train, fc_scale=2)\n",
    "\n",
    "# if SAVE:\n",
    "#     pd.DataFrame.from_dict(metrics,orient='index').T.to_csv(f'./results/am04f0/metrics_{TITLE}.tsv',sep='\\t')\n",
    "\n",
    "metrics"
   ]
  },
  {
   "cell_type": "code",
   "execution_count": 22,
   "metadata": {},
   "outputs": [
    {
     "data": {
      "text/plain": [
       "{'mae': 0.255479024628971,\n",
       " 'mse': 0.23743885003711165,\n",
       " 'smse': 0.949072621980626,\n",
       " 'r2': 0.050107815376967624,\n",
       " 'evs': 0.30259150130604173,\n",
       " 'spearmanrho': 0.5750141385357049,\n",
       " 'spearmanrho_p': 2.403054285135146e-45,\n",
       " 'pearsonr': 0.6003026131644719,\n",
       " 'pearsonr_p': 2.8224821511264053e-50,\n",
       " 'median_abs_fc': 1.0047934526525948,\n",
       " 'mean_abs_fc': 1.1937320375413043}"
      ]
     },
     "execution_count": 22,
     "metadata": {},
     "output_type": "execute_result"
    }
   ],
   "source": [
    "mean_rbf, var_rbf = model_rbf.predict_f(x_test)\n",
    "metrics_rbf = compute_metrics(mean_rbf.numpy(), y_test, y_train, fc_scale=2)\n",
    "\n",
    "# if SAVE:\n",
    "#     pd.DataFrame.from_dict(metrics,orient='index').T.to_csv(f'./results/am04f0/metrics_{TITLE}.tsv',sep='\\t')\n",
    "\n",
    "metrics_rbf"
   ]
  },
  {
   "cell_type": "code",
   "execution_count": 23,
   "metadata": {},
   "outputs": [
    {
     "data": {
      "text/plain": [
       "<matplotlib.collections.PolyCollection at 0x7f5e401e94d0>"
      ]
     },
     "execution_count": 23,
     "metadata": {},
     "output_type": "execute_result"
    },
    {
     "data": {
      "image/png": "[encoded data removed]",
      "text/plain": [
       "<Figure size 756x468 with 1 Axes>"
      ]
     },
     "metadata": {
      "needs_background": "light"
     },
     "output_type": "display_data"
    }
   ],
   "source": [
    "fig = plt.figure()\n",
    "fig.set_size_inches(10.5,6.5)\n",
    "ax = fig.add_subplot(111)\n",
    "\n",
    "ax.scatter(x_test,mean)\n",
    "ax.scatter(x_test,mean_rbf)\n",
    "ax.set_xlim(-5,5)\n",
    "ax.set_ylim(-1.5,1.5)\n",
    "\n",
    "positional_indx = np.argsort(x_test.squeeze())\n",
    "\n",
    "plt.fill_between(x_test[positional_indx].squeeze(),\n",
    "                 mean.numpy()[positional_indx].squeeze() - 1.96 * np.sqrt(var.numpy()[positional_indx]).squeeze(),\n",
    "                 mean.numpy()[positional_indx].squeeze() + 1.96 * np.sqrt(var.numpy()[positional_indx]).squeeze(),\n",
    "                 color='C0', alpha=0.2)\n",
    "\n",
    "plt.fill_between(x_test[positional_indx].squeeze(),\n",
    "                 mean_rbf.numpy()[positional_indx].squeeze() - 1.96 * np.sqrt(var_rbf.numpy()[positional_indx]).squeeze(),\n",
    "                 mean_rbf.numpy()[positional_indx].squeeze() + 1.96 * np.sqrt(var_rbf.numpy()[positional_indx]).squeeze(),\n",
    "                 color='C1', alpha=0.2)"
   ]
  },
  {
   "cell_type": "code",
   "execution_count": 24,
   "metadata": {},
   "outputs": [],
   "source": [
    "latent_space = manifold_mlp(x_test)"
   ]
  },
  {
   "cell_type": "code",
   "execution_count": 25,
   "metadata": {},
   "outputs": [
    {
     "data": {
      "text/plain": [
       "<matplotlib.collections.PathCollection at 0x7f5e40146bd0>"
      ]
     },
     "execution_count": 25,
     "metadata": {},
     "output_type": "execute_result"
    },
    {
     "data": {
      "image/png": "[encoded data removed]",
      "text/plain": [
       "<Figure size 756x468 with 1 Axes>"
      ]
     },
     "metadata": {
      "needs_background": "light"
     },
     "output_type": "display_data"
    }
   ],
   "source": [
    "fig = plt.figure()\n",
    "fig.set_size_inches(10.5,6.5)\n",
    "ax = fig.add_subplot(111)\n",
    "\n",
    "ax.scatter(x_test,latent_space.numpy()[:,0])\n",
    "ax.scatter(x_test,latent_space.numpy()[:,1])"
   ]
  },
  {
   "cell_type": "code",
   "execution_count": 26,
   "metadata": {},
   "outputs": [
    {
     "name": "stdout",
     "output_type": "stream",
     "text": [
      "name                                class             transform                prior    trainable    shape    dtype    value\n",
      "----------------------------------  ----------------  -----------------------  -------  -----------  -------  -------  -----------------------------------------\n",
      "GPR.kernel.model._layers[0][0]._trainable_weights[0]\n",
      "GPR.kernel.model._layers[0][0].kernel\n",
      "GPR.kernel.model.mlp_layers[0]._trainable_weights[0]\n",
      "GPR.kernel.model.mlp_layers[0].kernel                                     ResourceVariable                                    True         (1, 6)   float64  [[4.37565619, -1.08484597, 3.44263757...\n",
      "GPR.kernel.model._layers[0][0]._trainable_weights[1]\n",
      "GPR.kernel.model._layers[0][0].bias\n",
      "GPR.kernel.model.mlp_layers[0]._trainable_weights[1]\n",
      "GPR.kernel.model.mlp_layers[0].bias                                     ResourceVariable                                    True         (6,)     float64  [-0.25256098, -0.22900057, -0.31406042...\n",
      "GPR.kernel.model._layers[0][1]._trainable_weights[0]\n",
      "GPR.kernel.model._layers[0][1].kernel\n",
      "GPR.kernel.model.mlp_layers[1]._trainable_weights[0]\n",
      "GPR.kernel.model.mlp_layers[1].kernel                                     ResourceVariable                                    True         (6, 2)   float64  [[2.56859155, 0.99939058...\n",
      "GPR.kernel.model._layers[0][1]._trainable_weights[1]\n",
      "GPR.kernel.model._layers[0][1].bias\n",
      "GPR.kernel.model.mlp_layers[1]._trainable_weights[1]\n",
      "GPR.kernel.model.mlp_layers[1].bias                                     ResourceVariable                                    True         (2,)     float64  [-1.55624389  6.12113676]\n",
      "GPR.kernel.base_kernel.variance     Parameter         Softplus                          True         ()       float64  1.1993070728633493\n",
      "GPR.kernel.base_kernel.lengthscale  Parameter         Softplus                          True         (2,)     float64  [0.32625517 1.19800855]\n",
      "GPR.likelihood.variance             Parameter         Softplus + AffineScalar           True         ()       float64  8.875074731688409e-05\n"
     ]
    }
   ],
   "source": [
    "print_summary(model)"
   ]
  },
  {
   "cell_type": "code",
   "execution_count": 27,
   "metadata": {},
   "outputs": [
    {
     "data": {
      "text/plain": [
       "Text(0.75, 0.01, 'pearson r: 0.9985')"
      ]
     },
     "execution_count": 27,
     "metadata": {},
     "output_type": "execute_result"
    },
    {
     "data": {
      "image/png": "[encoded data removed]",
      "text/plain": [
       "<Figure size 756x756 with 1 Axes>"
      ]
     },
     "metadata": {
      "needs_background": "light"
     },
     "output_type": "display_data"
    }
   ],
   "source": [
    "fig = plt.figure()\n",
    "fig.set_size_inches(10.5,10.5)\n",
    "ax = fig.add_subplot(111)\n",
    "\n",
    "ax.scatter(mean.numpy(),y_test)\n",
    "y_max = int(y_test.max())+2\n",
    "y_min = y_test.min()-2\n",
    "ax.set_xlim(y_min,y_max)\n",
    "ax.set_ylim(y_min,y_max)\n",
    "\n",
    "x = np.linspace(*ax.get_xlim())\n",
    "# ax.plot([0,1],[0,1], transform=ax.transAxes)\n",
    "ax.plot(x, x,color='k',linewidth=3)\n",
    "\n",
    "pearson = scipy.stats.pearsonr(y_test.squeeze(),mean.numpy().squeeze())[0]\n",
    "ax.text(.75,.01,f'pearson r: {pearson:.4f}',transform=ax.transAxes)"
   ]
  },
  {
   "cell_type": "code",
   "execution_count": 28,
   "metadata": {},
   "outputs": [],
   "source": [
    "#plot mse, smse, and pearsonr for top 10% lowest variance to all, compute every 5% increments\n",
    "\n",
    "# scores=[]\n",
    "# sorted_indicies = np.argsort(var.numpy().squeeze())\n",
    "# sorted_xtest = x_test[sorted_indicies]\n",
    "# sorted_mean = mean.numpy()[sorted_indicies]\n",
    "# sorted_ytruth = y_test[sorted_indicies]\n",
    "# sorted_var = var.numpy()[sorted_indicies]\n",
    "# intervals = np.arange(.1,1.01,0.01)\n",
    "# for percent in intervals:\n",
    "#     index = int(np.floor(sorted_mean.shape[0]*percent))\n",
    "#     top_means = sorted_mean[0:index]\n",
    "#     top_means_ytruth = sorted_ytruth[0:index]\n",
    "#     scores.append(compute_metrics(top_means, top_means_ytruth, y_train, fc_scale=2)['smse'])\n",
    "#     #print(metrics.mean_squared_error(top_means_ytruth,top_means))\n",
    "    \n",
    "# plt.plot(intervals,scores)"
   ]
  },
  {
   "cell_type": "code",
   "execution_count": null,
   "metadata": {},
   "outputs": [],
   "source": []
  }
 ],
 "metadata": {
  "kernelspec": {
   "display_name": "Python [conda env:tf2.0]",
   "language": "python",
   "name": "conda-env-tf2.0-py"
  },
  "language_info": {
   "codemirror_mode": {
    "name": "ipython",
    "version": 3
   },
   "file_extension": ".py",
   "mimetype": "text/x-python",
   "name": "python",
   "nbconvert_exporter": "python",
   "pygments_lexer": "ipython3",
   "version": "3.7.4"
  }
 },
 "nbformat": 4,
 "nbformat_minor": 4
}
