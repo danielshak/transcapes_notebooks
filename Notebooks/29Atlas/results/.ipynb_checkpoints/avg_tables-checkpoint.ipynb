{
 "cells": [
  {
   "cell_type": "code",
   "execution_count": 2,
   "metadata": {},
   "outputs": [],
   "source": [
    "import pandas as pd"
   ]
  },
  {
   "cell_type": "code",
   "execution_count": 2,
   "metadata": {},
   "outputs": [],
   "source": [
    "ratios_embedding64_protlength = pd.read_csv('ratios_embedding64_protlength.tsv',sep='\\t',index_col=0)\n",
    "ratios_embedding64 = pd.read_csv('ratios_embedding64.tsv',sep='\\t',index_col=0)\n",
    "ratios_original_204features = pd.read_csv('ratios_original_204features.tsv',sep='\\t',index_col=0)\n",
    "vanilla_mrna_protein = pd.read_csv('vanilla_mrna_protein.tsv',sep='\\t',index_col=0)\n",
    "proteins_embedding64_protlength = pd.read_csv('proteins_embedding64_protlength.tsv',sep='\\t',index_col=0)\n",
    "proteins_original_204features = pd.read_csv('proteins_original_204features.tsv',sep='\\t',index_col=0)"
   ]
  },
  {
   "cell_type": "code",
   "execution_count": 3,
   "metadata": {},
   "outputs": [],
   "source": [
    "proteins_embedding64_protlength = pd.read_csv('proteins_embedding64_protlength.tsv',sep='\\t',index_col=0)\n",
    "proteins_original_204features = pd.read_csv('proteins_original_204features.tsv',sep='\\t',index_col=0)"
   ]
  },
  {
   "cell_type": "code",
   "execution_count": 5,
   "metadata": {},
   "outputs": [],
   "source": [
    "def save_mean(dataframe,name):\n",
    "    mean = dataframe.mean()\n",
    "    mean.name='average'\n",
    "    pd.DataFrame(mean).T.to_csv(name,sep='\\t')"
   ]
  },
  {
   "cell_type": "code",
   "execution_count": 4,
   "metadata": {},
   "outputs": [],
   "source": [
    "save_mean(ratios_embedding64_protlength,'avg_ratios_embedding64_protlength.tsv')\n",
    "save_mean(ratios_embedding64,'avg_ratios_embedding64.tsv')\n",
    "save_mean(ratios_original_204features,'avg_ratios_original_204features.tsv')\n",
    "save_mean(vanilla_mrna_protein,'avg_vanilla_mrna_protein.tsv')\n",
    "save_mean(proteins_embedding64_protlength,'avg_proteins_embedding64_protlength.tsv')\n",
    "save_mean(proteins_original_204features,'avg_proteins_original_204features.tsv')"
   ]
  },
  {
   "cell_type": "code",
   "execution_count": 8,
   "metadata": {},
   "outputs": [
    {
     "data": {
      "text/html": [
       "<div>\n",
       "<style scoped>\n",
       "    .dataframe tbody tr th:only-of-type {\n",
       "        vertical-align: middle;\n",
       "    }\n",
       "\n",
       "    .dataframe tbody tr th {\n",
       "        vertical-align: top;\n",
       "    }\n",
       "\n",
       "    .dataframe thead th {\n",
       "        text-align: right;\n",
       "    }\n",
       "</style>\n",
       "<table border=\"1\" class=\"dataframe\">\n",
       "  <thead>\n",
       "    <tr style=\"text-align: right;\">\n",
       "      <th></th>\n",
       "      <th>evs</th>\n",
       "      <th>mae</th>\n",
       "      <th>mean_abs_fc</th>\n",
       "      <th>median_abs_fc</th>\n",
       "      <th>mse</th>\n",
       "      <th>pearsonr</th>\n",
       "      <th>pearsonr_p</th>\n",
       "      <th>r2</th>\n",
       "      <th>smse</th>\n",
       "      <th>spearmanrho</th>\n",
       "      <th>spearmanrho_p</th>\n",
       "    </tr>\n",
       "  </thead>\n",
       "  <tbody>\n",
       "    <tr>\n",
       "      <td>average</td>\n",
       "      <td>0.217374</td>\n",
       "      <td>0.617895</td>\n",
       "      <td>4.155508</td>\n",
       "      <td>3.271747</td>\n",
       "      <td>0.617511</td>\n",
       "      <td>0.474757</td>\n",
       "      <td>1.339456e-30</td>\n",
       "      <td>0.216172</td>\n",
       "      <td>0.78261</td>\n",
       "      <td>0.468398</td>\n",
       "      <td>1.299408e-28</td>\n",
       "    </tr>\n",
       "  </tbody>\n",
       "</table>\n",
       "</div>"
      ],
      "text/plain": [
       "              evs       mae  mean_abs_fc  median_abs_fc       mse  pearsonr  \\\n",
       "average  0.217374  0.617895     4.155508       3.271747  0.617511  0.474757   \n",
       "\n",
       "           pearsonr_p        r2     smse  spearmanrho  spearmanrho_p  \n",
       "average  1.339456e-30  0.216172  0.78261     0.468398   1.299408e-28  "
      ]
     },
     "execution_count": 8,
     "metadata": {},
     "output_type": "execute_result"
    }
   ],
   "source": [
    "pd.read_csv('avg_ratios_original_204features.tsv',sep='\\t',index_col=0)"
   ]
  },
  {
   "cell_type": "code",
   "execution_count": 7,
   "metadata": {},
   "outputs": [
    {
     "data": {
      "text/html": [
       "<div>\n",
       "<style scoped>\n",
       "    .dataframe tbody tr th:only-of-type {\n",
       "        vertical-align: middle;\n",
       "    }\n",
       "\n",
       "    .dataframe tbody tr th {\n",
       "        vertical-align: top;\n",
       "    }\n",
       "\n",
       "    .dataframe thead th {\n",
       "        text-align: right;\n",
       "    }\n",
       "</style>\n",
       "<table border=\"1\" class=\"dataframe\">\n",
       "  <thead>\n",
       "    <tr style=\"text-align: right;\">\n",
       "      <th></th>\n",
       "      <th>evs</th>\n",
       "      <th>mae</th>\n",
       "      <th>mean_abs_fc</th>\n",
       "      <th>median_abs_fc</th>\n",
       "      <th>mse</th>\n",
       "      <th>pearsonr</th>\n",
       "      <th>pearsonr_p</th>\n",
       "      <th>r2</th>\n",
       "      <th>smse</th>\n",
       "      <th>spearmanrho</th>\n",
       "      <th>spearmanrho_p</th>\n",
       "    </tr>\n",
       "  </thead>\n",
       "  <tbody>\n",
       "    <tr>\n",
       "      <td>average</td>\n",
       "      <td>0.216724</td>\n",
       "      <td>0.617212</td>\n",
       "      <td>4.148523</td>\n",
       "      <td>3.260522</td>\n",
       "      <td>0.618025</td>\n",
       "      <td>0.473544</td>\n",
       "      <td>2.354292e-30</td>\n",
       "      <td>0.215493</td>\n",
       "      <td>0.783291</td>\n",
       "      <td>0.465852</td>\n",
       "      <td>1.312947e-28</td>\n",
       "    </tr>\n",
       "  </tbody>\n",
       "</table>\n",
       "</div>"
      ],
      "text/plain": [
       "              evs       mae  mean_abs_fc  median_abs_fc       mse  pearsonr  \\\n",
       "average  0.216724  0.617212     4.148523       3.260522  0.618025  0.473544   \n",
       "\n",
       "           pearsonr_p        r2      smse  spearmanrho  spearmanrho_p  \n",
       "average  2.354292e-30  0.215493  0.783291     0.465852   1.312947e-28  "
      ]
     },
     "execution_count": 7,
     "metadata": {},
     "output_type": "execute_result"
    }
   ],
   "source": [
    "pd.read_csv('avg_ratios_embedding64_protlength.tsv',sep='\\t',index_col=0)"
   ]
  },
  {
   "cell_type": "code",
   "execution_count": 6,
   "metadata": {},
   "outputs": [
    {
     "data": {
      "text/html": [
       "<div>\n",
       "<style scoped>\n",
       "    .dataframe tbody tr th:only-of-type {\n",
       "        vertical-align: middle;\n",
       "    }\n",
       "\n",
       "    .dataframe tbody tr th {\n",
       "        vertical-align: top;\n",
       "    }\n",
       "\n",
       "    .dataframe thead th {\n",
       "        text-align: right;\n",
       "    }\n",
       "</style>\n",
       "<table border=\"1\" class=\"dataframe\">\n",
       "  <thead>\n",
       "    <tr style=\"text-align: right;\">\n",
       "      <th></th>\n",
       "      <th>evs</th>\n",
       "      <th>mae</th>\n",
       "      <th>mean_abs_fc</th>\n",
       "      <th>median_abs_fc</th>\n",
       "      <th>mse</th>\n",
       "      <th>pearsonr</th>\n",
       "      <th>pearsonr_p</th>\n",
       "      <th>r2</th>\n",
       "      <th>smse</th>\n",
       "      <th>spearmanrho</th>\n",
       "      <th>spearmanrho_p</th>\n",
       "    </tr>\n",
       "  </thead>\n",
       "  <tbody>\n",
       "    <tr>\n",
       "      <td>average</td>\n",
       "      <td>0.215324</td>\n",
       "      <td>0.617849</td>\n",
       "      <td>4.154708</td>\n",
       "      <td>3.264919</td>\n",
       "      <td>0.61916</td>\n",
       "      <td>0.472882</td>\n",
       "      <td>2.799636e-30</td>\n",
       "      <td>0.214093</td>\n",
       "      <td>0.784689</td>\n",
       "      <td>0.464372</td>\n",
       "      <td>1.628102e-28</td>\n",
       "    </tr>\n",
       "  </tbody>\n",
       "</table>\n",
       "</div>"
      ],
      "text/plain": [
       "              evs       mae  mean_abs_fc  median_abs_fc      mse  pearsonr  \\\n",
       "average  0.215324  0.617849     4.154708       3.264919  0.61916  0.472882   \n",
       "\n",
       "           pearsonr_p        r2      smse  spearmanrho  spearmanrho_p  \n",
       "average  2.799636e-30  0.214093  0.784689     0.464372   1.628102e-28  "
      ]
     },
     "execution_count": 6,
     "metadata": {},
     "output_type": "execute_result"
    }
   ],
   "source": [
    "pd.read_csv('avg_ratios_embedding64.tsv',sep='\\t',index_col=0)"
   ]
  },
  {
   "cell_type": "code",
   "execution_count": 8,
   "metadata": {},
   "outputs": [
    {
     "data": {
      "text/html": [
       "<div>\n",
       "<style scoped>\n",
       "    .dataframe tbody tr th:only-of-type {\n",
       "        vertical-align: middle;\n",
       "    }\n",
       "\n",
       "    .dataframe tbody tr th {\n",
       "        vertical-align: top;\n",
       "    }\n",
       "\n",
       "    .dataframe thead th {\n",
       "        text-align: right;\n",
       "    }\n",
       "</style>\n",
       "<table border=\"1\" class=\"dataframe\">\n",
       "  <thead>\n",
       "    <tr style=\"text-align: right;\">\n",
       "      <th></th>\n",
       "      <th>evs</th>\n",
       "      <th>mae</th>\n",
       "      <th>mean_abs_fc</th>\n",
       "      <th>median_abs_fc</th>\n",
       "      <th>mse</th>\n",
       "      <th>pearsonr</th>\n",
       "      <th>pearsonr_p</th>\n",
       "      <th>r2</th>\n",
       "      <th>smse</th>\n",
       "      <th>spearmanrho</th>\n",
       "      <th>spearmanrho_p</th>\n",
       "    </tr>\n",
       "  </thead>\n",
       "  <tbody>\n",
       "    <tr>\n",
       "      <td>average</td>\n",
       "      <td>0.300904</td>\n",
       "      <td>0.706241</td>\n",
       "      <td>5.096295</td>\n",
       "      <td>4.039074</td>\n",
       "      <td>0.783108</td>\n",
       "      <td>0.52359</td>\n",
       "      <td>6.161508e-24</td>\n",
       "      <td>0.299798</td>\n",
       "      <td>0.699251</td>\n",
       "      <td>0.547623</td>\n",
       "      <td>1.909180e-28</td>\n",
       "    </tr>\n",
       "  </tbody>\n",
       "</table>\n",
       "</div>"
      ],
      "text/plain": [
       "              evs       mae  mean_abs_fc  median_abs_fc       mse  pearsonr  \\\n",
       "average  0.300904  0.706241     5.096295       4.039074  0.783108   0.52359   \n",
       "\n",
       "           pearsonr_p        r2      smse  spearmanrho  spearmanrho_p  \n",
       "average  6.161508e-24  0.299798  0.699251     0.547623   1.909180e-28  "
      ]
     },
     "execution_count": 8,
     "metadata": {},
     "output_type": "execute_result"
    }
   ],
   "source": [
    "pd.read_csv('avg_vanilla_mrna_protein.tsv',sep='\\t',index_col=0)"
   ]
  }
 ],
 "metadata": {
  "kernelspec": {
   "display_name": "Python 3",
   "language": "python",
   "name": "python3"
  },
  "language_info": {
   "codemirror_mode": {
    "name": "ipython",
    "version": 3
   },
   "file_extension": ".py",
   "mimetype": "text/x-python",
   "name": "python",
   "nbconvert_exporter": "python",
   "pygments_lexer": "ipython3",
   "version": "3.7.3"
  }
 },
 "nbformat": 4,
 "nbformat_minor": 2
}
