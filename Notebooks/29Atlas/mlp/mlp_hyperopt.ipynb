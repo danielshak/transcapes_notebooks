{
 "cells": [
  {
   "cell_type": "code",
   "execution_count": null,
   "metadata": {},
   "outputs": [
    {
     "name": "stdout",
     "output_type": "stream",
     "text": [
      "WARNING:tensorflow:From /gpfs/home/dshak/anaconda3/envs/tf2/lib/python3.7/site-packages/tensorflow_core/python/ops/distributions/distribution.py:265: ReparameterizationType.__init__ (from tensorflow.python.ops.distributions.distribution) is deprecated and will be removed after 2019-01-01.\n",
      "Instructions for updating:\n",
      "The TensorFlow Distributions library has moved to TensorFlow Probability (https://github.com/tensorflow/probability). You should update all references to use `tfp.distributions` instead of `tf.distributions`.\n",
      "WARNING:tensorflow:From /gpfs/home/dshak/anaconda3/envs/tf2/lib/python3.7/site-packages/tensorflow_core/python/ops/distributions/bernoulli.py:169: RegisterKL.__init__ (from tensorflow.python.ops.distributions.kullback_leibler) is deprecated and will be removed after 2019-01-01.\n",
      "Instructions for updating:\n",
      "The TensorFlow Distributions library has moved to TensorFlow Probability (https://github.com/tensorflow/probability). You should update all references to use `tfp.distributions` instead of `tf.distributions`.\n"
     ]
    }
   ],
   "source": [
    "import os\n",
    "import sys\n",
    "sys.path.append('../../Utils')\n",
    "from metrics import compute_metrics\n",
    "\n",
    "import sklearn.metrics as metrics\n",
    "import tensorflow as tf\n",
    "from tensorflow import keras\n",
    "from tensorflow.keras import layers\n",
    "from kerastuner.tuners import RandomSearch\n",
    "import kerastuner\n",
    "\n",
    "import numpy as np\n",
    "import pandas as pd\n",
    "import pickle\n",
    "from sklearn.model_selection import train_test_split\n",
    "import matplotlib.pyplot as plt\n",
    "\n",
    "current_dir = os.getcwd()\n",
    "data_dir = os.path.join(current_dir, '../../../Data/')\n",
    "data_path = data_dir+'/29Atlas/protein_embeddings/nn_dataset.tsv'"
   ]
  },
  {
   "cell_type": "code",
   "execution_count": null,
   "metadata": {},
   "outputs": [],
   "source": [
    "device = 0\n",
    "physical_devices = tf.config.experimental.list_physical_devices('GPU')\n",
    "tf.config.experimental.set_visible_devices(physical_devices[device], 'GPU')\n",
    "print(f'TF eager exectution: {tf.executing_eagerly()}')\n",
    "print(f'Using device {physical_devices[device]}')"
   ]
  },
  {
   "cell_type": "markdown",
   "metadata": {},
   "source": [
    "### Dataset import and formatting"
   ]
  },
  {
   "cell_type": "code",
   "execution_count": null,
   "metadata": {},
   "outputs": [],
   "source": [
    "#protein and mrna - log10, protein_length log2 -> need to remap to same coordinates as in manifold kernel\n",
    "atlas_data = pd.read_csv(data_path,sep='\\t',index_col=0).astype(np.float32)\n",
    "atlas_data['protein'] = np.log2(10**atlas_data['protein']+1)\n",
    "atlas_data['mrna'] = np.log2(10**atlas_data['mrna']+1)\n",
    "atlas_data['protein_length'] = np.log2(2**atlas_data['protein_length']+1)\n",
    "print(atlas_data.shape)\n",
    "atlas_data.head()"
   ]
  },
  {
   "cell_type": "code",
   "execution_count": null,
   "metadata": {},
   "outputs": [],
   "source": [
    "ZSCORE = True\n",
    "SEED = 10\n",
    "train,test = train_test_split(atlas_data,test_size=0.2,random_state=SEED)\n",
    "SEED = 42\n",
    "test,val = train_test_split(test,test_size=0.5,random_state=SEED)\n",
    "SEED = 82\n",
    "test,overfit = train_test_split(test,test_size=0.05,random_state=SEED)\n",
    "\n",
    "def zscore(train_df):\n",
    "    assert isinstance(train_df,pd.DataFrame)\n",
    "    means = train_df.mean(axis=0)\n",
    "    stds = train_df.std(axis=0)\n",
    "    zscored = (train_df-means)/stds\n",
    "    return zscored, means, stds\n",
    "\n",
    "if ZSCORE:\n",
    "    print(f'Data is z-scored')\n",
    "    train, train_mean, train_std = zscore(train) #zscore data\n",
    "    val = (val-train_mean)/train_std #zscore validation data using mean and std from train set\n",
    "    test = (test-train_mean)/train_std #zscore test data using mean and std from train set\n",
    "    overfit = (overfit-train_mean)/train_std"
   ]
  },
  {
   "cell_type": "code",
   "execution_count": null,
   "metadata": {},
   "outputs": [],
   "source": [
    "BATCH = 64\n",
    "x_train = train.drop(columns='protein').values\n",
    "y_train = train[['protein']].values\n",
    "\n",
    "x_val = val.drop(columns='protein').values\n",
    "y_val = val[['protein']].values\n",
    "\n",
    "x_test = test.drop(columns='protein').values\n",
    "y_test = test[['protein']].values\n",
    "\n",
    "x_overfit = overfit.drop(columns='protein').values\n",
    "y_overfit = overfit[['protein']].values\n",
    "\n",
    "print(f'train dataset size: {x_train.shape}')\n",
    "print(f'validation dataset size: {x_val.shape}')\n",
    "print(f'test dataset size: {x_test.shape}')\n",
    "print(f'overfit dataset size: {x_overfit.shape}')\n",
    "\n",
    "trn_dataset = tf.data.Dataset.from_tensor_slices((x_train,y_train))\n",
    "trn_dataset = trn_dataset.shuffle(buffer_size=x_train.shape[0]).batch(BATCH) #I think default is 32\n",
    "\n",
    "overfit_dataset = tf.data.Dataset.from_tensor_slices((x_overfit,y_overfit))\n",
    "overfit_dataset = overfit_dataset.shuffle(buffer_size=x_overfit.shape[0]).batch(BATCH)\n",
    "\n",
    "val_dataset = tf.data.Dataset.from_tensor_slices((x_val,y_val))\n",
    "val_dataset = val_dataset.batch(BATCH)"
   ]
  },
  {
   "cell_type": "code",
   "execution_count": null,
   "metadata": {},
   "outputs": [],
   "source": []
  },
  {
   "cell_type": "code",
   "execution_count": null,
   "metadata": {},
   "outputs": [],
   "source": []
  },
  {
   "cell_type": "code",
   "execution_count": 25,
   "metadata": {},
   "outputs": [],
   "source": [
    "def build_model(hp):\n",
    "    model = keras.Sequential()\n",
    "    model.add(layers.Dense(units=hp.Int('units',\n",
    "                                        min_value=8,\n",
    "                                        max_value=128,\n",
    "                                        step=4),\n",
    "                           activation='relu'))\n",
    "    model.add(layers.Dense(1, activation='linear'))\n",
    "    model.compile(\n",
    "        optimizer=keras.optimizers.Adam(\n",
    "            hp.Choice('learning_rate',\n",
    "                      values=[1e-2, 1e-3, 1e-4])),\n",
    "        loss='mse',\n",
    "        metrics=['mse'])\n",
    "    return model"
   ]
  },
  {
   "cell_type": "code",
   "execution_count": 69,
   "metadata": {},
   "outputs": [
    {
     "name": "stdout",
     "output_type": "stream",
     "text": [
      "INFO:tensorflow:Reloading Oracle from existing project my_dir/helloworld2/oracle.json\n",
      "INFO:tensorflow:Reloading Tuner from my_dir/helloworld2/tuner0.json\n"
     ]
    }
   ],
   "source": [
    "tuner = RandomSearch(\n",
    "    build_model,\n",
    "    objective=kerastuner.Objective(\"val_mse\", direction=\"min\"),\n",
    "    max_trials=3,\n",
    "    executions_per_trial=3,\n",
    "    directory='my_dir',\n",
    "    project_name='helloworld2')\n",
    "\n",
    "#dict_keys(['loss', 'mse', 'val_loss', 'val_mse'])"
   ]
  },
  {
   "cell_type": "code",
   "execution_count": 46,
   "metadata": {},
   "outputs": [
    {
     "data": {
      "text/html": [
       "<span style=\"color:#4527A0\"><h1 style=\"font-size:18px\">Search space summary</h1></span>"
      ],
      "text/plain": [
       "<IPython.core.display.HTML object>"
      ]
     },
     "metadata": {},
     "output_type": "display_data"
    },
    {
     "data": {
      "text/html": [
       "<span style=\"color:cyan\"> |-Default search space size: 2</span>"
      ],
      "text/plain": [
       "<IPython.core.display.HTML object>"
      ]
     },
     "metadata": {},
     "output_type": "display_data"
    },
    {
     "data": {
      "text/html": [
       "<span style=\"color:#7E57C2\"><h2 style=\"font-size:16px\">units (Int)</h2></span>"
      ],
      "text/plain": [
       "<IPython.core.display.HTML object>"
      ]
     },
     "metadata": {},
     "output_type": "display_data"
    },
    {
     "data": {
      "text/html": [
       "<span style=\"color:cyan\"> |-default: None</span>"
      ],
      "text/plain": [
       "<IPython.core.display.HTML object>"
      ]
     },
     "metadata": {},
     "output_type": "display_data"
    },
    {
     "data": {
      "text/html": [
       "<span style=\"color:blue\"> |-max_value: 128</span>"
      ],
      "text/plain": [
       "<IPython.core.display.HTML object>"
      ]
     },
     "metadata": {},
     "output_type": "display_data"
    },
    {
     "data": {
      "text/html": [
       "<span style=\"color:cyan\"> |-min_value: 8</span>"
      ],
      "text/plain": [
       "<IPython.core.display.HTML object>"
      ]
     },
     "metadata": {},
     "output_type": "display_data"
    },
    {
     "data": {
      "text/html": [
       "<span style=\"color:blue\"> |-sampling: None</span>"
      ],
      "text/plain": [
       "<IPython.core.display.HTML object>"
      ]
     },
     "metadata": {},
     "output_type": "display_data"
    },
    {
     "data": {
      "text/html": [
       "<span style=\"color:cyan\"> |-step: 32</span>"
      ],
      "text/plain": [
       "<IPython.core.display.HTML object>"
      ]
     },
     "metadata": {},
     "output_type": "display_data"
    },
    {
     "data": {
      "text/html": [
       "<span style=\"color:#7E57C2\"><h2 style=\"font-size:16px\">learning_rate (Choice)</h2></span>"
      ],
      "text/plain": [
       "<IPython.core.display.HTML object>"
      ]
     },
     "metadata": {},
     "output_type": "display_data"
    },
    {
     "data": {
      "text/html": [
       "<span style=\"color:cyan\"> |-default: 0.01</span>"
      ],
      "text/plain": [
       "<IPython.core.display.HTML object>"
      ]
     },
     "metadata": {},
     "output_type": "display_data"
    },
    {
     "data": {
      "text/html": [
       "<span style=\"color:blue\"> |-ordered: True</span>"
      ],
      "text/plain": [
       "<IPython.core.display.HTML object>"
      ]
     },
     "metadata": {},
     "output_type": "display_data"
    },
    {
     "data": {
      "text/html": [
       "<span style=\"color:cyan\"> |-values: [0.01, 0.001, 0.0001]</span>"
      ],
      "text/plain": [
       "<IPython.core.display.HTML object>"
      ]
     },
     "metadata": {},
     "output_type": "display_data"
    }
   ],
   "source": [
    "tuner.search_space_summary()"
   ]
  },
  {
   "cell_type": "code",
   "execution_count": 70,
   "metadata": {},
   "outputs": [
    {
     "name": "stdout",
     "output_type": "stream",
     "text": [
      "INFO:tensorflow:Oracle triggered exit\n"
     ]
    }
   ],
   "source": [
    "tuner.search(x_val, y_val,\n",
    "             epochs=5,\n",
    "             validation_data=(x_overfit, y_overfit),\n",
    "             callbacks=[tf.keras.callbacks.EarlyStopping('val_loss', patience=3)],\n",
    "             verbose=0)"
   ]
  },
  {
   "cell_type": "code",
   "execution_count": 68,
   "metadata": {},
   "outputs": [
    {
     "data": {
      "text/plain": [
       "{'units': 40, 'learning_rate': 0.001}"
      ]
     },
     "execution_count": 68,
     "metadata": {},
     "output_type": "execute_result"
    }
   ],
   "source": [
    "tuner.oracle.get_best_trials(num_trials=1)[0].hyperparameters.values"
   ]
  },
  {
   "cell_type": "code",
   "execution_count": null,
   "metadata": {},
   "outputs": [],
   "source": []
  },
  {
   "cell_type": "code",
   "execution_count": null,
   "metadata": {},
   "outputs": [],
   "source": []
  },
  {
   "cell_type": "code",
   "execution_count": 6,
   "metadata": {},
   "outputs": [],
   "source": [
    "class General_MLP(keras.Model):\n",
    "    def __init__(self,hidden_nodes,input_shape=None):\n",
    "        '''\n",
    "        hidden nodes - all the dimensions after input including output size\n",
    "        input shape is optional, if not specified then network takes input shape as the shape of the first vector passed to it.\n",
    "        '''\n",
    "        super(General_MLP, self).__init__()\n",
    "        self.mlp_layers = []\n",
    "        for nodes in hidden_nodes[0:-1]: \n",
    "            self.mlp_layers.append(keras.layers.Dense(nodes, activation='relu'))\n",
    "            \n",
    "        self.mlp_layers.append(keras.layers.Dense(hidden_nodes[-1]))\n",
    "        \n",
    "        if type(input_shape) != type(None):\n",
    "            self.build(input_shape)\n",
    "    \n",
    "    #training flag if specific layers behave differently, for mlp no difference\n",
    "    def call(self, inputs, training=False):\n",
    "        for layer in self.mlp_layers:\n",
    "            inputs = layer(inputs)\n",
    "        return inputs"
   ]
  },
  {
   "cell_type": "code",
   "execution_count": 15,
   "metadata": {},
   "outputs": [
    {
     "name": "stdout",
     "output_type": "stream",
     "text": [
      "Model: \"general_mlp_1\"\n",
      "_________________________________________________________________\n",
      "Layer (type)                 Output Shape              Param #   \n",
      "=================================================================\n",
      "dense_3 (Dense)              multiple                  4288      \n",
      "_________________________________________________________________\n",
      "dense_4 (Dense)              multiple                  1040      \n",
      "=================================================================\n",
      "Total params: 5,328\n",
      "Trainable params: 5,328\n",
      "Non-trainable params: 0\n",
      "_________________________________________________________________\n"
     ]
    }
   ],
   "source": [
    "atlas_mlp = General_MLP([64,16],input_shape=(1,66))\n",
    "atlas_mlp.summary()"
   ]
  },
  {
   "cell_type": "code",
   "execution_count": 16,
   "metadata": {},
   "outputs": [
    {
     "data": {
      "text/plain": [
       "<tensorflow.python.training.tracking.util.CheckpointLoadStatus at 0x7f43d0ae21d0>"
      ]
     },
     "execution_count": 16,
     "metadata": {},
     "output_type": "execute_result"
    }
   ],
   "source": [
    "title = f'training_170_epochs_64_16_1'\n",
    "atlas_mlp.load_weights(f'results/{title}_modelweights')"
   ]
  },
  {
   "cell_type": "code",
   "execution_count": 19,
   "metadata": {},
   "outputs": [
    {
     "data": {
      "text/plain": [
       "[<tf.Variable 'dense_3/kernel:0' shape=(66, 64) dtype=float32, numpy=\n",
       " array([[ 0.20449115, -0.44187957, -0.11918718, ...,  0.05622132,\n",
       "          0.1136036 , -0.11823564],\n",
       "        [-0.9564396 ,  0.71712494, -0.93131465, ...,  0.09455172,\n",
       "          0.9911818 ,  0.05199847],\n",
       "        [ 0.15582177, -0.15699957, -0.77588505, ..., -0.47392476,\n",
       "          0.9260752 , -0.65149885],\n",
       "        ...,\n",
       "        [ 0.05187403, -0.591617  ,  0.90841854, ...,  0.36526102,\n",
       "          0.22045124,  0.00195558],\n",
       "        [ 0.7492621 , -0.33667684, -0.29802823, ..., -0.37556186,\n",
       "         -0.64347845,  0.9877293 ],\n",
       "        [ 0.11848468, -0.4664278 , -0.33216605, ...,  0.6089894 ,\n",
       "         -0.6277354 , -0.41025424]], dtype=float32)>,\n",
       " <tf.Variable 'dense_3/bias:0' shape=(64,) dtype=float32, numpy=\n",
       " array([-0.9943621 , -0.9248907 , -0.23892032, -0.3871424 ,  0.292954  ,\n",
       "        -0.4845467 , -0.22052644,  0.5970853 , -0.7791493 , -1.3753949 ,\n",
       "        -1.5173056 , -0.3782626 , -0.711524  , -0.6430455 , -0.84698635,\n",
       "        -1.6261148 , -0.4400644 ,  0.05437579, -1.964311  , -0.55456257,\n",
       "        -1.4835827 , -0.19055283, -0.5931923 ,  0.32593456, -0.62884074,\n",
       "        -0.84818256, -0.22018778, -0.42550752, -1.1841898 , -0.30257446,\n",
       "        -0.62055194, -0.34896398, -0.37417623, -1.2206266 ,  0.18444097,\n",
       "        -0.9422471 ,  0.4629119 , -0.8055154 , -0.09136333, -1.3592354 ,\n",
       "        -0.72670054, -0.26902923, -1.5386777 ,  0.19084013,  0.07466157,\n",
       "        -1.1443894 , -0.15692776, -0.7454688 , -1.1612306 , -0.7635193 ,\n",
       "        -1.7268875 , -0.8752641 , -0.69388056, -0.6520805 , -0.68884003,\n",
       "        -1.6943356 , -0.9220317 , -0.41348112, -1.0650564 , -0.5257016 ,\n",
       "        -0.46002546, -0.55455345, -0.74123263, -0.4409563 ], dtype=float32)>,\n",
       " <tf.Variable 'dense_4/kernel:0' shape=(64, 16) dtype=float32, numpy=\n",
       " array([[-1.2046419 ,  0.76965094, -0.22544204, ..., -0.621642  ,\n",
       "         -0.14603022, -0.32473442],\n",
       "        [-0.38973653, -0.15811673, -0.62916774, ..., -0.80505043,\n",
       "          0.27608606, -0.33510837],\n",
       "        [-1.6140772 , -1.0987071 ,  0.5728942 , ...,  0.6023355 ,\n",
       "          0.88908494, -0.6313421 ],\n",
       "        ...,\n",
       "        [ 0.65673417, -1.3977226 ,  0.5077999 , ...,  0.19713072,\n",
       "          0.23876035, -0.2281361 ],\n",
       "        [-0.22813602, -0.8905256 , -1.8275214 , ...,  0.06822167,\n",
       "          0.9613033 , -0.50732064],\n",
       "        [-0.13168904,  0.26578745, -0.2159108 , ..., -0.06652823,\n",
       "         -1.377736  , -0.05327105]], dtype=float32)>,\n",
       " <tf.Variable 'dense_4/bias:0' shape=(16,) dtype=float32, numpy=\n",
       " array([ 0.2228413 ,  1.3715266 ,  0.65588456,  0.2462511 ,  0.5390592 ,\n",
       "         0.72596467,  0.91551054,  1.5705705 ,  0.1955847 , -0.40095103,\n",
       "        -0.40869614, -0.8420185 ,  1.9244776 ,  0.7986095 , -0.553761  ,\n",
       "         2.4714022 ], dtype=float32)>]"
      ]
     },
     "execution_count": 19,
     "metadata": {},
     "output_type": "execute_result"
    }
   ],
   "source": [
    "atlas_mlp.weights"
   ]
  }
 ],
 "metadata": {
  "kernelspec": {
   "display_name": "Python [conda env:tf2]",
   "language": "python",
   "name": "conda-env-tf2-py"
  },
  "language_info": {
   "codemirror_mode": {
    "name": "ipython",
    "version": 3
   },
   "file_extension": ".py",
   "mimetype": "text/x-python",
   "name": "python",
   "nbconvert_exporter": "python",
   "pygments_lexer": "ipython3",
   "version": "3.7.6"
  }
 },
 "nbformat": 4,
 "nbformat_minor": 4
}
