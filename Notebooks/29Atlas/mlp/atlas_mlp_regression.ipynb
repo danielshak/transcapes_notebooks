{
 "cells": [
  {
   "cell_type": "code",
   "execution_count": 1,
   "metadata": {},
   "outputs": [],
   "source": [
    "import os\n",
    "import sys\n",
    "sys.path.append('../../Utils')\n",
    "from metrics import compute_metrics\n",
    "\n",
    "import tensorflow as tf\n",
    "from tensorflow import keras\n",
    "from tensorflow.keras import layers\n",
    "import numpy as np\n",
    "import pandas as pd\n",
    "import pickle\n",
    "from sklearn.model_selection import train_test_split\n",
    "import matplotlib.pyplot as plt\n",
    "import tqdm\n",
    "\n",
    "current_dir = os.getcwd()\n",
    "data_dir = os.path.join(current_dir, '../../../Data/')\n",
    "\n",
    "data_path = data_dir+'/29Atlas/protein_embeddings/nn_dataset.tsv'"
   ]
  },
  {
   "cell_type": "code",
   "execution_count": 2,
   "metadata": {},
   "outputs": [
    {
     "name": "stdout",
     "output_type": "stream",
     "text": [
      "TF eager exectution: True\n",
      "Using device PhysicalDevice(name='/physical_device:GPU:1', device_type='GPU')\n"
     ]
    }
   ],
   "source": [
    "device = 1\n",
    "physical_devices = tf.config.experimental.list_physical_devices('GPU')\n",
    "tf.config.experimental.set_visible_devices(physical_devices[device], 'GPU')\n",
    "\n",
    "print(f'TF eager exectution: {tf.executing_eagerly()}')\n",
    "print(f'Using device {physical_devices[device]}')"
   ]
  },
  {
   "cell_type": "code",
   "execution_count": 3,
   "metadata": {},
   "outputs": [],
   "source": [
    "class General_MLP(keras.Model):\n",
    "    def __init__(self,hidden_nodes,input_shape=None):\n",
    "        '''\n",
    "        hidden nodes - all the dimensions after input including output size\n",
    "        input shape is optional, if not specified then network takes input shape as the shape of the first vector passed to it.\n",
    "        '''\n",
    "        super(General_MLP, self).__init__()\n",
    "        self.mlp_layers = []\n",
    "        for nodes in hidden_nodes[0:-1]: \n",
    "            self.mlp_layers.append(keras.layers.Dense(nodes, activation='relu'))\n",
    "            \n",
    "        self.mlp_layers.append(keras.layers.Dense(hidden_nodes[-1]))\n",
    "        \n",
    "        if type(input_shape) != type(None):\n",
    "            self.build(input_shape)\n",
    "    \n",
    "    #training flag if specific layers behave differently, for mlp no difference\n",
    "    def call(self, inputs, training=False):\n",
    "        for layer in self.mlp_layers:\n",
    "            inputs = layer(inputs)\n",
    "        return inputs"
   ]
  },
  {
   "cell_type": "code",
   "execution_count": 4,
   "metadata": {},
   "outputs": [
    {
     "name": "stdout",
     "output_type": "stream",
     "text": [
      "Model: \"general_mlp\"\n",
      "_________________________________________________________________\n",
      "Layer (type)                 Output Shape              Param #   \n",
      "=================================================================\n",
      "dense (Dense)                multiple                  4288      \n",
      "_________________________________________________________________\n",
      "dense_1 (Dense)              multiple                  2080      \n",
      "_________________________________________________________________\n",
      "dense_2 (Dense)              multiple                  99        \n",
      "_________________________________________________________________\n",
      "dense_3 (Dense)              multiple                  4         \n",
      "=================================================================\n",
      "Total params: 6,471\n",
      "Trainable params: 6,471\n",
      "Non-trainable params: 0\n",
      "_________________________________________________________________\n"
     ]
    }
   ],
   "source": [
    "atlas_mlp = General_MLP([64,32,3,1],input_shape=(1,66))\n",
    "atlas_mlp.summary()"
   ]
  },
  {
   "cell_type": "code",
   "execution_count": 5,
   "metadata": {},
   "outputs": [],
   "source": [
    "#optimizer = tf.keras.optimizers.RMSprop(0.001)\n",
    "#optimizer = tf.keras.optimizers.SGD(0.001) #-> need lr, momentum, neustrov?\n",
    "optimizer = tf.keras.optimizers.Adam()\n",
    "mse_loss_fn = tf.keras.losses.MeanSquaredError()\n",
    "mse_loss_fn_v = tf.keras.losses.MeanSquaredError()\n",
    "loss_metric = tf.keras.metrics.Mean()\n",
    "vloss_metric = tf.keras.metrics.Mean()"
   ]
  },
  {
   "cell_type": "markdown",
   "metadata": {},
   "source": [
    "### Import data and create train, validation and test set."
   ]
  },
  {
   "cell_type": "code",
   "execution_count": 6,
   "metadata": {},
   "outputs": [],
   "source": [
    "atlas_data = pd.read_csv(data_path,sep='\\t',index_col=0).astype(np.float32)"
   ]
  },
  {
   "cell_type": "code",
   "execution_count": 7,
   "metadata": {},
   "outputs": [
    {
     "name": "stdout",
     "output_type": "stream",
     "text": [
      "(232919, 67)\n"
     ]
    },
    {
     "data": {
      "text/html": [
       "<div>\n",
       "<style scoped>\n",
       "    .dataframe tbody tr th:only-of-type {\n",
       "        vertical-align: middle;\n",
       "    }\n",
       "\n",
       "    .dataframe tbody tr th {\n",
       "        vertical-align: top;\n",
       "    }\n",
       "\n",
       "    .dataframe thead th {\n",
       "        text-align: right;\n",
       "    }\n",
       "</style>\n",
       "<table border=\"1\" class=\"dataframe\">\n",
       "  <thead>\n",
       "    <tr style=\"text-align: right;\">\n",
       "      <th></th>\n",
       "      <th>protein</th>\n",
       "      <th>mrna</th>\n",
       "      <th>protein_length</th>\n",
       "      <th>0</th>\n",
       "      <th>1</th>\n",
       "      <th>2</th>\n",
       "      <th>3</th>\n",
       "      <th>4</th>\n",
       "      <th>5</th>\n",
       "      <th>6</th>\n",
       "      <th>...</th>\n",
       "      <th>54</th>\n",
       "      <th>55</th>\n",
       "      <th>56</th>\n",
       "      <th>57</th>\n",
       "      <th>58</th>\n",
       "      <th>59</th>\n",
       "      <th>60</th>\n",
       "      <th>61</th>\n",
       "      <th>62</th>\n",
       "      <th>63</th>\n",
       "    </tr>\n",
       "  </thead>\n",
       "  <tbody>\n",
       "    <tr>\n",
       "      <th>A2M_Adrenal</th>\n",
       "      <td>9.444</td>\n",
       "      <td>3.154</td>\n",
       "      <td>10.525521</td>\n",
       "      <td>0.038579</td>\n",
       "      <td>0.173506</td>\n",
       "      <td>-0.130435</td>\n",
       "      <td>-0.936089</td>\n",
       "      <td>-0.041486</td>\n",
       "      <td>-0.335922</td>\n",
       "      <td>0.103442</td>\n",
       "      <td>...</td>\n",
       "      <td>0.125525</td>\n",
       "      <td>0.013637</td>\n",
       "      <td>0.017146</td>\n",
       "      <td>-0.015429</td>\n",
       "      <td>-0.014028</td>\n",
       "      <td>0.278659</td>\n",
       "      <td>-0.174157</td>\n",
       "      <td>-0.061808</td>\n",
       "      <td>0.547407</td>\n",
       "      <td>-0.007637</td>\n",
       "    </tr>\n",
       "    <tr>\n",
       "      <th>A4GALT_Adrenal</th>\n",
       "      <td>5.467</td>\n",
       "      <td>1.625</td>\n",
       "      <td>8.463525</td>\n",
       "      <td>-0.021238</td>\n",
       "      <td>0.090200</td>\n",
       "      <td>-0.107737</td>\n",
       "      <td>-0.954438</td>\n",
       "      <td>-0.046315</td>\n",
       "      <td>-0.310370</td>\n",
       "      <td>0.075852</td>\n",
       "      <td>...</td>\n",
       "      <td>0.155519</td>\n",
       "      <td>0.027173</td>\n",
       "      <td>0.072275</td>\n",
       "      <td>-0.004112</td>\n",
       "      <td>-0.052762</td>\n",
       "      <td>0.239089</td>\n",
       "      <td>-0.078361</td>\n",
       "      <td>-0.065273</td>\n",
       "      <td>0.394913</td>\n",
       "      <td>-0.005416</td>\n",
       "    </tr>\n",
       "    <tr>\n",
       "      <th>AAAS_Adrenal</th>\n",
       "      <td>6.827</td>\n",
       "      <td>2.314</td>\n",
       "      <td>9.092757</td>\n",
       "      <td>0.036048</td>\n",
       "      <td>0.110593</td>\n",
       "      <td>-0.096235</td>\n",
       "      <td>-0.972981</td>\n",
       "      <td>-0.038344</td>\n",
       "      <td>-0.285189</td>\n",
       "      <td>0.042900</td>\n",
       "      <td>...</td>\n",
       "      <td>0.156817</td>\n",
       "      <td>0.015685</td>\n",
       "      <td>0.135258</td>\n",
       "      <td>-0.032438</td>\n",
       "      <td>-0.042827</td>\n",
       "      <td>0.208018</td>\n",
       "      <td>-0.072004</td>\n",
       "      <td>-0.047945</td>\n",
       "      <td>0.314613</td>\n",
       "      <td>-0.021386</td>\n",
       "    </tr>\n",
       "    <tr>\n",
       "      <th>AACS_Adrenal</th>\n",
       "      <td>6.296</td>\n",
       "      <td>1.737</td>\n",
       "      <td>9.392318</td>\n",
       "      <td>-0.078363</td>\n",
       "      <td>0.115565</td>\n",
       "      <td>-0.106326</td>\n",
       "      <td>-0.962264</td>\n",
       "      <td>-0.026361</td>\n",
       "      <td>-0.175895</td>\n",
       "      <td>0.091822</td>\n",
       "      <td>...</td>\n",
       "      <td>0.120208</td>\n",
       "      <td>0.010343</td>\n",
       "      <td>-0.044220</td>\n",
       "      <td>-0.025518</td>\n",
       "      <td>-0.029130</td>\n",
       "      <td>0.313736</td>\n",
       "      <td>-0.115714</td>\n",
       "      <td>-0.036679</td>\n",
       "      <td>0.423880</td>\n",
       "      <td>-0.013957</td>\n",
       "    </tr>\n",
       "    <tr>\n",
       "      <th>AADAC_Adrenal</th>\n",
       "      <td>8.090</td>\n",
       "      <td>2.980</td>\n",
       "      <td>8.640244</td>\n",
       "      <td>-0.035582</td>\n",
       "      <td>0.130290</td>\n",
       "      <td>-0.086787</td>\n",
       "      <td>-0.941683</td>\n",
       "      <td>-0.025509</td>\n",
       "      <td>-0.380224</td>\n",
       "      <td>0.098700</td>\n",
       "      <td>...</td>\n",
       "      <td>0.108652</td>\n",
       "      <td>0.015800</td>\n",
       "      <td>-0.056896</td>\n",
       "      <td>0.002625</td>\n",
       "      <td>-0.047716</td>\n",
       "      <td>0.388146</td>\n",
       "      <td>-0.174945</td>\n",
       "      <td>-0.042153</td>\n",
       "      <td>0.653626</td>\n",
       "      <td>-0.012216</td>\n",
       "    </tr>\n",
       "  </tbody>\n",
       "</table>\n",
       "<p>5 rows × 67 columns</p>\n",
       "</div>"
      ],
      "text/plain": [
       "                protein   mrna  protein_length         0         1         2  \\\n",
       "A2M_Adrenal       9.444  3.154       10.525521  0.038579  0.173506 -0.130435   \n",
       "A4GALT_Adrenal    5.467  1.625        8.463525 -0.021238  0.090200 -0.107737   \n",
       "AAAS_Adrenal      6.827  2.314        9.092757  0.036048  0.110593 -0.096235   \n",
       "AACS_Adrenal      6.296  1.737        9.392318 -0.078363  0.115565 -0.106326   \n",
       "AADAC_Adrenal     8.090  2.980        8.640244 -0.035582  0.130290 -0.086787   \n",
       "\n",
       "                       3         4         5         6  ...        54  \\\n",
       "A2M_Adrenal    -0.936089 -0.041486 -0.335922  0.103442  ...  0.125525   \n",
       "A4GALT_Adrenal -0.954438 -0.046315 -0.310370  0.075852  ...  0.155519   \n",
       "AAAS_Adrenal   -0.972981 -0.038344 -0.285189  0.042900  ...  0.156817   \n",
       "AACS_Adrenal   -0.962264 -0.026361 -0.175895  0.091822  ...  0.120208   \n",
       "AADAC_Adrenal  -0.941683 -0.025509 -0.380224  0.098700  ...  0.108652   \n",
       "\n",
       "                      55        56        57        58        59        60  \\\n",
       "A2M_Adrenal     0.013637  0.017146 -0.015429 -0.014028  0.278659 -0.174157   \n",
       "A4GALT_Adrenal  0.027173  0.072275 -0.004112 -0.052762  0.239089 -0.078361   \n",
       "AAAS_Adrenal    0.015685  0.135258 -0.032438 -0.042827  0.208018 -0.072004   \n",
       "AACS_Adrenal    0.010343 -0.044220 -0.025518 -0.029130  0.313736 -0.115714   \n",
       "AADAC_Adrenal   0.015800 -0.056896  0.002625 -0.047716  0.388146 -0.174945   \n",
       "\n",
       "                      61        62        63  \n",
       "A2M_Adrenal    -0.061808  0.547407 -0.007637  \n",
       "A4GALT_Adrenal -0.065273  0.394913 -0.005416  \n",
       "AAAS_Adrenal   -0.047945  0.314613 -0.021386  \n",
       "AACS_Adrenal   -0.036679  0.423880 -0.013957  \n",
       "AADAC_Adrenal  -0.042153  0.653626 -0.012216  \n",
       "\n",
       "[5 rows x 67 columns]"
      ]
     },
     "execution_count": 7,
     "metadata": {},
     "output_type": "execute_result"
    }
   ],
   "source": [
    "print(atlas_data.shape)\n",
    "atlas_data.head()"
   ]
  },
  {
   "cell_type": "code",
   "execution_count": 8,
   "metadata": {},
   "outputs": [
    {
     "name": "stdout",
     "output_type": "stream",
     "text": [
      "Data is z-scored\n"
     ]
    }
   ],
   "source": [
    "ZSCORE = True\n",
    "SEED = 10\n",
    "train,test = train_test_split(atlas_data,test_size=0.2,random_state=SEED)\n",
    "SEED = 42\n",
    "test,val = train_test_split(test,test_size=0.5,random_state=SEED)\n",
    "SEED = 82\n",
    "test,overfit = train_test_split(test,test_size=0.05,random_state=SEED)\n",
    "\n",
    "def zscore(train_df):\n",
    "    assert isinstance(train_df,pd.DataFrame)\n",
    "    means = train_df.mean(axis=0)\n",
    "    stds = train_df.std(axis=0)\n",
    "    zscored = (train_df-means)/stds\n",
    "    return zscored, means, stds\n",
    "\n",
    "if ZSCORE:\n",
    "    print(f'Data is z-scored')\n",
    "    train, train_mean, train_std = zscore(train) #zscore data\n",
    "    val = (val-train_mean)/train_std #zscore validation data using mean and std from train set\n",
    "    test = (test-train_mean)/train_std #zscore test data using mean and std from train set\n",
    "    overfit = (overfit-train_mean)/train_std"
   ]
  },
  {
   "cell_type": "code",
   "execution_count": 9,
   "metadata": {},
   "outputs": [
    {
     "name": "stdout",
     "output_type": "stream",
     "text": [
      "train dataset size: (186335, 66)\n",
      "validation dataset size: (23292, 66)\n",
      "test dataset size: (22127, 66)\n",
      "overfit dataset size: (1165, 66)\n"
     ]
    }
   ],
   "source": [
    "BATCH = 64\n",
    "x_train = train.drop(columns='protein').values\n",
    "y_train = train[['protein']].values\n",
    "\n",
    "x_val = val.drop(columns='protein').values\n",
    "y_val = val[['protein']].values\n",
    "\n",
    "x_test = test.drop(columns='protein').values\n",
    "y_test = test[['protein']].values\n",
    "\n",
    "x_overfit = overfit.drop(columns='protein').values\n",
    "y_overfit = overfit[['protein']].values\n",
    "\n",
    "print(f'train dataset size: {x_train.shape}')\n",
    "print(f'validation dataset size: {x_val.shape}')\n",
    "print(f'test dataset size: {x_test.shape}')\n",
    "print(f'overfit dataset size: {x_overfit.shape}')\n",
    "\n",
    "trn_dataset = tf.data.Dataset.from_tensor_slices((x_train,y_train))\n",
    "trn_dataset = trn_dataset.shuffle(buffer_size=x_train.shape[0]).batch(BATCH) #I think default is 32\n",
    "\n",
    "overfit_dataset = tf.data.Dataset.from_tensor_slices((x_overfit,y_overfit))\n",
    "overfit_dataset = overfit_dataset.shuffle(buffer_size=x_overfit.shape[0]).batch(BATCH)\n",
    "\n",
    "val_dataset = tf.data.Dataset.from_tensor_slices((x_val,y_val))\n",
    "val_dataset = val_dataset.batch(BATCH)"
   ]
  },
  {
   "cell_type": "code",
   "execution_count": 10,
   "metadata": {},
   "outputs": [],
   "source": [
    "# def norm_dataset(raw_data,train_mean,train_std):\n",
    "#     norm_data = (raw_data-train_mean)/train_std\n",
    "#     return norm_data\n",
    "\n",
    "# train, test = train_test_split(atlas_data, test_size=0.2,random_state = 0,shuffle=True)\n",
    "# train, validation = train_test_split(train, test_size=0.2,random_state = 0,shuffle=True)\n",
    "# _, overfit_batch = train_test_split(train, test_size=0.005,random_state = 0,shuffle=True)\n",
    "\n",
    "# train_y = train.pop('protein').values\n",
    "# train_x = train.values\n",
    "\n",
    "# train_mean = train_x.mean(axis=0)\n",
    "# train_std = train_x.std(axis=0)\n",
    "\n",
    "# train_x = norm_dataset(train_x,train_mean,train_std)\n",
    "\n",
    "# val_y = validation.pop('protein').values\n",
    "# val_x = norm_dataset(validation.values,train_mean,train_std)\n",
    "\n",
    "# test_y = test.pop('protein').values\n",
    "# test_x = norm_dataset(test.values,train_mean,train_std)\n",
    "\n",
    "# print(f'train dataset size: {train_x.shape}')\n",
    "# print(f'validation dataset size: {val_x.shape}')\n",
    "# print(f'test dataset size: {test_x.shape}')"
   ]
  },
  {
   "cell_type": "markdown",
   "metadata": {},
   "source": [
    "## Should check if I can overfit a small batch of the data first"
   ]
  },
  {
   "cell_type": "code",
   "execution_count": 11,
   "metadata": {},
   "outputs": [],
   "source": [
    "# y_overfit = overfit_batch.pop('protein').values\n",
    "# x_overfit = norm_dataset(overfit_batch.values,train_mean,train_std)\n",
    "\n",
    "# print(f'train dataset size: {x_overfit.shape}')"
   ]
  },
  {
   "cell_type": "markdown",
   "metadata": {},
   "source": [
    "By contrast, the buffer_size argument to tf.data.Dataset.shuffle() affects the randomness of the transformation. We designed the Dataset.shuffle() transformation (like the tf.train.shuffle_batch() function that it replaces) to handle datasets that are too large to fit in memory. "
   ]
  },
  {
   "cell_type": "code",
   "execution_count": 12,
   "metadata": {},
   "outputs": [],
   "source": [
    "#split data into its train dataset and validation\n",
    "BATCH = 64\n",
    "trn_dataset = tf.data.Dataset.from_tensor_slices((x_train,y_train))\n",
    "trn_dataset = trn_dataset.shuffle(buffer_size=x_train.shape[0]).batch(BATCH) #I think default is 32\n",
    "\n",
    "overfit_dataset = tf.data.Dataset.from_tensor_slices((x_overfit,y_overfit))\n",
    "overfit_dataset = overfit_dataset.shuffle(buffer_size=x_overfit.shape[0]).batch(BATCH)\n",
    "\n",
    "v_dataset = tf.data.Dataset.from_tensor_slices((x_val,y_val))\n",
    "v_dataset = v_dataset.batch(BATCH)"
   ]
  },
  {
   "cell_type": "code",
   "execution_count": 13,
   "metadata": {},
   "outputs": [],
   "source": [
    "val_loss = []\n",
    "train_loss = []"
   ]
  },
  {
   "cell_type": "code",
   "execution_count": 26,
   "metadata": {
    "collapsed": true,
    "jupyter": {
     "outputs_hidden": true
    }
   },
   "outputs": [
    {
     "name": "stderr",
     "output_type": "stream",
     "text": [
      "  4%|▍         | 1/25 [00:31<12:44, 31.84s/it]"
     ]
    },
    {
     "ename": "KeyboardInterrupt",
     "evalue": "",
     "output_type": "error",
     "traceback": [
      "\u001b[0;31m---------------------------------------------------------------------------\u001b[0m",
      "\u001b[0;31mKeyboardInterrupt\u001b[0m                         Traceback (most recent call last)",
      "\u001b[0;32m<ipython-input-26-05be15b522ef>\u001b[0m in \u001b[0;36m<module>\u001b[0;34m\u001b[0m\n\u001b[1;32m     16\u001b[0m \u001b[0;34m\u001b[0m\u001b[0m\n\u001b[1;32m     17\u001b[0m         \u001b[0mgrads\u001b[0m \u001b[0;34m=\u001b[0m \u001b[0mtape\u001b[0m\u001b[0;34m.\u001b[0m\u001b[0mgradient\u001b[0m\u001b[0;34m(\u001b[0m\u001b[0mloss\u001b[0m\u001b[0;34m,\u001b[0m \u001b[0matlas_mlp\u001b[0m\u001b[0;34m.\u001b[0m\u001b[0mtrainable_weights\u001b[0m\u001b[0;34m)\u001b[0m\u001b[0;34m\u001b[0m\u001b[0;34m\u001b[0m\u001b[0m\n\u001b[0;32m---> 18\u001b[0;31m         \u001b[0moptimizer\u001b[0m\u001b[0;34m.\u001b[0m\u001b[0mapply_gradients\u001b[0m\u001b[0;34m(\u001b[0m\u001b[0mzip\u001b[0m\u001b[0;34m(\u001b[0m\u001b[0mgrads\u001b[0m\u001b[0;34m,\u001b[0m \u001b[0matlas_mlp\u001b[0m\u001b[0;34m.\u001b[0m\u001b[0mtrainable_weights\u001b[0m\u001b[0;34m)\u001b[0m\u001b[0;34m)\u001b[0m\u001b[0;34m\u001b[0m\u001b[0;34m\u001b[0m\u001b[0m\n\u001b[0m\u001b[1;32m     19\u001b[0m         \u001b[0;31m#average loss over batches\u001b[0m\u001b[0;34m\u001b[0m\u001b[0;34m\u001b[0m\u001b[0;34m\u001b[0m\u001b[0m\n\u001b[1;32m     20\u001b[0m         \u001b[0mloss_metric\u001b[0m\u001b[0;34m(\u001b[0m\u001b[0mloss\u001b[0m\u001b[0;34m)\u001b[0m\u001b[0;34m\u001b[0m\u001b[0;34m\u001b[0m\u001b[0m\n",
      "\u001b[0;32m~/anaconda3/envs/tf2/lib/python3.7/site-packages/tensorflow_core/python/keras/optimizer_v2/optimizer_v2.py\u001b[0m in \u001b[0;36mapply_gradients\u001b[0;34m(self, grads_and_vars, name)\u001b[0m\n\u001b[1;32m    435\u001b[0m         \u001b[0mself\u001b[0m\u001b[0;34m.\u001b[0m\u001b[0m_create_slots\u001b[0m\u001b[0;34m(\u001b[0m\u001b[0mvar_list\u001b[0m\u001b[0;34m)\u001b[0m\u001b[0;34m\u001b[0m\u001b[0;34m\u001b[0m\u001b[0m\n\u001b[1;32m    436\u001b[0m \u001b[0;34m\u001b[0m\u001b[0m\n\u001b[0;32m--> 437\u001b[0;31m       \u001b[0mapply_state\u001b[0m \u001b[0;34m=\u001b[0m \u001b[0mself\u001b[0m\u001b[0;34m.\u001b[0m\u001b[0m_prepare\u001b[0m\u001b[0;34m(\u001b[0m\u001b[0mvar_list\u001b[0m\u001b[0;34m)\u001b[0m\u001b[0;34m\u001b[0m\u001b[0;34m\u001b[0m\u001b[0m\n\u001b[0m\u001b[1;32m    438\u001b[0m       return distribute_ctx.get_replica_context().merge_call(\n\u001b[1;32m    439\u001b[0m           \u001b[0mfunctools\u001b[0m\u001b[0;34m.\u001b[0m\u001b[0mpartial\u001b[0m\u001b[0;34m(\u001b[0m\u001b[0mself\u001b[0m\u001b[0;34m.\u001b[0m\u001b[0m_distributed_apply\u001b[0m\u001b[0;34m,\u001b[0m \u001b[0mapply_state\u001b[0m\u001b[0;34m=\u001b[0m\u001b[0mapply_state\u001b[0m\u001b[0;34m)\u001b[0m\u001b[0;34m,\u001b[0m\u001b[0;34m\u001b[0m\u001b[0;34m\u001b[0m\u001b[0m\n",
      "\u001b[0;32m~/anaconda3/envs/tf2/lib/python3.7/site-packages/tensorflow_core/python/keras/optimizer_v2/optimizer_v2.py\u001b[0m in \u001b[0;36m_prepare\u001b[0;34m(self, var_list)\u001b[0m\n\u001b[1;32m    612\u001b[0m       \u001b[0mapply_state\u001b[0m\u001b[0;34m[\u001b[0m\u001b[0;34m(\u001b[0m\u001b[0mvar_device\u001b[0m\u001b[0;34m,\u001b[0m \u001b[0mvar_dtype\u001b[0m\u001b[0;34m)\u001b[0m\u001b[0;34m]\u001b[0m \u001b[0;34m=\u001b[0m \u001b[0;34m{\u001b[0m\u001b[0;34m}\u001b[0m\u001b[0;34m\u001b[0m\u001b[0;34m\u001b[0m\u001b[0m\n\u001b[1;32m    613\u001b[0m       \u001b[0;32mwith\u001b[0m \u001b[0mops\u001b[0m\u001b[0;34m.\u001b[0m\u001b[0mdevice\u001b[0m\u001b[0;34m(\u001b[0m\u001b[0mvar_device\u001b[0m\u001b[0;34m)\u001b[0m\u001b[0;34m:\u001b[0m\u001b[0;34m\u001b[0m\u001b[0;34m\u001b[0m\u001b[0m\n\u001b[0;32m--> 614\u001b[0;31m         \u001b[0mself\u001b[0m\u001b[0;34m.\u001b[0m\u001b[0m_prepare_local\u001b[0m\u001b[0;34m(\u001b[0m\u001b[0mvar_device\u001b[0m\u001b[0;34m,\u001b[0m \u001b[0mvar_dtype\u001b[0m\u001b[0;34m,\u001b[0m \u001b[0mapply_state\u001b[0m\u001b[0;34m)\u001b[0m\u001b[0;34m\u001b[0m\u001b[0;34m\u001b[0m\u001b[0m\n\u001b[0m\u001b[1;32m    615\u001b[0m \u001b[0;34m\u001b[0m\u001b[0m\n\u001b[1;32m    616\u001b[0m     \u001b[0;32mreturn\u001b[0m \u001b[0mapply_state\u001b[0m\u001b[0;34m\u001b[0m\u001b[0;34m\u001b[0m\u001b[0m\n",
      "\u001b[0;32m~/anaconda3/envs/tf2/lib/python3.7/site-packages/tensorflow_core/python/keras/optimizer_v2/adam.py\u001b[0m in \u001b[0;36m_prepare_local\u001b[0;34m(self, var_device, var_dtype, apply_state)\u001b[0m\n\u001b[1;32m    157\u001b[0m     \u001b[0mbeta_1_t\u001b[0m \u001b[0;34m=\u001b[0m \u001b[0marray_ops\u001b[0m\u001b[0;34m.\u001b[0m\u001b[0midentity\u001b[0m\u001b[0;34m(\u001b[0m\u001b[0mself\u001b[0m\u001b[0;34m.\u001b[0m\u001b[0m_get_hyper\u001b[0m\u001b[0;34m(\u001b[0m\u001b[0;34m'beta_1'\u001b[0m\u001b[0;34m,\u001b[0m \u001b[0mvar_dtype\u001b[0m\u001b[0;34m)\u001b[0m\u001b[0;34m)\u001b[0m\u001b[0;34m\u001b[0m\u001b[0;34m\u001b[0m\u001b[0m\n\u001b[1;32m    158\u001b[0m     \u001b[0mbeta_2_t\u001b[0m \u001b[0;34m=\u001b[0m \u001b[0marray_ops\u001b[0m\u001b[0;34m.\u001b[0m\u001b[0midentity\u001b[0m\u001b[0;34m(\u001b[0m\u001b[0mself\u001b[0m\u001b[0;34m.\u001b[0m\u001b[0m_get_hyper\u001b[0m\u001b[0;34m(\u001b[0m\u001b[0;34m'beta_2'\u001b[0m\u001b[0;34m,\u001b[0m \u001b[0mvar_dtype\u001b[0m\u001b[0;34m)\u001b[0m\u001b[0;34m)\u001b[0m\u001b[0;34m\u001b[0m\u001b[0;34m\u001b[0m\u001b[0m\n\u001b[0;32m--> 159\u001b[0;31m     \u001b[0mbeta_1_power\u001b[0m \u001b[0;34m=\u001b[0m \u001b[0mmath_ops\u001b[0m\u001b[0;34m.\u001b[0m\u001b[0mpow\u001b[0m\u001b[0;34m(\u001b[0m\u001b[0mbeta_1_t\u001b[0m\u001b[0;34m,\u001b[0m \u001b[0mlocal_step\u001b[0m\u001b[0;34m)\u001b[0m\u001b[0;34m\u001b[0m\u001b[0;34m\u001b[0m\u001b[0m\n\u001b[0m\u001b[1;32m    160\u001b[0m     \u001b[0mbeta_2_power\u001b[0m \u001b[0;34m=\u001b[0m \u001b[0mmath_ops\u001b[0m\u001b[0;34m.\u001b[0m\u001b[0mpow\u001b[0m\u001b[0;34m(\u001b[0m\u001b[0mbeta_2_t\u001b[0m\u001b[0;34m,\u001b[0m \u001b[0mlocal_step\u001b[0m\u001b[0;34m)\u001b[0m\u001b[0;34m\u001b[0m\u001b[0;34m\u001b[0m\u001b[0m\n\u001b[1;32m    161\u001b[0m     lr = (apply_state[(var_device, var_dtype)]['lr_t'] *\n",
      "\u001b[0;32m~/anaconda3/envs/tf2/lib/python3.7/site-packages/tensorflow_core/python/util/dispatch.py\u001b[0m in \u001b[0;36mwrapper\u001b[0;34m(*args, **kwargs)\u001b[0m\n\u001b[1;32m    178\u001b[0m     \u001b[0;34m\"\"\"Call target, and fall back on dispatchers if there is a TypeError.\"\"\"\u001b[0m\u001b[0;34m\u001b[0m\u001b[0;34m\u001b[0m\u001b[0m\n\u001b[1;32m    179\u001b[0m     \u001b[0;32mtry\u001b[0m\u001b[0;34m:\u001b[0m\u001b[0;34m\u001b[0m\u001b[0;34m\u001b[0m\u001b[0m\n\u001b[0;32m--> 180\u001b[0;31m       \u001b[0;32mreturn\u001b[0m \u001b[0mtarget\u001b[0m\u001b[0;34m(\u001b[0m\u001b[0;34m*\u001b[0m\u001b[0margs\u001b[0m\u001b[0;34m,\u001b[0m \u001b[0;34m**\u001b[0m\u001b[0mkwargs\u001b[0m\u001b[0;34m)\u001b[0m\u001b[0;34m\u001b[0m\u001b[0;34m\u001b[0m\u001b[0m\n\u001b[0m\u001b[1;32m    181\u001b[0m     \u001b[0;32mexcept\u001b[0m \u001b[0;34m(\u001b[0m\u001b[0mTypeError\u001b[0m\u001b[0;34m,\u001b[0m \u001b[0mValueError\u001b[0m\u001b[0;34m)\u001b[0m\u001b[0;34m:\u001b[0m\u001b[0;34m\u001b[0m\u001b[0;34m\u001b[0m\u001b[0m\n\u001b[1;32m    182\u001b[0m       \u001b[0;31m# Note: convert_to_eager_tensor currently raises a ValueError, not a\u001b[0m\u001b[0;34m\u001b[0m\u001b[0;34m\u001b[0m\u001b[0;34m\u001b[0m\u001b[0m\n",
      "\u001b[0;32m~/anaconda3/envs/tf2/lib/python3.7/site-packages/tensorflow_core/python/ops/math_ops.py\u001b[0m in \u001b[0;36mpow\u001b[0;34m(x, y, name)\u001b[0m\n\u001b[1;32m    457\u001b[0m   \"\"\"\n\u001b[1;32m    458\u001b[0m   \u001b[0;32mwith\u001b[0m \u001b[0mops\u001b[0m\u001b[0;34m.\u001b[0m\u001b[0mname_scope\u001b[0m\u001b[0;34m(\u001b[0m\u001b[0mname\u001b[0m\u001b[0;34m,\u001b[0m \u001b[0;34m\"Pow\"\u001b[0m\u001b[0;34m,\u001b[0m \u001b[0;34m[\u001b[0m\u001b[0mx\u001b[0m\u001b[0;34m]\u001b[0m\u001b[0;34m)\u001b[0m \u001b[0;32mas\u001b[0m \u001b[0mname\u001b[0m\u001b[0;34m:\u001b[0m\u001b[0;34m\u001b[0m\u001b[0;34m\u001b[0m\u001b[0m\n\u001b[0;32m--> 459\u001b[0;31m     \u001b[0;32mreturn\u001b[0m \u001b[0mgen_math_ops\u001b[0m\u001b[0;34m.\u001b[0m\u001b[0m_pow\u001b[0m\u001b[0;34m(\u001b[0m\u001b[0mx\u001b[0m\u001b[0;34m,\u001b[0m \u001b[0my\u001b[0m\u001b[0;34m,\u001b[0m \u001b[0mname\u001b[0m\u001b[0;34m=\u001b[0m\u001b[0mname\u001b[0m\u001b[0;34m)\u001b[0m\u001b[0;34m\u001b[0m\u001b[0;34m\u001b[0m\u001b[0m\n\u001b[0m\u001b[1;32m    460\u001b[0m \u001b[0;34m\u001b[0m\u001b[0m\n\u001b[1;32m    461\u001b[0m \u001b[0;34m\u001b[0m\u001b[0m\n",
      "\u001b[0;32m~/anaconda3/envs/tf2/lib/python3.7/site-packages/tensorflow_core/python/ops/gen_math_ops.py\u001b[0m in \u001b[0;36m_pow\u001b[0;34m(x, y, name)\u001b[0m\n\u001b[1;32m   7163\u001b[0m       _result = _pywrap_tensorflow.TFE_Py_FastPathExecute(\n\u001b[1;32m   7164\u001b[0m         \u001b[0m_ctx\u001b[0m\u001b[0;34m.\u001b[0m\u001b[0m_context_handle\u001b[0m\u001b[0;34m,\u001b[0m \u001b[0m_ctx\u001b[0m\u001b[0;34m.\u001b[0m\u001b[0m_thread_local_data\u001b[0m\u001b[0;34m.\u001b[0m\u001b[0mdevice_name\u001b[0m\u001b[0;34m,\u001b[0m \u001b[0;34m\"Pow\"\u001b[0m\u001b[0;34m,\u001b[0m\u001b[0;34m\u001b[0m\u001b[0;34m\u001b[0m\u001b[0m\n\u001b[0;32m-> 7165\u001b[0;31m         name, _ctx._post_execution_callbacks, x, y)\n\u001b[0m\u001b[1;32m   7166\u001b[0m       \u001b[0;32mreturn\u001b[0m \u001b[0m_result\u001b[0m\u001b[0;34m\u001b[0m\u001b[0;34m\u001b[0m\u001b[0m\n\u001b[1;32m   7167\u001b[0m     \u001b[0;32mexcept\u001b[0m \u001b[0m_core\u001b[0m\u001b[0;34m.\u001b[0m\u001b[0m_FallbackException\u001b[0m\u001b[0;34m:\u001b[0m\u001b[0;34m\u001b[0m\u001b[0;34m\u001b[0m\u001b[0m\n",
      "\u001b[0;31mKeyboardInterrupt\u001b[0m: "
     ]
    }
   ],
   "source": [
    "EPOCHS = 25\n",
    "OVERFIT = False\n",
    "\n",
    "for epoch in tqdm.tqdm(range(EPOCHS)):\n",
    "    if OVERFIT:\n",
    "        dataset = overfit_dataset\n",
    "    else:\n",
    "        dataset = trn_dataset\n",
    "\n",
    "    for step, (x_batch,y_batch) in enumerate(dataset): #iterate over batches of the dataset\n",
    "        with tf.GradientTape() as tape:\n",
    "            #forward pass\n",
    "            prediction = atlas_mlp(x_batch,training=True)\n",
    "            #compute loss over regressor values\n",
    "            loss = mse_loss_fn(y_batch,tf.squeeze(prediction))\n",
    "\n",
    "        grads = tape.gradient(loss, atlas_mlp.trainable_weights)\n",
    "        optimizer.apply_gradients(zip(grads, atlas_mlp.trainable_weights))\n",
    "        #average loss over batches\n",
    "        loss_metric(loss)\n",
    "        \n",
    "    #Validation loss\n",
    "    for (x_batch_val,y_batch_val) in v_dataset:\n",
    "        v_prediction = atlas_mlp(x_batch_val)\n",
    "        v_loss = mse_loss_fn_v(y_batch_val,tf.squeeze(v_prediction))\n",
    "        vloss_metric(v_loss)\n",
    "        \n",
    "    #if epoch>=1 and epoch % 5 == 0 or epoch == 1:\n",
    "    #    tqdm.tqdm.write(f'Epoch {epoch}, avg batch loss {loss_metric.result()} improvement {train_loss[-1]-loss_metric.result()}, avg Vbatch loss {vloss_metric.result()}')\n",
    "    \n",
    "    train_loss.append(loss_metric.result())\n",
    "    val_loss.append(vloss_metric.result())\n",
    "    \n",
    "    loss_metric.reset_states()\n",
    "    vloss_metric.reset_states()"
   ]
  },
  {
   "cell_type": "code",
   "execution_count": null,
   "metadata": {},
   "outputs": [],
   "source": [
    "fig = plt.figure()\n",
    "fig.set_size_inches(10.5,20.5)\n",
    "ax1 = fig.add_subplot(211)\n",
    "ax2 = fig.add_subplot(212)\n",
    "\n",
    "ax1.plot(train_loss)\n",
    "ax1.plot(val_loss)\n",
    "\n",
    "ax2.plot(train_loss[-50::])\n",
    "ax2.plot(val_loss[-50::])\n",
    "\n",
    "fig.savefig(f\"figures/training_{len(train_loss)}_epochs.pdf\")"
   ]
  },
  {
   "cell_type": "markdown",
   "metadata": {},
   "source": [
    "#### If loading saved weights"
   ]
  },
  {
   "cell_type": "code",
   "execution_count": null,
   "metadata": {},
   "outputs": [],
   "source": [
    "# atlas_mlp = General_MLP([64,16,1],input_shape=(1,66))\n",
    "# atlas_mlp.summary()\n",
    "# title = f'training_170_epochs_64_16_1'\n",
    "# atlas_mlp.load_weights(f'results/{title}_modelweights')"
   ]
  },
  {
   "cell_type": "markdown",
   "metadata": {},
   "source": [
    "### Evalutation on the test set"
   ]
  },
  {
   "cell_type": "code",
   "execution_count": null,
   "metadata": {},
   "outputs": [],
   "source": [
    "predicted = atlas_mlp(x_test).numpy()\n",
    "results = compute_metrics(predicted,y_test,y_train)\n",
    "results"
   ]
  },
  {
   "cell_type": "code",
   "execution_count": 20,
   "metadata": {},
   "outputs": [
    {
     "data": {
      "text/plain": [
       "{'mae': 0.42159316,\n",
       " 'mse': 0.31305754,\n",
       " 'smse': 0.3141038608291405,\n",
       " 'r2': 0.6858941951969182,\n",
       " 'evs': 0.6859222650527954,\n",
       " 'spearmanrho': 0.8205253817296062,\n",
       " 'spearmanrho_p': 0.0,\n",
       " 'pearsonr': 0.8283778731973301,\n",
       " 'pearsonr_p': 0.0,\n",
       " 'median_abs_fc': 2.123920734635498,\n",
       " 'mean_abs_fc': 2.6399345474764124}"
      ]
     },
     "execution_count": 20,
     "metadata": {},
     "output_type": "execute_result"
    }
   ],
   "source": [
    "predicted = atlas_mlp(x_test).numpy()\n",
    "results = compute_metrics(predicted,y_test,y_train)\n",
    "results"
   ]
  },
  {
   "cell_type": "markdown",
   "metadata": {},
   "source": [
    "### Saving model"
   ]
  },
  {
   "cell_type": "code",
   "execution_count": 21,
   "metadata": {},
   "outputs": [],
   "source": [
    "title = f'training_{len(train_loss)}_epochs_64_32_3_1'\n",
    "pd.DataFrame.from_dict(results,orient='index').T.to_csv(f'results/{title}_metrics.tsv',sep='\\t')\n",
    "atlas_mlp.save_weights(f'results/{title}_modelweights')"
   ]
  },
  {
   "cell_type": "code",
   "execution_count": 22,
   "metadata": {},
   "outputs": [
    {
     "data": {
      "text/plain": [
       "[<matplotlib.lines.Line2D at 0x7f4f240312d0>]"
      ]
     },
     "execution_count": 22,
     "metadata": {},
     "output_type": "execute_result"
    },
    {
     "data": {
      "image/png": "[encoded data removed]",
      "text/plain": [
       "<Figure size 756x756 with 1 Axes>"
      ]
     },
     "metadata": {
      "needs_background": "light"
     },
     "output_type": "display_data"
    }
   ],
   "source": [
    "fig = plt.figure()\n",
    "fig.set_size_inches(10.5,10.5)\n",
    "ax = fig.add_subplot(111)\n",
    "\n",
    "ax.scatter(predicted[0:2000,:].squeeze(),y_test[0:2000].squeeze())\n",
    "y_max = int(y_test.max())+2\n",
    "y_min = y_test.min()-2\n",
    "ax.set_xlim(y_min,y_max)\n",
    "ax.set_ylim(y_min,y_max)\n",
    "\n",
    "x = np.linspace(*ax.get_xlim())\n",
    "# ax.plot([0,1],[0,1], transform=ax.transAxes)\n",
    "ax.plot(x, x,color='k',linewidth=3)\n",
    "\n",
    "#pearson = scipy.stats.pearsonr(test_y.squeeze(),mean.numpy().squeeze())[0]\n",
    "# ax.text(.75,.01,f'pearson r: {pearson:.4f}',transform=ax.transAxes)\n",
    "# if SAVE:\n",
    "#     fig.savefig(f\"./results/am04f0/test_predicted_{TITLE}.pdf\")"
   ]
  },
  {
   "cell_type": "code",
   "execution_count": 23,
   "metadata": {},
   "outputs": [
    {
     "data": {
      "text/plain": [
       "<matplotlib.axes._subplots.AxesSubplot at 0x7f4f2404cc50>"
      ]
     },
     "execution_count": 23,
     "metadata": {},
     "output_type": "execute_result"
    },
    {
     "data": {
      "image/png": "[encoded data removed]",
      "text/plain": [
       "<Figure size 432x288 with 1 Axes>"
      ]
     },
     "metadata": {
      "needs_background": "light"
     },
     "output_type": "display_data"
    }
   ],
   "source": [
    "atlas_data.plot.scatter('mrna','protein')"
   ]
  },
  {
   "cell_type": "markdown",
   "metadata": {},
   "source": [
    "### Trying on a single gene with multiple mRNA\n",
    "* Need to normalize inputs correctly"
   ]
  },
  {
   "cell_type": "code",
   "execution_count": 24,
   "metadata": {},
   "outputs": [
    {
     "data": {
      "text/html": [
       "<div>\n",
       "<style scoped>\n",
       "    .dataframe tbody tr th:only-of-type {\n",
       "        vertical-align: middle;\n",
       "    }\n",
       "\n",
       "    .dataframe tbody tr th {\n",
       "        vertical-align: top;\n",
       "    }\n",
       "\n",
       "    .dataframe thead th {\n",
       "        text-align: right;\n",
       "    }\n",
       "</style>\n",
       "<table border=\"1\" class=\"dataframe\">\n",
       "  <thead>\n",
       "    <tr style=\"text-align: right;\">\n",
       "      <th></th>\n",
       "      <th>protein</th>\n",
       "      <th>mrna</th>\n",
       "      <th>protein_length</th>\n",
       "      <th>0</th>\n",
       "      <th>1</th>\n",
       "      <th>2</th>\n",
       "      <th>3</th>\n",
       "      <th>4</th>\n",
       "      <th>5</th>\n",
       "      <th>6</th>\n",
       "      <th>...</th>\n",
       "      <th>54</th>\n",
       "      <th>55</th>\n",
       "      <th>56</th>\n",
       "      <th>57</th>\n",
       "      <th>58</th>\n",
       "      <th>59</th>\n",
       "      <th>60</th>\n",
       "      <th>61</th>\n",
       "      <th>62</th>\n",
       "      <th>63</th>\n",
       "    </tr>\n",
       "  </thead>\n",
       "  <tbody>\n",
       "    <tr>\n",
       "      <th>RMDN3_Fallopiantube</th>\n",
       "      <td>0.826843</td>\n",
       "      <td>0.307286</td>\n",
       "      <td>-0.040441</td>\n",
       "      <td>0.178503</td>\n",
       "      <td>1.056042</td>\n",
       "      <td>-0.076253</td>\n",
       "      <td>-0.052878</td>\n",
       "      <td>-0.283698</td>\n",
       "      <td>0.020665</td>\n",
       "      <td>0.460409</td>\n",
       "      <td>...</td>\n",
       "      <td>0.638705</td>\n",
       "      <td>0.095589</td>\n",
       "      <td>1.160179</td>\n",
       "      <td>-0.131716</td>\n",
       "      <td>1.045125</td>\n",
       "      <td>0.510087</td>\n",
       "      <td>-0.200056</td>\n",
       "      <td>1.135350</td>\n",
       "      <td>-0.884683</td>\n",
       "      <td>0.122335</td>\n",
       "    </tr>\n",
       "    <tr>\n",
       "      <th>SLFN5_Urinarybladder</th>\n",
       "      <td>0.640920</td>\n",
       "      <td>-0.049692</td>\n",
       "      <td>0.822324</td>\n",
       "      <td>-0.164264</td>\n",
       "      <td>-0.443737</td>\n",
       "      <td>-0.416854</td>\n",
       "      <td>-0.146531</td>\n",
       "      <td>0.281541</td>\n",
       "      <td>0.370824</td>\n",
       "      <td>0.251156</td>\n",
       "      <td>...</td>\n",
       "      <td>-0.448556</td>\n",
       "      <td>-0.432668</td>\n",
       "      <td>-0.920159</td>\n",
       "      <td>0.696855</td>\n",
       "      <td>-0.478106</td>\n",
       "      <td>-0.886702</td>\n",
       "      <td>0.823005</td>\n",
       "      <td>-0.547656</td>\n",
       "      <td>-0.059201</td>\n",
       "      <td>-0.184311</td>\n",
       "    </tr>\n",
       "    <tr>\n",
       "      <th>DOCK8_Testis</th>\n",
       "      <td>0.036907</td>\n",
       "      <td>-0.438052</td>\n",
       "      <td>1.978149</td>\n",
       "      <td>0.056101</td>\n",
       "      <td>-0.534816</td>\n",
       "      <td>-0.450512</td>\n",
       "      <td>-0.283785</td>\n",
       "      <td>-0.304481</td>\n",
       "      <td>0.225786</td>\n",
       "      <td>0.240262</td>\n",
       "      <td>...</td>\n",
       "      <td>-1.103841</td>\n",
       "      <td>-0.335068</td>\n",
       "      <td>-0.449820</td>\n",
       "      <td>-0.098533</td>\n",
       "      <td>0.306080</td>\n",
       "      <td>-1.218829</td>\n",
       "      <td>0.686348</td>\n",
       "      <td>-0.355952</td>\n",
       "      <td>-0.464161</td>\n",
       "      <td>0.115320</td>\n",
       "    </tr>\n",
       "    <tr>\n",
       "      <th>TMEM115_Tonsil</th>\n",
       "      <td>-0.306626</td>\n",
       "      <td>-0.700881</td>\n",
       "      <td>-0.434246</td>\n",
       "      <td>1.560372</td>\n",
       "      <td>2.451450</td>\n",
       "      <td>4.229491</td>\n",
       "      <td>-0.342236</td>\n",
       "      <td>0.256980</td>\n",
       "      <td>-0.893482</td>\n",
       "      <td>0.839052</td>\n",
       "      <td>...</td>\n",
       "      <td>0.866318</td>\n",
       "      <td>-0.327382</td>\n",
       "      <td>1.503895</td>\n",
       "      <td>0.387503</td>\n",
       "      <td>-1.765649</td>\n",
       "      <td>1.051569</td>\n",
       "      <td>0.697685</td>\n",
       "      <td>-0.259750</td>\n",
       "      <td>1.698776</td>\n",
       "      <td>-0.653981</td>\n",
       "    </tr>\n",
       "    <tr>\n",
       "      <th>UBE2J1_Prostate</th>\n",
       "      <td>0.172810</td>\n",
       "      <td>1.091851</td>\n",
       "      <td>-0.567427</td>\n",
       "      <td>-0.014471</td>\n",
       "      <td>-0.769285</td>\n",
       "      <td>0.075118</td>\n",
       "      <td>-0.425138</td>\n",
       "      <td>0.382776</td>\n",
       "      <td>-0.332805</td>\n",
       "      <td>-0.304529</td>\n",
       "      <td>...</td>\n",
       "      <td>0.022510</td>\n",
       "      <td>-0.106058</td>\n",
       "      <td>-0.075904</td>\n",
       "      <td>0.209388</td>\n",
       "      <td>-0.189486</td>\n",
       "      <td>0.174874</td>\n",
       "      <td>0.113087</td>\n",
       "      <td>-0.210211</td>\n",
       "      <td>0.128855</td>\n",
       "      <td>-0.283051</td>\n",
       "    </tr>\n",
       "  </tbody>\n",
       "</table>\n",
       "<p>5 rows × 67 columns</p>\n",
       "</div>"
      ],
      "text/plain": [
       "                       protein      mrna  protein_length         0         1  \\\n",
       "RMDN3_Fallopiantube   0.826843  0.307286       -0.040441  0.178503  1.056042   \n",
       "SLFN5_Urinarybladder  0.640920 -0.049692        0.822324 -0.164264 -0.443737   \n",
       "DOCK8_Testis          0.036907 -0.438052        1.978149  0.056101 -0.534816   \n",
       "TMEM115_Tonsil       -0.306626 -0.700881       -0.434246  1.560372  2.451450   \n",
       "UBE2J1_Prostate       0.172810  1.091851       -0.567427 -0.014471 -0.769285   \n",
       "\n",
       "                             2         3         4         5         6  ...  \\\n",
       "RMDN3_Fallopiantube  -0.076253 -0.052878 -0.283698  0.020665  0.460409  ...   \n",
       "SLFN5_Urinarybladder -0.416854 -0.146531  0.281541  0.370824  0.251156  ...   \n",
       "DOCK8_Testis         -0.450512 -0.283785 -0.304481  0.225786  0.240262  ...   \n",
       "TMEM115_Tonsil        4.229491 -0.342236  0.256980 -0.893482  0.839052  ...   \n",
       "UBE2J1_Prostate       0.075118 -0.425138  0.382776 -0.332805 -0.304529  ...   \n",
       "\n",
       "                            54        55        56        57        58  \\\n",
       "RMDN3_Fallopiantube   0.638705  0.095589  1.160179 -0.131716  1.045125   \n",
       "SLFN5_Urinarybladder -0.448556 -0.432668 -0.920159  0.696855 -0.478106   \n",
       "DOCK8_Testis         -1.103841 -0.335068 -0.449820 -0.098533  0.306080   \n",
       "TMEM115_Tonsil        0.866318 -0.327382  1.503895  0.387503 -1.765649   \n",
       "UBE2J1_Prostate       0.022510 -0.106058 -0.075904  0.209388 -0.189486   \n",
       "\n",
       "                            59        60        61        62        63  \n",
       "RMDN3_Fallopiantube   0.510087 -0.200056  1.135350 -0.884683  0.122335  \n",
       "SLFN5_Urinarybladder -0.886702  0.823005 -0.547656 -0.059201 -0.184311  \n",
       "DOCK8_Testis         -1.218829  0.686348 -0.355952 -0.464161  0.115320  \n",
       "TMEM115_Tonsil        1.051569  0.697685 -0.259750  1.698776 -0.653981  \n",
       "UBE2J1_Prostate       0.174874  0.113087 -0.210211  0.128855 -0.283051  \n",
       "\n",
       "[5 rows x 67 columns]"
      ]
     },
     "execution_count": 24,
     "metadata": {},
     "output_type": "execute_result"
    }
   ],
   "source": [
    "train.head()"
   ]
  },
  {
   "cell_type": "code",
   "execution_count": 25,
   "metadata": {},
   "outputs": [
    {
     "name": "stdout",
     "output_type": "stream",
     "text": [
      "C19ORF43\n"
     ]
    },
    {
     "data": {
      "text/plain": [
       "<matplotlib.collections.PathCollection at 0x7f4f1c3ecc90>"
      ]
     },
     "execution_count": 25,
     "metadata": {},
     "output_type": "execute_result"
    },
    {
     "data": {
      "image/png": "[encoded data removed]",
      "text/plain": [
       "<Figure size 432x288 with 1 Axes>"
      ]
     },
     "metadata": {
      "needs_background": "light"
     },
     "output_type": "display_data"
    }
   ],
   "source": [
    "gene = 900\n",
    "gene_name = atlas_data.index[gene].split('_')[0]\n",
    "print(gene_name)\n",
    "\n",
    "bool_list = [gene_name == name.split('_')[0] for name in atlas_data.index]\n",
    "gene_data = atlas_data.loc[bool_list,:].values #contains both mrna and protein levels\n",
    "\n",
    "mrna_ranges = np.linspace(gene_data[:,1].min()-1,gene_data[:,1].max()+1,100)\n",
    "size = mrna_ranges.shape[0]\n",
    "\n",
    "gene1 = np.tile(gene_data[[0],1::],size).reshape((size,66))\n",
    "gene1[:,0] = mrna_ranges\n",
    "gene1_protein = atlas_mlp(gene1).numpy()\n",
    "plt.plot(mrna_ranges,gene1_protein)\n",
    "plt.scatter(gene_data[:,1],gene_data[:,0])"
   ]
  },
  {
   "cell_type": "markdown",
   "metadata": {},
   "source": [
    "### Proving you can overfit a small batch of the data"
   ]
  },
  {
   "cell_type": "code",
   "execution_count": 40,
   "metadata": {},
   "outputs": [],
   "source": [
    "predicted = atlas_mlp(x_overfit).numpy()"
   ]
  },
  {
   "cell_type": "code",
   "execution_count": 41,
   "metadata": {},
   "outputs": [
    {
     "data": {
      "text/plain": [
       "{'mae': 0.238321,\n",
       " 'mse': 0.10171328,\n",
       " 'smse': 0.08115869548337108,\n",
       " 'r2': 0.9187946798871355,\n",
       " 'evs': 0.9190900325775146,\n",
       " 'spearmanrho': 0.9572934088267109,\n",
       " 'spearmanrho_p': 0.0,\n",
       " 'pearsonr': 0.9600486784901503,\n",
       " 'pearsonr_p': 0.0,\n",
       " 'median_abs_fc': 1.5228545804359928,\n",
       " 'mean_abs_fc': 1.7310954157913858}"
      ]
     },
     "execution_count": 41,
     "metadata": {},
     "output_type": "execute_result"
    }
   ],
   "source": [
    "compute_metrics(predicted,y_overfit[:,None],train_y[:,None])"
   ]
  }
 ],
 "metadata": {
  "kernelspec": {
   "display_name": "Python [conda env:tf2]",
   "language": "python",
   "name": "conda-env-tf2-py"
  },
  "language_info": {
   "codemirror_mode": {
    "name": "ipython",
    "version": 3
   },
   "file_extension": ".py",
   "mimetype": "text/x-python",
   "name": "python",
   "nbconvert_exporter": "python",
   "pygments_lexer": "ipython3",
   "version": "3.7.6"
  }
 },
 "nbformat": 4,
 "nbformat_minor": 4
}
