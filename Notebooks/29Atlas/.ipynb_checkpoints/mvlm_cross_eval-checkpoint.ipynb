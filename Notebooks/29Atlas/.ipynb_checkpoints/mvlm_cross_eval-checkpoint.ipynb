{
 "cells": [
  {
   "cell_type": "markdown",
   "metadata": {},
   "source": [
    "### Multivariate linear model incorporating other features cv evaluated using consistent metrics. Using predicted ratios to predict protein and vice versa"
   ]
  },
  {
   "cell_type": "code",
   "execution_count": 1,
   "metadata": {},
   "outputs": [],
   "source": [
    "import pandas as pd\n",
    "import numpy as np\n",
    "import matplotlib.pyplot as plt\n",
    "import scipy.stats\n",
    "from sklearn import linear_model\n",
    "from sklearn.model_selection import KFold\n",
    "import sklearn.metrics as metrics\n",
    "from tqdm import tqdm\n",
    "import seaborn as sns\n",
    "import pickle\n",
    "import os\n",
    "import sys\n",
    "\n",
    "\n",
    "sys.path.append('../Utils')\n",
    "from metrics import compute_metrics\n",
    "\n",
    "current_dir = os.getcwd()\n",
    "data_dir = os.path.join(current_dir, '../../Data/')\n",
    "\n",
    "ratios_path = data_dir+'29Atlas/QuantificationTables/Table_EV3/Table_EV3.tsv'\n",
    "features_path = data_dir+'29Atlas/QuantificationTables/Table_EV6/Table_EV6.tsv'\n",
    "embeddings_path = data_dir+'29Atlas/protein_embeddings/atlas_embeddings.pkl'"
   ]
  },
  {
   "cell_type": "markdown",
   "metadata": {},
   "source": [
    "### Multivariate linear model features (204)\n",
    "* 61 features for individual codon frequencies(in log2 scale)\n",
    "* 36 features for Kozak sequence position–nucleotide pairs\n",
    "* 39 features for stop-codon-context position–nucleotide pairs\n",
    "* 3 features for CDS, 5' UTR and 3' UTR lengths (in log2 scale)\n",
    "* 3 features for CDS, 5' UTR and 3' UTR GC percentages, \n",
    "* 20 features for 3' UTR motifs\n",
    "* 25 features for 5' UTR motifs (including upstream AUG)\n",
    "* 3 features for CDS amino acid motifs\n",
    "* 6 features for linear protein motifs\n",
    "* 3 features for 5' UTR folding energy \n",
    "* 2 features for codon pair bias\n",
    "* 1 feature for PEST motifs\n",
    "* 1 feature for protein isoelectric point\n",
    "* 1 feature for protein N-terminal hydrophobicity\n",
    "\n",
    "### Notes\n",
    "* **The predictive model is a multivariate linear model that predicts tissue-specific PTR log-ratios using tissue-specific coefficients for the sequence features listed in (A)**\n",
    "* Response: We work on the log10 scale. The median error, i.e. the median of log10(measured PTR) minus log10(predicted PTR), equals log10(3.2). Thus, a prediction is, in median, 3.2-fold away from the measurement. **Response section desribes the median precision as above, but I am pretty sure it should be absolute difference**\n",
    "* where yij is the tissue-specific PTR ratio (log10)\n",
    "* (table ev3 -> ratios) Tissue specific mRNA (median across replicates, FPKM-log10), protein (iBAQ-log10) measurements and protein-to-mRNA ratios (log10) of 11,575 transcripts considered in the study. Values that are 0 in natural scale, and FPKM values smaller than 1 in log10 scale are encoded as missing values (NA).\n",
    "* Verify results using 10 fold cv"
   ]
  },
  {
   "cell_type": "code",
   "execution_count": 2,
   "metadata": {},
   "outputs": [],
   "source": [
    "ratios = pd.read_csv(ratios_path,sep='\\t',index_col=0)\n",
    "features = pd.read_csv(features_path,sep='\\t',index_col=0,usecols=[0]+list(range(4,208)))\n",
    "with open(embeddings_path, 'rb') as file:\n",
    "    embeddings = pickle.load(file)"
   ]
  },
  {
   "cell_type": "code",
   "execution_count": 3,
   "metadata": {},
   "outputs": [],
   "source": [
    "#creating dataframe using avg embedding value only\n",
    "avg_embeddings = pd.DataFrame(embeddings.avg_embedding.values.tolist(),\n",
    "                                        index = embeddings.index)\n",
    "\n",
    "#Including log2 protein length\n",
    "protein_length = pd.DataFrame(np.log2(embeddings.loc[:,'protein_sequence'].str.len()))\n",
    "protein_length.rename(columns = {'protein_sequence':'protein_length'}, inplace = True) \n",
    "\n",
    "#concating features together\n",
    "combined_features = pd.concat([features,protein_length,avg_embeddings],axis='columns',sort=True)"
   ]
  },
  {
   "cell_type": "markdown",
   "metadata": {},
   "source": [
    "#### Simple class object used to filter atlas dataset based on tissue"
   ]
  },
  {
   "cell_type": "code",
   "execution_count": 13,
   "metadata": {},
   "outputs": [],
   "source": [
    "class atlas29():\n",
    "    def __init__(self,ratios,features):\n",
    "        \"\"\"\n",
    "        Data class to filter ratios and features tables for specific tissues and genes found in that tissue\n",
    "        \"\"\"\n",
    "        assert isinstance(ratios,pd.DataFrame)\n",
    "        assert isinstance(features,pd.DataFrame)\n",
    "        \n",
    "        self.ratios = ratios\n",
    "        self.features = features\n",
    "        self.tissues = [name.split('_')[0] for name in ratios.columns if '_PTR' in name]\n",
    "        \n",
    "    def filter_tissue(self,tissue_name):\n",
    "        \"\"\"\n",
    "        Function to filter ratios and features for present genes and combine to single dataframe\n",
    "        \"\"\"\n",
    "        assert tissue_name in self.tissues, \"Given tissue name is not in data\"\n",
    "        \n",
    "        genes_present = ~self.ratios[tissue_name+'_PTR'].str.contains('NA')\n",
    "        ratios_present = self.ratios[[tissue_name+'_PTR']][genes_present].astype(float)\n",
    "        features = ratios_present.join(self.features)\n",
    "        return features\n",
    "    \n",
    "    def filter_tissue_mrna_p(self,tissue_name):\n",
    "        \"\"\"\n",
    "        Function to filter ratios, mrna, protein and features for present genes and combine to single dataframe\n",
    "        \"\"\"\n",
    "        assert tissue_name in self.tissues, \"Given tissue name is not in data\"\n",
    "        \n",
    "        genes_present = ~self.ratios[tissue_name+'_PTR'].str.contains('NA')\n",
    "        ratios_present = self.ratios[[tissue_name+'_PTR',tissue_name+'_protein',tissue_name+'_mRNA']][genes_present].astype(float)\n",
    "        features = ratios_present.join(self.features)\n",
    "        return features\n"
   ]
  },
  {
   "cell_type": "markdown",
   "metadata": {},
   "source": [
    "#### 10 fold cross validation for each tissue using protein embeddings + protein length + mrna to predict log10(protein level) use to compute ratios"
   ]
  },
  {
   "cell_type": "code",
   "execution_count": 14,
   "metadata": {},
   "outputs": [
    {
     "name": "stderr",
     "output_type": "stream",
     "text": [
      "  0%|          | 0/29 [00:00<?, ?it/s]\n"
     ]
    },
    {
     "ename": "KeyboardInterrupt",
     "evalue": "",
     "output_type": "error",
     "traceback": [
      "\u001b[0;31m---------------------------------------------------------------------------\u001b[0m",
      "\u001b[0;31mKeyboardInterrupt\u001b[0m                         Traceback (most recent call last)",
      "\u001b[0;32m<ipython-input-14-4d1be073fb59>\u001b[0m in \u001b[0;36m<module>\u001b[0;34m\u001b[0m\n\u001b[1;32m     26\u001b[0m         \u001b[0mratios_test\u001b[0m \u001b[0;34m=\u001b[0m \u001b[0mdata\u001b[0m\u001b[0;34m.\u001b[0m\u001b[0miloc\u001b[0m\u001b[0;34m[\u001b[0m\u001b[0mtest_index\u001b[0m\u001b[0;34m,\u001b[0m\u001b[0;34m[\u001b[0m\u001b[0;36m0\u001b[0m\u001b[0;34m]\u001b[0m\u001b[0;34m]\u001b[0m\u001b[0;34m.\u001b[0m\u001b[0mvalues\u001b[0m\u001b[0;34m\u001b[0m\u001b[0;34m\u001b[0m\u001b[0m\n\u001b[1;32m     27\u001b[0m \u001b[0;34m\u001b[0m\u001b[0m\n\u001b[0;32m---> 28\u001b[0;31m         \u001b[0mreg_model\u001b[0m\u001b[0;34m.\u001b[0m\u001b[0mfit\u001b[0m\u001b[0;34m(\u001b[0m\u001b[0mx_train\u001b[0m\u001b[0;34m,\u001b[0m \u001b[0my_train\u001b[0m\u001b[0;34m)\u001b[0m\u001b[0;34m\u001b[0m\u001b[0;34m\u001b[0m\u001b[0m\n\u001b[0m\u001b[1;32m     29\u001b[0m         \u001b[0mpredicted\u001b[0m \u001b[0;34m=\u001b[0m \u001b[0mreg_model\u001b[0m\u001b[0;34m.\u001b[0m\u001b[0mpredict\u001b[0m\u001b[0;34m(\u001b[0m\u001b[0mx_test\u001b[0m\u001b[0;34m)\u001b[0m \u001b[0;31m#this predicts log10(protein levels)\u001b[0m\u001b[0;34m\u001b[0m\u001b[0;34m\u001b[0m\u001b[0m\n\u001b[1;32m     30\u001b[0m \u001b[0;34m\u001b[0m\u001b[0m\n",
      "\u001b[0;32m~/anaconda3/lib/python3.7/site-packages/sklearn/linear_model/base.py\u001b[0m in \u001b[0;36mfit\u001b[0;34m(self, X, y, sample_weight)\u001b[0m\n\u001b[1;32m    483\u001b[0m         \u001b[0;32melse\u001b[0m\u001b[0;34m:\u001b[0m\u001b[0;34m\u001b[0m\u001b[0;34m\u001b[0m\u001b[0m\n\u001b[1;32m    484\u001b[0m             \u001b[0mself\u001b[0m\u001b[0;34m.\u001b[0m\u001b[0mcoef_\u001b[0m\u001b[0;34m,\u001b[0m \u001b[0mself\u001b[0m\u001b[0;34m.\u001b[0m\u001b[0m_residues\u001b[0m\u001b[0;34m,\u001b[0m \u001b[0mself\u001b[0m\u001b[0;34m.\u001b[0m\u001b[0mrank_\u001b[0m\u001b[0;34m,\u001b[0m \u001b[0mself\u001b[0m\u001b[0;34m.\u001b[0m\u001b[0msingular_\u001b[0m \u001b[0;34m=\u001b[0m\u001b[0;31m \u001b[0m\u001b[0;31m\\\u001b[0m\u001b[0;34m\u001b[0m\u001b[0;34m\u001b[0m\u001b[0m\n\u001b[0;32m--> 485\u001b[0;31m                 \u001b[0mlinalg\u001b[0m\u001b[0;34m.\u001b[0m\u001b[0mlstsq\u001b[0m\u001b[0;34m(\u001b[0m\u001b[0mX\u001b[0m\u001b[0;34m,\u001b[0m \u001b[0my\u001b[0m\u001b[0;34m)\u001b[0m\u001b[0;34m\u001b[0m\u001b[0;34m\u001b[0m\u001b[0m\n\u001b[0m\u001b[1;32m    486\u001b[0m             \u001b[0mself\u001b[0m\u001b[0;34m.\u001b[0m\u001b[0mcoef_\u001b[0m \u001b[0;34m=\u001b[0m \u001b[0mself\u001b[0m\u001b[0;34m.\u001b[0m\u001b[0mcoef_\u001b[0m\u001b[0;34m.\u001b[0m\u001b[0mT\u001b[0m\u001b[0;34m\u001b[0m\u001b[0;34m\u001b[0m\u001b[0m\n\u001b[1;32m    487\u001b[0m \u001b[0;34m\u001b[0m\u001b[0m\n",
      "\u001b[0;32m~/anaconda3/lib/python3.7/site-packages/scipy/linalg/basic.py\u001b[0m in \u001b[0;36mlstsq\u001b[0;34m(a, b, cond, overwrite_a, overwrite_b, check_finite, lapack_driver)\u001b[0m\n\u001b[1;32m   1233\u001b[0m \u001b[0;34m\u001b[0m\u001b[0m\n\u001b[1;32m   1234\u001b[0m                 x, s, rank, info = lapack_func(a1, b1, lwork,\n\u001b[0;32m-> 1235\u001b[0;31m                                                iwork, cond, False, False)\n\u001b[0m\u001b[1;32m   1236\u001b[0m             \u001b[0;32melse\u001b[0m\u001b[0;34m:\u001b[0m  \u001b[0;31m# complex data\u001b[0m\u001b[0;34m\u001b[0m\u001b[0;34m\u001b[0m\u001b[0m\n\u001b[1;32m   1237\u001b[0m                 lwork, rwork, iwork = _compute_lwork(lapack_lwork, m, n,\n",
      "\u001b[0;31mKeyboardInterrupt\u001b[0m: "
     ]
    }
   ],
   "source": [
    "#10 fold CV across all tissues\n",
    "\n",
    "#Create atlas object to filter on specific tissues\n",
    "atlas = atlas29(ratios,combined_features.iloc[:,-65::])\n",
    "\n",
    "full_tissue_metrics = pd.DataFrame()\n",
    "protein_level_metrics = pd.DataFrame()\n",
    "\n",
    "for tissue in tqdm(atlas.tissues):\n",
    "    data = atlas.filter_tissue_mrna_p(tissue)\n",
    "    kf = KFold(n_splits = 10, shuffle = True, random_state = 0)\n",
    "\n",
    "    cv_results = pd.DataFrame()\n",
    "    cv_results_protein = pd.DataFrame()\n",
    "    \n",
    "    for train_index, test_index in kf.split(data):\n",
    "\n",
    "        reg_model = linear_model.LinearRegression()\n",
    "\n",
    "        x_train = data.iloc[train_index,2::] #mrna level, prot length, embedding features\n",
    "        y_train = data.iloc[train_index,[1]].values #log10 protein level\n",
    "        ratios_train = data.iloc[train_index,[0]].values\n",
    "        \n",
    "        x_test = data.iloc[test_index,2::]\n",
    "        y_test = data.iloc[test_index,[1]].values\n",
    "        ratios_test = data.iloc[test_index,[0]].values\n",
    "\n",
    "        reg_model.fit(x_train, y_train)\n",
    "        predicted = reg_model.predict(x_test) #this predicts log10(protein levels)\n",
    "        \n",
    "        test_mrna = data.iloc[test_index,[2]].values\n",
    "        predicted_ratios = np.log10(10**predicted/10**test_mrna) #use predicted protein levels to compute log10(ratios)\n",
    "        \n",
    "        cv_results = cv_results.append(compute_metrics(predicted_ratios,ratios_test,ratios_train), ignore_index=True)\n",
    "        cv_results_protein = cv_results_protein.append(compute_metrics(predicted,y_test,y_train), ignore_index=True) #evalutates on log10 protein values\n",
    "\n",
    "    mean_cv = cv_results.mean()\n",
    "    mean_cv.name = tissue\n",
    "    full_tissue_metrics = full_tissue_metrics.append(mean_cv)\n",
    "    \n",
    "    mean_cv_protein = cv_results_protein.mean()\n",
    "    mean_cv_protein.name = tissue\n",
    "    protein_level_metrics = protein_level_metrics.append(mean_cv_protein)\n",
    "    \n",
    "print(full_tissue_metrics.mean()) #metrics when comparing ratio computed from predicted proteins to truth ratios\n",
    "print(protein_level_metrics.mean()) #metrics when comparing the predicted protein levels to the truth levels"
   ]
  },
  {
   "cell_type": "markdown",
   "metadata": {},
   "source": [
    "#### 10 fold cross validation for each tissue using protein embeddings + protein length to predict log10(ratio)"
   ]
  },
  {
   "cell_type": "code",
   "execution_count": 23,
   "metadata": {},
   "outputs": [
    {
     "name": "stderr",
     "output_type": "stream",
     "text": [
      "100%|██████████| 29/29 [03:03<00:00,  3.31s/it]"
     ]
    },
    {
     "name": "stdout",
     "output_type": "stream",
     "text": [
      "evs              2.167242e-01\n",
      "mae              6.172125e-01\n",
      "mean_abs_fc      4.148523e+00\n",
      "median_abs_fc    3.260522e+00\n",
      "mse              6.180251e-01\n",
      "pearsonr         4.735440e-01\n",
      "pearsonr_p       2.354292e-30\n",
      "r2               2.154932e-01\n",
      "smse             7.832909e-01\n",
      "spearmanrho      4.658516e-01\n",
      "spearmanrho_p    1.312947e-28\n",
      "dtype: float64\n",
      "evs              4.478898e-01\n",
      "mae              6.172113e-01\n",
      "mean_abs_fc      4.148512e+00\n",
      "median_abs_fc    3.260340e+00\n",
      "mse              6.180233e-01\n",
      "pearsonr         6.513078e-01\n",
      "pearsonr_p       3.395738e-57\n",
      "r2               4.470262e-01\n",
      "smse             5.522254e-01\n",
      "spearmanrho      6.701251e-01\n",
      "spearmanrho_p    5.402342e-65\n",
      "dtype: float64\n"
     ]
    },
    {
     "name": "stderr",
     "output_type": "stream",
     "text": [
      "\n"
     ]
    }
   ],
   "source": [
    "#10 fold CV across all tissues\n",
    "\n",
    "#Create atlas object to filter on specific tissues\n",
    "atlas = atlas29(ratios,combined_features.iloc[:,-65::])\n",
    "\n",
    "ratio_metrics = pd.DataFrame()\n",
    "protein_from_ratio_metrics = pd.DataFrame()\n",
    "\n",
    "for tissue in tqdm(atlas.tissues):\n",
    "    data = atlas.filter_tissue_mrna_p(tissue)\n",
    "    kf = KFold(n_splits = 10, shuffle = True, random_state = 0)\n",
    "\n",
    "    cv_ratio_metrics = pd.DataFrame()\n",
    "    cv_protein_from_ratio_metrics = pd.DataFrame()\n",
    "    \n",
    "    for train_index, test_index in kf.split(data):\n",
    "\n",
    "        reg_model = linear_model.LinearRegression()\n",
    "\n",
    "        #Train data\n",
    "        x_train = data.iloc[train_index,3::]\n",
    "        y_train = data.iloc[train_index,[0]].values #log10 ratios\n",
    "        train_protein = data.iloc[train_index,[1]].values #log10 protein\n",
    "        \n",
    "        #Test data\n",
    "        x_test = data.iloc[test_index,3::]\n",
    "        y_test = data.iloc[test_index,[0]].values #log10 ratios\n",
    "\n",
    "        #model fit and evaluation\n",
    "        reg_model.fit(x_train, y_train)\n",
    "        predicted_ratios = reg_model.predict(x_test) #this predicts log10(raw_ratio)\n",
    "        \n",
    "        #Back calculating log10 protein from ratio and test mRNA\n",
    "        test_protein = data.iloc[test_index,[1]].values #log10 protein\n",
    "        test_mrna = 10**data.iloc[test_index,[2]].values #raw mRNA\n",
    "        protein_from_ratio = np.log10((10**predicted_ratios)*test_mrna) #log10 protein\n",
    "\n",
    "        #compute metrics\n",
    "        cv_ratio_metrics = cv_ratio_metrics.append(compute_metrics(predicted_ratios,y_test,y_train), ignore_index=True)\n",
    "        cv_protein_from_ratio_metrics = cv_protein_from_ratio_metrics.append(compute_metrics(protein_from_ratio,test_protein,train_protein), ignore_index=True)\n",
    "\n",
    "    mean_cv = cv_ratio_metrics.mean()\n",
    "    mean_cv.name = tissue\n",
    "    ratio_metrics = ratio_metrics.append(mean_cv)\n",
    "    \n",
    "    mean_cv_protein = cv_protein_from_ratio_metrics.mean()\n",
    "    mean_cv_protein.name = tissue\n",
    "    protein_from_ratio_metrics = protein_from_ratio_metrics.append(mean_cv_protein)\n",
    "    \n",
    "print(ratio_metrics.mean()) #metrics when comparing predicted ratios to truth ratios\n",
    "print(protein_from_ratio_metrics.mean()) #metrics when comparing the protein levels from predicted ratios to the truth levels"
   ]
  },
  {
   "cell_type": "code",
   "execution_count": 25,
   "metadata": {},
   "outputs": [
    {
     "data": {
      "text/plain": [
       "<matplotlib.collections.PathCollection at 0x7f8dc000cf28>"
      ]
     },
     "execution_count": 25,
     "metadata": {},
     "output_type": "execute_result"
    },
    {
     "data": {
      "image/png": "[encoded data removed]",
      "text/plain": [
       "<Figure size 864x720 with 1 Axes>"
      ]
     },
     "metadata": {
      "needs_background": "light"
     },
     "output_type": "display_data"
    }
   ],
   "source": [
    "fig = plt.figure()\n",
    "fig.set_size_inches(12,10)\n",
    "ax = fig.add_subplot(111)\n",
    "ax.scatter(y_test,predicted_ratios)\n",
    "ax.scatter(test_protein,protein_from_ratio)\n"
   ]
  },
  {
   "cell_type": "code",
   "execution_count": 71,
   "metadata": {},
   "outputs": [
    {
     "data": {
      "text/plain": [
       "{'mae': 0.0002498822975519673,\n",
       " 'mse': 2.498822975517781e-07,\n",
       " 'smse': 2.0791330708880166e-07,\n",
       " 'r2': 0.9999997920866929,\n",
       " 'evs': 0.9999997920963871,\n",
       " 'spearmanrho': 0.9999998960554783,\n",
       " 'spearmanrho_p': 0.0,\n",
       " 'pearsonr': 0.9999998121802911,\n",
       " 'pearsonr_p': 0.0,\n",
       " 'median_abs_fc': 1.0,\n",
       " 'mean_abs_fc': 1.000575540813439}"
      ]
     },
     "execution_count": 71,
     "metadata": {},
     "output_type": "execute_result"
    }
   ],
   "source": [
    "ptr = atlas.filter_tissue_mrna_p('Brain').iloc[:,[0]]\n",
    "protein = atlas.filter_tissue_mrna_p('Brain').iloc[:,[1]].values\n",
    "mrna = atlas.filter_tissue_mrna_p('Brain').iloc[:,[2]]\n",
    "computed_protein = np.log10((10**ptr).values*(10**mrna).values)\n",
    "compute_metrics(computed_protein,protein,protein)"
   ]
  }
 ],
 "metadata": {
  "kernelspec": {
   "display_name": "Python 3",
   "language": "python",
   "name": "python3"
  },
  "language_info": {
   "codemirror_mode": {
    "name": "ipython",
    "version": 3
   },
   "file_extension": ".py",
   "mimetype": "text/x-python",
   "name": "python",
   "nbconvert_exporter": "python",
   "pygments_lexer": "ipython3",
   "version": "3.7.3"
  }
 },
 "nbformat": 4,
 "nbformat_minor": 4
}
