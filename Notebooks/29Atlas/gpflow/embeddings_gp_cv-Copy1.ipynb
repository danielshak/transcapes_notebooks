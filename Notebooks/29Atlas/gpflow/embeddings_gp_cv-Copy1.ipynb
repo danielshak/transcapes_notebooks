{
 "cells": [
  {
   "cell_type": "markdown",
   "metadata": {},
   "source": [
    "## Gaussian Process regression on the human tissue atlas. Ideal if can be done for all feature combinations.\n",
    "* rna + original 204 features\n",
    "* rna + protein embeddings\n",
    "* rna + protein embeddings + protein length\n",
    "\n",
    "Ratios are computed as log10(10^protein/10^mrna)"
   ]
  },
  {
   "cell_type": "code",
   "execution_count": 1,
   "metadata": {},
   "outputs": [],
   "source": [
    "import scipy.stats\n",
    "import sys\n",
    "import os\n",
    "sys.path.append('../../Utils')\n",
    "from metrics import compute_metrics\n",
    "\n",
    "import pandas as pd\n",
    "import numpy as np\n",
    "import matplotlib.pyplot as plt\n",
    "import seaborn as sns\n",
    "import pickle\n",
    "import tensorflow as tf\n",
    "import gpflow\n",
    "import time\n",
    "from tqdm import tqdm\n",
    "\n",
    "from gpflow.utilities import print_summary\n",
    "from sklearn.model_selection import train_test_split\n",
    "import sklearn.metrics\n",
    "from sklearn.model_selection import KFold\n",
    "#gpflow.config.set_default_float('float32')"
   ]
  },
  {
   "cell_type": "code",
   "execution_count": 2,
   "metadata": {},
   "outputs": [],
   "source": [
    "current_dir = os.getcwd()\n",
    "data_dir = os.path.join(current_dir, '../../../Data/')\n",
    "\n",
    "ratios_path = data_dir+'29Atlas/QuantificationTables/Table_EV3/Table_EV3.tsv'\n",
    "features_path = data_dir+'29Atlas/QuantificationTables/Table_EV6/Table_EV6.tsv'\n",
    "embeddings_path =data_dir+'29Atlas/protein_embeddings/atlas_embeddings.pkl'"
   ]
  },
  {
   "cell_type": "code",
   "execution_count": 3,
   "metadata": {},
   "outputs": [],
   "source": [
    "ratios = pd.read_csv(ratios_path,sep='\\t',index_col=0)\n",
    "features = pd.read_csv(features_path,sep='\\t',index_col=0,usecols=[0]+list(range(4,208)))\n",
    "with open(embeddings_path, 'rb') as file:\n",
    "    embeddings = pickle.load(file)"
   ]
  },
  {
   "cell_type": "code",
   "execution_count": 4,
   "metadata": {},
   "outputs": [],
   "source": [
    "#creating dataframe using avg embedding value only\n",
    "avg_embeddings = pd.DataFrame(embeddings.avg_embedding.values.tolist(),\n",
    "                                        index = embeddings.index)\n",
    "\n",
    "#Including log2 protein length\n",
    "protein_length = pd.DataFrame(np.log2(embeddings.loc[:,'protein_sequence'].str.len()))\n",
    "protein_length.rename(columns = {'protein_sequence':'protein_length'}, inplace = True) \n",
    "\n",
    "#concating features together\n",
    "combined_features = pd.concat([features,protein_length,avg_embeddings],axis='columns',sort=True)"
   ]
  },
  {
   "cell_type": "markdown",
   "metadata": {},
   "source": [
    "#### Simple class object used to filter atlas dataset based on tissue"
   ]
  },
  {
   "cell_type": "code",
   "execution_count": 5,
   "metadata": {},
   "outputs": [],
   "source": [
    "class atlas29():\n",
    "    def __init__(self,ratios,features):\n",
    "        \"\"\"\n",
    "        Data class to filter ratios and features tables for specific tissues and genes found in that tissue\n",
    "        \"\"\"\n",
    "        assert isinstance(ratios,pd.DataFrame)\n",
    "        assert isinstance(features,pd.DataFrame)\n",
    "        \n",
    "        self.ratios = ratios\n",
    "        self.features = features\n",
    "        self.tissues = [name.split('_')[0] for name in ratios.columns if '_PTR' in name]\n",
    "        \n",
    "    def filter_tissue(self,tissue_name):\n",
    "        \"\"\"\n",
    "        Function to filter ratios and features for present genes and combine to single dataframe\n",
    "        \"\"\"\n",
    "        assert tissue_name in self.tissues, \"Given tissue name is not in data\"\n",
    "        \n",
    "        genes_present = ~self.ratios[tissue_name+'_PTR'].str.contains('NA')\n",
    "        ratios_present = self.ratios[[tissue_name+'_PTR']][genes_present].astype(float)\n",
    "        features = ratios_present.join(self.features)\n",
    "        return features\n",
    "    \n",
    "    def filter_tissue_mrna_p(self,tissue_name):\n",
    "        \"\"\"\n",
    "        Function to filter ratios, mrna, protein and features for present genes and combine to single dataframe\n",
    "        \"\"\"\n",
    "        assert tissue_name in self.tissues, \"Given tissue name is not in data\"\n",
    "        \n",
    "        genes_present = ~self.ratios[tissue_name+'_PTR'].str.contains('NA')\n",
    "        ratios_present = self.ratios[[tissue_name+'_PTR',tissue_name+'_protein',tissue_name+'_mRNA']][genes_present].astype(float)\n",
    "        features = ratios_present.join(self.features)\n",
    "        return features"
   ]
  },
  {
   "cell_type": "code",
   "execution_count": 6,
   "metadata": {},
   "outputs": [
    {
     "name": "stdout",
     "output_type": "stream",
     "text": [
      "TF eager exectution: True\n",
      "Using device PhysicalDevice(name='/physical_device:GPU:1', device_type='GPU')\n"
     ]
    }
   ],
   "source": [
    "device = 1\n",
    "physical_devices = tf.config.experimental.list_physical_devices('GPU')\n",
    "tf.config.experimental.set_visible_devices(physical_devices[device], 'GPU')\n",
    "\n",
    "print(f'TF eager exectution: {tf.executing_eagerly()}')\n",
    "print(f'Using device {physical_devices[device]}')"
   ]
  },
  {
   "cell_type": "markdown",
   "metadata": {},
   "source": [
    "### GP using mrna and protein embeddings only"
   ]
  },
  {
   "cell_type": "code",
   "execution_count": 7,
   "metadata": {},
   "outputs": [],
   "source": [
    "#First columns is ptr\n",
    "atlas_mrna_embeddings = atlas29(ratios,combined_features.iloc[:,-64::])\n",
    "atlas_mrna_embeddings_length = atlas29(ratios,combined_features.iloc[:,-65::])\n",
    "atlas_mrna_original_204 = atlas29(ratios,combined_features.iloc[:,0:204])"
   ]
  },
  {
   "cell_type": "code",
   "execution_count": 8,
   "metadata": {},
   "outputs": [],
   "source": [
    "def zscore(train_df):\n",
    "    assert isinstance(train_df,pd.DataFrame)\n",
    "    means = train_df.mean(axis=0)\n",
    "    stds = train_df.std(axis=0)\n",
    "    zscored = (train_df-means)/stds\n",
    "    return zscored, means, stds"
   ]
  },
  {
   "cell_type": "code",
   "execution_count": 24,
   "metadata": {},
   "outputs": [
    {
     "name": "stderr",
     "output_type": "stream",
     "text": [
      "  0%|          | 0/1 [00:00<?, ?it/s]"
     ]
    },
    {
     "name": "stdout",
     "output_type": "stream",
     "text": [
      "1\n",
      "2\n",
      "3\n",
      "4\n",
      "5\n"
     ]
    },
    {
     "name": "stderr",
     "output_type": "stream",
     "text": [
      "100%|██████████| 1/1 [05:03<00:00, 303.16s/it]\n"
     ]
    }
   ],
   "source": [
    "mrna_embeddings_metrics_train = pd.DataFrame()\n",
    "mrna_embeddings_metrics_test = pd.DataFrame()\n",
    "tissues = ['Kidney', 'Tonsil','Salivarygland','Lymphnode','Brain','Adrenal','Thyroid','Testis']\n",
    "tissues = ['Adrenal']\n",
    "\n",
    "#for tissue in tqdm(atlas_mrna_embeddings.tissues):\n",
    "#for tissue in tqdm(['Kidney']):\n",
    "for tissue in tqdm(tissues):\n",
    "    data = atlas_mrna_embeddings_length.filter_tissue_mrna_p(tissue).drop(f'{tissue}_PTR',axis=1)\n",
    "    kf = KFold(n_splits = 5, shuffle = True)    \n",
    "    train_results = pd.DataFrame()\n",
    "    test_results = pd.DataFrame()\n",
    "    counter = 0\n",
    "    for train_index, test_index in kf.split(data):\n",
    "        try:\n",
    "            counter += 1\n",
    "            print(counter)\n",
    "            #Initialize data\n",
    "            train = data.iloc[train_index,:]\n",
    "            test = data.iloc[test_index,:]\n",
    "            train, train_mean, train_std = zscore(train)\n",
    "            test = (test-train_mean)/train_std\n",
    "            protein_column = f'{tissue}_protein'\n",
    "            x_train = train.loc[:, train.columns != protein_column].values#.astype(np.float32)\n",
    "            y_train = train[[protein_column]].values#.astype(np.float32)\n",
    "            x_test = test.loc[:, test.columns != protein_column].values#.astype(np.float32)\n",
    "            y_test = test[[protein_column]].values#.astype(np.float32)\n",
    "\n",
    "            #Initialize model\n",
    "            #Initialize kernel, indicate lengthscale to initialize ARD\n",
    "            k = gpflow.kernels.SquaredExponential(lengthscale=[1]*x_train.shape[1])\n",
    "            #k = gpflow.kernels.Matern52(lengthscale=[1]*x_train.shape[1])\n",
    "            m = gpflow.models.GPR(data=(x_train, y_train), kernel=k, mean_function=None)\n",
    "            m.likelihood.variance.assign(0.001)\n",
    "\n",
    "            #Optimization\n",
    "            opt = gpflow.optimizers.Scipy()\n",
    "            def objective_closure():\n",
    "                return - m.log_marginal_likelihood()\n",
    "            opt_logs = opt.minimize(objective_closure,\n",
    "                                    m.trainable_variables,\n",
    "                                    options=dict(maxiter=100))\n",
    "\n",
    "            #Predictions\n",
    "            mean, var = m.predict_f(x_train)\n",
    "            metrics = compute_metrics(mean.numpy(), y_train, y_train, fc_scale=10)\n",
    "            metrics['loss'] = opt_logs.fun\n",
    "            train_results = train_results.append(metrics,ignore_index=True)\n",
    "\n",
    "            mean, var = m.predict_f(x_test)\n",
    "            metrics = compute_metrics(mean.numpy(), y_test, y_train, fc_scale=10)\n",
    "            metrics['loss'] = opt_logs.fun\n",
    "            test_results = test_results.append(metrics,ignore_index=True)\n",
    "        except Exception:\n",
    "            continue\n",
    "        \n",
    "    \n",
    "    train_mean = train_results.mean()\n",
    "    train_mean.name = f'{tissue}_train'\n",
    "    test_mean = test_results.mean()\n",
    "    test_mean.name  = f'{tissue}_test'\n",
    "\n",
    "    #mrna_embeddings_metrics_train = mrna_embeddings_metrics_train.append(train_mean)\n",
    "    #mrna_embeddings_metrics_test = mrna_embeddings_metrics_test.append(test_mean)"
   ]
  },
  {
   "cell_type": "code",
   "execution_count": 41,
   "metadata": {},
   "outputs": [],
   "source": [
    "# mrna_embeddings_metrics_train.to_csv('results/gp_train_cv_mra_embed_length.tsv',sep='\\t')\n",
    "#mrna_embeddings_metrics_test.to_csv('results/gp_test_cv_mra_embed_length.tsv',sep='\\t')\n",
    "#mrna_embeddings_metrics_test.mean().to_frame().T.to_csv('results/avg_test_cv_mra_embed_length.tsv',sep='\\t')"
   ]
  }
 ],
 "metadata": {
  "kernelspec": {
   "display_name": "Python [conda env:tf2]",
   "language": "python",
   "name": "conda-env-tf2-py"
  },
  "language_info": {
   "codemirror_mode": {
    "name": "ipython",
    "version": 3
   },
   "file_extension": ".py",
   "mimetype": "text/x-python",
   "name": "python",
   "nbconvert_exporter": "python",
   "pygments_lexer": "ipython3",
   "version": "3.7.6"
  }
 },
 "nbformat": 4,
 "nbformat_minor": 4
}
