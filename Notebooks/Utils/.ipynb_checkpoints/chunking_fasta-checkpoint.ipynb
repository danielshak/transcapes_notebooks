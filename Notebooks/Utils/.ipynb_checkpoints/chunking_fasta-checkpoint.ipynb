{
 "cells": [
  {
   "cell_type": "code",
   "execution_count": 13,
   "metadata": {},
   "outputs": [],
   "source": [
    "import numpy as np"
   ]
  },
  {
   "cell_type": "code",
   "execution_count": 14,
   "metadata": {},
   "outputs": [
    {
     "data": {
      "text/plain": [
       "232287"
      ]
     },
     "execution_count": 14,
     "metadata": {},
     "output_type": "execute_result"
    }
   ],
   "source": [
    "with open('../../Data/missing_proteins/uniparc_sequences.fasta','r') as file:\n",
    "    sequences = file.read().splitlines()\n",
    "#num lines\n",
    "len(sequences)"
   ]
  },
  {
   "cell_type": "code",
   "execution_count": 15,
   "metadata": {},
   "outputs": [
    {
     "name": "stdout",
     "output_type": "stream",
     "text": [
      "number of proteins 26333\n"
     ]
    }
   ],
   "source": [
    "num_proteins = 0\n",
    "for seq in sequences:\n",
    "    if '>' in seq:\n",
    "        num_proteins += 1\n",
    "print(f'number of proteins {num_proteins}')"
   ]
  },
  {
   "cell_type": "code",
   "execution_count": 17,
   "metadata": {},
   "outputs": [
    {
     "name": "stdout",
     "output_type": "stream",
     "text": [
      "chunk size is 878.0\n"
     ]
    }
   ],
   "source": [
    "#number of chunks\n",
    "chunks = 30\n",
    "prot_per_chunk = np.ceil(num_proteins/chunks)\n",
    "print(f'chunk size is {prot_per_chunk}')"
   ]
  },
  {
   "cell_type": "code",
   "execution_count": 18,
   "metadata": {},
   "outputs": [],
   "source": [
    "chunk_list = []\n",
    "temp = []\n",
    "sub_chunk = []\n",
    "counter = 0\n",
    "    \n",
    "for seq in sequences:\n",
    "    if '>' in seq:\n",
    "        counter += 1\n",
    "    \n",
    "    if counter > prot_per_chunk:\n",
    "        chunk_list.append('\\n'.join(sub_chunk))\n",
    "        temp.append(sub_chunk)\n",
    "        sub_chunk = []\n",
    "        counter = 1 #set to 1 since will append this to the new list\n",
    "            \n",
    "    sub_chunk.append(seq)\n",
    "#last sub chunk needs to be appended\n",
    "chunk_list.append('\\n'.join(sub_chunk))\n",
    "temp.append(sub_chunk)"
   ]
  },
  {
   "cell_type": "code",
   "execution_count": 19,
   "metadata": {},
   "outputs": [
    {
     "name": "stdout",
     "output_type": "stream",
     "text": [
      "878\n",
      "878\n",
      "878\n",
      "878\n",
      "878\n",
      "878\n",
      "878\n",
      "878\n",
      "878\n",
      "878\n",
      "878\n",
      "878\n",
      "878\n",
      "878\n",
      "878\n",
      "878\n",
      "878\n",
      "878\n",
      "878\n",
      "878\n",
      "878\n",
      "878\n",
      "878\n",
      "878\n",
      "878\n",
      "878\n",
      "878\n",
      "878\n",
      "878\n",
      "871\n"
     ]
    }
   ],
   "source": [
    "for chunk in chunk_list:\n",
    "    counts = sum([1 for character in chunk if '>' == character])\n",
    "    print(counts)"
   ]
  },
  {
   "cell_type": "code",
   "execution_count": 20,
   "metadata": {},
   "outputs": [
    {
     "name": "stdout",
     "output_type": "stream",
     "text": [
      ">UPI0000001A56 status=active\n",
      ">UPI0000028D6F status=active\n",
      ">UPI000C2E9EAF status=active\n",
      ">UPI00053BD8C6 status=active\n",
      ">UPI000198D10B status=active\n",
      ">UPI000B3D7C66 status=active\n",
      ">UPI000189A8E4 status=active\n",
      ">UPI0008FC1CCA status=active\n",
      ">UPI000000DC89 status=active\n",
      ">UPI0002A477CC status=active\n",
      ">UPI00053BD673 status=active\n",
      ">UPI0000356774 status=active\n",
      ">UPI000198D15A status=active\n",
      ">UPI00001F3B5F status=active\n",
      ">UPI0000F22454 status=active\n",
      ">UPI0007699F28 status=active\n",
      ">UPI0000023C6C status=active\n",
      ">UPI0000024B01 status=active\n",
      ">UPI0003B929E5 status=active\n",
      ">UPI0000193A3E status=active\n",
      ">UPI000BAD5A7B status=active\n",
      ">UPI0000027B4A status=active\n",
      ">UPI00005661EC status=active\n",
      ">UPI00000E9518 status=active\n",
      ">UPI00001C3DD8 status=active\n",
      ">UPI00005B2E3B status=active\n",
      ">UPI000024FBFD status=active\n",
      ">UPI00005AB890 status=active\n",
      ">UPI000002519D status=active\n",
      ">UPI0001F788E7 status=active\n"
     ]
    }
   ],
   "source": [
    "for chunk in temp:\n",
    "    print(chunk[0])"
   ]
  },
  {
   "cell_type": "code",
   "execution_count": 22,
   "metadata": {},
   "outputs": [],
   "source": [
    "for i, chunk in enumerate(chunk_list):\n",
    "    with open(f'../../Data/missing_proteins/chunks/ppg_missing_chunk{i}.fasta','w') as file:\n",
    "        file.write(chunk)"
   ]
  }
 ],
 "metadata": {
  "kernelspec": {
   "display_name": "Python 3",
   "language": "python",
   "name": "python3"
  },
  "language_info": {
   "codemirror_mode": {
    "name": "ipython",
    "version": 3
   },
   "file_extension": ".py",
   "mimetype": "text/x-python",
   "name": "python",
   "nbconvert_exporter": "python",
   "pygments_lexer": "ipython3",
   "version": "3.7.3"
  }
 },
 "nbformat": 4,
 "nbformat_minor": 4
}
